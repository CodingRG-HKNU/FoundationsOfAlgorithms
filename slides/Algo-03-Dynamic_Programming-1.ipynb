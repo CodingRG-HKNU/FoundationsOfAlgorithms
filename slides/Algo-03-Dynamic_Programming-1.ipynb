{
 "cells": [
  {
   "cell_type": "markdown",
   "metadata": {
    "slideshow": {
     "slide_type": "slide"
    }
   },
   "source": [
    "# 3장 동적계획"
   ]
  },
  {
   "cell_type": "markdown",
   "metadata": {
    "slideshow": {
     "slide_type": "slide"
    }
   },
   "source": [
    "## 주요 내용"
   ]
  },
  {
   "cell_type": "markdown",
   "metadata": {
    "slideshow": {
     "slide_type": "slide"
    }
   },
   "source": [
    "### 1편"
   ]
  },
  {
   "cell_type": "markdown",
   "metadata": {
    "slideshow": {
     "slide_type": ""
    }
   },
   "source": [
    "* 1절 이항계수 구하기"
   ]
  },
  {
   "cell_type": "markdown",
   "metadata": {
    "slideshow": {
     "slide_type": "fragment"
    }
   },
   "source": [
    "* 2절 플로이드-워셜 최단경로 알고리즘"
   ]
  },
  {
   "cell_type": "markdown",
   "metadata": {
    "slideshow": {
     "slide_type": "fragment"
    }
   },
   "source": [
    "* 3절 동적계획과 최적화 문제"
   ]
  },
  {
   "cell_type": "markdown",
   "metadata": {
    "slideshow": {
     "slide_type": "slide"
    }
   },
   "source": [
    "### 2편"
   ]
  },
  {
   "cell_type": "markdown",
   "metadata": {
    "slideshow": {
     "slide_type": ""
    }
   },
   "source": [
    "* 4절 외판원 문제"
   ]
  },
  {
   "cell_type": "markdown",
   "metadata": {
    "slideshow": {
     "slide_type": "fragment"
    }
   },
   "source": [
    "* 추가 내용: 0-1 배낭 채우기 문제"
   ]
  },
  {
   "cell_type": "markdown",
   "metadata": {
    "slideshow": {
     "slide_type": "slide"
    }
   },
   "source": [
    "## 동적계획"
   ]
  },
  {
   "cell_type": "markdown",
   "metadata": {
    "slideshow": {
     "slide_type": "slide"
    }
   },
   "source": [
    "* 분할정복 알고리즘과 유사함."
   ]
  },
  {
   "cell_type": "markdown",
   "metadata": {
    "slideshow": {
     "slide_type": "fragment"
    }
   },
   "source": [
    "* 문제의 입력사례를 분할하여 문제를 해결함"
   ]
  },
  {
   "cell_type": "markdown",
   "metadata": {
    "slideshow": {
     "slide_type": "fragment"
    }
   },
   "source": [
    "* 하지만, 작은 입력사례에 대한 결과를 기억해 두고, 나중에 필요할 때 사용한다는 점에서 분할정복과 다름."
   ]
  },
  {
   "cell_type": "markdown",
   "metadata": {
    "slideshow": {
     "slide_type": "slide"
    }
   },
   "source": [
    "### 하향식 대 상향식"
   ]
  },
  {
   "cell_type": "markdown",
   "metadata": {},
   "source": [
    "* 분할정복: 하향식(top-down) 방식. 재귀 알고리즘 구현 적절."
   ]
  },
  {
   "cell_type": "markdown",
   "metadata": {
    "slideshow": {
     "slide_type": "fragment"
    }
   },
   "source": [
    "* 동적계획: 상향식(bottom-up) 방식. 작은 입력사례의 결과의 기억해두기."
   ]
  },
  {
   "cell_type": "markdown",
   "metadata": {
    "slideshow": {
     "slide_type": "slide"
    }
   },
   "source": [
    "### 계획(programming)의 어원"
   ]
  },
  {
   "cell_type": "markdown",
   "metadata": {
    "slideshow": {
     "slide_type": "fragment"
    }
   },
   "source": [
    "* 계획(programming)의 원래 의미: 저장용도의 배열 구현하기"
   ]
  },
  {
   "cell_type": "markdown",
   "metadata": {
    "slideshow": {
     "slide_type": "slide"
    }
   },
   "source": [
    "## 1절 이항계수 구하기"
   ]
  },
  {
   "cell_type": "markdown",
   "metadata": {
    "slideshow": {
     "slide_type": "slide"
    }
   },
   "source": [
    "### 파스칼의 삼각형"
   ]
  },
  {
   "cell_type": "markdown",
   "metadata": {
    "slideshow": {
     "slide_type": ""
    }
   },
   "source": [
    "* 이전 행의 두 원소를 더해 새로운 원소를 추가해서 만드는 삼각형\n",
    "* $n$번 행의 $k$번째 값 $a_{n, k}$에 대해 다음 점화식 성립:\n",
    "\n",
    "    $$a_{n, k} = a_{(n-1), (k-1)} + a_{(n-1), k}$$\n"
   ]
  },
  {
   "cell_type": "markdown",
   "metadata": {
    "slideshow": {
     "slide_type": "fragment"
    }
   },
   "source": [
    "<div align=\"center\"><img src=\"./images/algo03/algo03-01.gif\" width=\"250\"/></div>\n",
    "\n",
    "<출처: [파스칼의 삼각형(위키피디아)](https://en.wikipedia.org/wiki/Pascal%27s_triangle)>"
   ]
  },
  {
   "cell_type": "markdown",
   "metadata": {
    "slideshow": {
     "slide_type": "slide"
    }
   },
   "source": [
    "### 이항계수"
   ]
  },
  {
   "cell_type": "markdown",
   "metadata": {},
   "source": [
    "* 파스칼의 삼각형에 사용된 값은 이항계수와 동일. 이유는 잠시 뒤 설명."
   ]
  },
  {
   "cell_type": "markdown",
   "metadata": {},
   "source": [
    "$$a_{n, k} = {n\\choose k}$$"
   ]
  },
  {
   "cell_type": "markdown",
   "metadata": {
    "slideshow": {
     "slide_type": "slide"
    }
   },
   "source": [
    "#### 이항계수의 의미 1"
   ]
  },
  {
   "cell_type": "markdown",
   "metadata": {},
   "source": [
    "* 서로 다른 $n$ 개의 구술 중에서 임의로 서로 다른 $k$개의 구술을 선택하는 방법 (단, $0 \\le k \\le n$)."
   ]
  },
  {
   "cell_type": "markdown",
   "metadata": {},
   "source": [
    "$$\n",
    "{n\\choose k} = \\frac{n!}{k! \\, (n-k)!}    \n",
    "$$"
   ]
  },
  {
   "cell_type": "markdown",
   "metadata": {
    "slideshow": {
     "slide_type": "slide"
    }
   },
   "source": [
    "#### 이항계수의 의미 2"
   ]
  },
  {
   "cell_type": "markdown",
   "metadata": {},
   "source": [
    "* 아래 다항식의 계수:"
   ]
  },
  {
   "cell_type": "markdown",
   "metadata": {
    "slideshow": {
     "slide_type": ""
    }
   },
   "source": [
    "\\begin{align*}\n",
    "(x + y)^n &= b_0\\, x^n\\, y^0 + b_1\\, x^{n-1}\\, y^1 + b_2\\, x^{n-2}\\, y^2 + \n",
    "\\cdots + b_{n-1}\\, x^1\\, y^{n-1} + b_n\\, x^0\\, y^n \\\\\n",
    "&= \\sum_{k=0}^{n} {n\\choose k}\\, x^{n-k}\\, y^k\n",
    "\\end{align*}"
   ]
  },
  {
   "cell_type": "markdown",
   "metadata": {
    "slideshow": {
     "slide_type": "slide"
    }
   },
   "source": [
    "* 응용 예제"
   ]
  },
  {
   "cell_type": "markdown",
   "metadata": {
    "slideshow": {
     "slide_type": ""
    }
   },
   "source": [
    "\\begin{align*}\n",
    "2^n &= (1 + 1)^n \\\\\n",
    "&= \\sum_{k=0}^{n} {n \\choose k}\\\\\n",
    "&= {n\\choose 0} + {n\\choose 1} + {n\\choose 2} + \\cdots + {n\\choose n-1} + {n\\choose n}\n",
    "\\end{align*}"
   ]
  },
  {
   "cell_type": "markdown",
   "metadata": {
    "slideshow": {
     "slide_type": "slide"
    }
   },
   "source": [
    "### 이항계수와 파스칼의 삼각형"
   ]
  },
  {
   "cell_type": "markdown",
   "metadata": {
    "slideshow": {
     "slide_type": "slide"
    }
   },
   "source": [
    "* 이항계수에 대해 아래 점화식 성립(증명 생략)"
   ]
  },
  {
   "cell_type": "markdown",
   "metadata": {},
   "source": [
    "$$\n",
    "{n\\choose k} = \n",
    "\\begin{cases}\n",
    "{n-1 \\choose k-1} + {n-1\\choose k}, & 0 < k < n \\\\\n",
    "& \\\\\n",
    "1, & k \\in \\{0, n\\}\n",
    "\\end{cases}\n",
    "$$"
   ]
  },
  {
   "cell_type": "markdown",
   "metadata": {
    "slideshow": {
     "slide_type": "slide"
    }
   },
   "source": [
    "* 2차원 행렬 형식으로 표현하면 다음과 같음."
   ]
  },
  {
   "cell_type": "markdown",
   "metadata": {},
   "source": [
    "```\n",
    "1\n",
    "1 1\n",
    "1 2 1\n",
    "1 3 3 1\n",
    "1 4 6 4 1\n",
    "1 5 10 10 5 1\n",
    "...\n",
    "```"
   ]
  },
  {
   "cell_type": "markdown",
   "metadata": {
    "slideshow": {
     "slide_type": "slide"
    }
   },
   "source": [
    "### 이항계수 알고리즘 구현: 재귀 (분할정복)"
   ]
  },
  {
   "cell_type": "markdown",
   "metadata": {
    "slideshow": {
     "slide_type": "fragment"
    }
   },
   "source": [
    "* 문제: 이항계수 계산\n",
    "\n",
    "* 입력 파라미터: 음이 아닌 정수 $n$과 $k$, 단, $k \\le n$.\n",
    "\n",
    "* 반환값: ${n \\choose k}$"
   ]
  },
  {
   "cell_type": "code",
   "execution_count": 6,
   "metadata": {
    "slideshow": {
     "slide_type": ""
    }
   },
   "outputs": [],
   "source": [
    "# 이항계수 재귀 알고리즘\n",
    "\n",
    "def bin(n, k):\n",
    "    # 초기값\n",
    "    if k == 0 or k == n:\n",
    "        return 1\n",
    "\n",
    "    else:    \n",
    "        return bin(n-1, k-1) + bin(n-1, k)"
   ]
  },
  {
   "cell_type": "markdown",
   "metadata": {
    "slideshow": {
     "slide_type": "slide"
    }
   },
   "source": [
    "* 재귀 피보나찌 수열 함수와 유사. (1장 참조)"
   ]
  },
  {
   "cell_type": "markdown",
   "metadata": {},
   "source": [
    "```python\n",
    "def fib(n):\n",
    "    if (n <= 1):\n",
    "        return n\n",
    "    else:\n",
    "        return fib(n-2) + fib(n-1)\n",
    "```"
   ]
  },
  {
   "cell_type": "markdown",
   "metadata": {
    "slideshow": {
     "slide_type": "slide"
    }
   },
   "source": [
    "#### `bin` 알고리즘의 복잡도"
   ]
  },
  {
   "cell_type": "markdown",
   "metadata": {},
   "source": [
    "* 매우 비효율적임."
   ]
  },
  {
   "cell_type": "markdown",
   "metadata": {},
   "source": [
    "* 이유: 반복된 계산이 매우 많음. 피보나찌 수열의 경우와 유사."
   ]
  },
  {
   "cell_type": "markdown",
   "metadata": {},
   "source": [
    "* 예를 들어, `bin(n-1, k-1)` 과 `bin(n-1, k)` 는 둘 모두 \n",
    "    서로 독립적으로 `bin(n-2, k-1)`를 계산함."
   ]
  },
  {
   "cell_type": "markdown",
   "metadata": {
    "slideshow": {
     "slide_type": "slide"
    }
   },
   "source": [
    "* `bin(n, k)` 계산을 위해 필요한 `bin()` 함수 호출 횟수 (증명 생략):"
   ]
  },
  {
   "cell_type": "markdown",
   "metadata": {},
   "source": [
    "$$\n",
    "2{n\\choose k} -1\n",
    "$$"
   ]
  },
  {
   "cell_type": "markdown",
   "metadata": {
    "slideshow": {
     "slide_type": "slide"
    }
   },
   "source": [
    "* 기본적으로 지수함수보다 나쁜 시간복잡도를 가짐."
   ]
  },
  {
   "cell_type": "markdown",
   "metadata": {
    "slideshow": {
     "slide_type": "slide"
    }
   },
   "source": [
    "### 이항계수 알고리즘 구현: 동적계획"
   ]
  },
  {
   "cell_type": "markdown",
   "metadata": {
    "slideshow": {
     "slide_type": "slide"
    }
   },
   "source": [
    "* 반복을 이용한 피보나찌 함수 구현에 사용된 아이디어임."
   ]
  },
  {
   "cell_type": "markdown",
   "metadata": {},
   "source": [
    "* 작은 입력사례에 대한 결과를 배열에 저장해두고 필요할 경우 재활용함."
   ]
  },
  {
   "cell_type": "markdown",
   "metadata": {},
   "source": [
    "```python\n",
    "def fib2(n):\n",
    "    f = []\n",
    "    \n",
    "    f.append(0)\n",
    "    if n > 0:\n",
    "        f.append(1)\n",
    "        for i in range(2, n+1):\n",
    "            fi = f[i-2] + f[i-1]\n",
    "            f.append(fi)\n",
    "    return f[n]\n",
    "```"
   ]
  },
  {
   "cell_type": "markdown",
   "metadata": {
    "slideshow": {
     "slide_type": "slide"
    }
   },
   "source": [
    "* 이항계수 함수도 유사하게 구현 가능"
   ]
  },
  {
   "cell_type": "markdown",
   "metadata": {
    "slideshow": {
     "slide_type": "slide"
    }
   },
   "source": [
    "* ${n \\choose k}$를 구하기 위해 아래 그림과 같이 2차원 행렬 $B$의 항목을 채워나가야 함.\n",
    "    * $B[0][0]$ 에서 지작\n",
    "    * 위에서 아래로 재귀 관계식을 적용하여 파스칼의 삼각형을 완성해 나가야 함."
   ]
  },
  {
   "cell_type": "markdown",
   "metadata": {
    "slideshow": {
     "slide_type": "fragment"
    }
   },
   "source": [
    "<div align=\"center\"><img src=\"./images/algo03/algo03-02.png\" width=\"400\"/></div>"
   ]
  },
  {
   "cell_type": "markdown",
   "metadata": {
    "slideshow": {
     "slide_type": "slide"
    }
   },
   "source": [
    "#### 리스트 조건제시법 활용 예제\n",
    "\n",
    "* 일정 모양의 리스트를 생성할 때 유용함.\n",
    "* 알고리즘에 사용될 행렬 $B$를 영행렬로 초기화할 때 사용."
   ]
  },
  {
   "cell_type": "code",
   "execution_count": 15,
   "metadata": {
    "slideshow": {
     "slide_type": "fragment"
    }
   },
   "outputs": [
    {
     "data": {
      "text/plain": [
       "[[0, 0, 0, 0],\n",
       " [0, 0, 0, 0],\n",
       " [0, 0, 0, 0],\n",
       " [0, 0, 0, 0],\n",
       " [0, 0, 0, 0],\n",
       " [0, 0, 0, 0]]"
      ]
     },
     "execution_count": 15,
     "metadata": {},
     "output_type": "execute_result"
    }
   ],
   "source": [
    "# n = 5, k = 3 인 경우 6x4 크기의 영행렬 생성하기\n",
    "# 리스트 조건제시법 활용\n",
    "\n",
    "[[0 for _ in range(3+1)] for _ in range(5+1)]"
   ]
  },
  {
   "cell_type": "code",
   "execution_count": 17,
   "metadata": {
    "slideshow": {
     "slide_type": "slide"
    }
   },
   "outputs": [],
   "source": [
    "# 이분검색 재귀\n",
    "\n",
    "def bin2(n, k):\n",
    "    # n x k 모양의 행렬 준비하기.\n",
    "    # 리스트 조건제시법 활용\n",
    "    \n",
    "    B = [[0 for _ in range(k+1)] for _ in range(n+1)]\n",
    "\n",
    "    for i in range(n+1):\n",
    "        for j in range(min(i, k) + 1):\n",
    "            if j == 0 or j == i:\n",
    "                B[i][j] = 1\n",
    "            else:\n",
    "                B[i][j] = B[i-1][j-1] + B[i-1][j]\n",
    "    \n",
    "    return B[n][k]"
   ]
  },
  {
   "cell_type": "markdown",
   "metadata": {
    "slideshow": {
     "slide_type": "slide"
    }
   },
   "source": [
    "#### 실행시간 비교"
   ]
  },
  {
   "cell_type": "markdown",
   "metadata": {},
   "source": [
    "* 재귀 알고리즘과 동적계획 알고리즘 비교"
   ]
  },
  {
   "cell_type": "markdown",
   "metadata": {},
   "source": [
    "* $n=30$, $k=14$에 대해 동적계획 알고리즘은 바로 계산"
   ]
  },
  {
   "cell_type": "code",
   "execution_count": 29,
   "metadata": {
    "slideshow": {
     "slide_type": "slide"
    }
   },
   "outputs": [
    {
     "data": {
      "text/plain": [
       "145422675"
      ]
     },
     "execution_count": 29,
     "metadata": {},
     "output_type": "execute_result"
    }
   ],
   "source": [
    "bin2(30, 14)"
   ]
  },
  {
   "cell_type": "markdown",
   "metadata": {
    "slideshow": {
     "slide_type": "slide"
    }
   },
   "source": [
    "* 반면에 재귀 알고리즘은 30여초 걸림. $n, k$가 좀 더 커지면 매우 오래 걸림."
   ]
  },
  {
   "cell_type": "code",
   "execution_count": 30,
   "metadata": {},
   "outputs": [
    {
     "name": "stdout",
     "output_type": "stream",
     "text": [
      "28.64207887649536\n"
     ]
    }
   ],
   "source": [
    "import time\n",
    "\n",
    "start = time.time()\n",
    "bin(30,14)\n",
    "end = time.time()\n",
    "print(end-start)"
   ]
  },
  {
   "cell_type": "markdown",
   "metadata": {
    "slideshow": {
     "slide_type": "slide"
    }
   },
   "source": [
    "### 동적계획 알고리즘 시간복잡도"
   ]
  },
  {
   "cell_type": "markdown",
   "metadata": {
    "slideshow": {
     "slide_type": ""
    }
   },
   "source": [
    "* 입력 크기: $n$과 $k$\n",
    "* 단위연산: 중첩되어 사용된 `for-j` 반복문 실행횟수"
   ]
  },
  {
   "cell_type": "markdown",
   "metadata": {
    "slideshow": {
     "slide_type": "slide"
    }
   },
   "source": [
    "```\n",
    "i = 0일 때:     1회\n",
    "i = 1일 때:     2회\n",
    "i = 2일 때:     3회\n",
    "...\n",
    "i = k-1일 때:   k회\n",
    "i = k일 때:     (k+1)회\n",
    "i = (k+1)일 때: (k+1)회\n",
    "...\n",
    "i = n일 때:     (k+1)회\n",
    "```"
   ]
  },
  {
   "cell_type": "markdown",
   "metadata": {
    "slideshow": {
     "slide_type": "slide"
    }
   },
   "source": [
    "* 따라서 다음 성립"
   ]
  },
  {
   "cell_type": "markdown",
   "metadata": {},
   "source": [
    "\\begin{align*}\n",
    "1 + 2 + 3 + \\cdots + k + (k+1)\\cdot (n-k+1) &= \\frac{(2n-k+2)(k+1)}{2} \\\\\n",
    "&= \\Theta(n\\,k)\n",
    "\\end{align*}"
   ]
  },
  {
   "cell_type": "markdown",
   "metadata": {
    "slideshow": {
     "slide_type": "slide"
    }
   },
   "source": [
    "### 동적계획 알고리즘 개선하기"
   ]
  },
  {
   "cell_type": "markdown",
   "metadata": {
    "slideshow": {
     "slide_type": "slide"
    }
   },
   "source": [
    "#### 방법 1"
   ]
  },
  {
   "cell_type": "markdown",
   "metadata": {},
   "source": [
    "* 길이가 $k+1$인 1차원 배열 이용 가능"
   ]
  },
  {
   "cell_type": "markdown",
   "metadata": {},
   "source": [
    "* 이유: $i$번 행을 계산하기 위해 $i-1$번 행만 필요하기 때문."
   ]
  },
  {
   "cell_type": "markdown",
   "metadata": {
    "slideshow": {
     "slide_type": "slide"
    }
   },
   "source": [
    "#### 방법 2"
   ]
  },
  {
   "cell_type": "markdown",
   "metadata": {},
   "source": [
    "* 아래 사실 이용 가능"
   ]
  },
  {
   "cell_type": "markdown",
   "metadata": {},
   "source": [
    "$$\n",
    "{n \\choose k} = {n \\choose n-k}\n",
    "$$"
   ]
  },
  {
   "cell_type": "markdown",
   "metadata": {
    "slideshow": {
     "slide_type": "slide"
    }
   },
   "source": [
    "* 참조: [PythonTutor: 동적계획 이항계수 알고리즘](http://pythontutor.com/visualize.html#code=%23%20%EC%9D%B4%EB%B6%84%EA%B2%80%EC%83%89%20%EC%9E%AC%EA%B7%80%0A%0Adef%20bin2%28n,%20k%29%3A%0A%20%20%20%20%23%20n*k%20%EB%AA%A8%EC%96%91%EC%9D%98%20%ED%96%89%EB%A0%AC%20%EC%A4%80%EB%B9%84%ED%95%98%EA%B8%B0.%0A%20%20%20%20%23%20%EB%A6%AC%EC%8A%A4%ED%8A%B8%20%EC%A1%B0%EA%B1%B4%EC%A0%9C%EC%8B%9C%EB%B2%95%20%ED%99%9C%EC%9A%A9%0A%20%20%20%20%0A%20%20%20%20B%20%3D%20%5B%5B0%20for%20_%20in%20range%28k%2B1%29%5D%20for%20_%20in%20range%28n%2B1%29%5D%0A%0A%20%20%20%20for%20i%20in%20range%28n%2B1%29%3A%0A%20%20%20%20%20%20%20%20for%20j%20in%20range%28min%28i,%20k%29%20%2B%201%29%3A%0A%20%20%20%20%20%20%20%20%20%20%20%20if%20j%20%3D%3D%200%20or%20j%20%3D%3D%20i%3A%0A%20%20%20%20%20%20%20%20%20%20%20%20%20%20%20%20B%5Bi%5D%5Bj%5D%20%3D%201%0A%20%20%20%20%20%20%20%20%20%20%20%20else%3A%0A%20%20%20%20%20%20%20%20%20%20%20%20%20%20%20%20B%5Bi%5D%5Bj%5D%20%3D%20B%5Bi-1%5D%5Bj-1%5D%20%2B%20B%5Bi-1%5D%5Bj%5D%0A%20%20%20%20%0A%20%20%20%20return%20B%5Bn%5D%5Bk%5D%0A%20%20%20%20%0Abin2%283,%202%29&cumulative=false&curInstr=0&heapPrimitives=nevernest&mode=display&origin=opt-frontend.js&py=py3anaconda&rawInputLstJSON=%5B%5D&textReferences=false)"
   ]
  }
 ],
 "metadata": {
  "celltoolbar": "Slideshow",
  "kernelspec": {
   "display_name": "Python 3",
   "language": "python",
   "name": "python3"
  },
  "language_info": {
   "codemirror_mode": {
    "name": "ipython",
    "version": 3
   },
   "file_extension": ".py",
   "mimetype": "text/x-python",
   "name": "python",
   "nbconvert_exporter": "python",
   "pygments_lexer": "ipython3",
   "version": "3.8.3"
  }
 },
 "nbformat": 4,
 "nbformat_minor": 4
}
