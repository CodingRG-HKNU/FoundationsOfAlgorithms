{
 "cells": [
  {
   "cell_type": "markdown",
   "metadata": {
    "slideshow": {
     "slide_type": "slide"
    }
   },
   "source": [
    "# 2장 분할정복"
   ]
  },
  {
   "cell_type": "markdown",
   "metadata": {
    "slideshow": {
     "slide_type": "slide"
    }
   },
   "source": [
    "## 주요 내용\n",
    "\n",
    "* 1절 이분검색"
   ]
  },
  {
   "cell_type": "markdown",
   "metadata": {
    "slideshow": {
     "slide_type": "fragment"
    }
   },
   "source": [
    "* 2절 합병정렬"
   ]
  },
  {
   "cell_type": "markdown",
   "metadata": {
    "slideshow": {
     "slide_type": "fragment"
    }
   },
   "source": [
    "* 3절 분할정복 설계방법"
   ]
  },
  {
   "cell_type": "markdown",
   "metadata": {
    "slideshow": {
     "slide_type": "fragment"
    }
   },
   "source": [
    "* 4절 빠른정렬(분할교환정렬)"
   ]
  },
  {
   "cell_type": "markdown",
   "metadata": {
    "slideshow": {
     "slide_type": "fragment"
    }
   },
   "source": [
    "* 5절 쉬트라쎈의 행렬곱셈 알고리즘"
   ]
  },
  {
   "cell_type": "markdown",
   "metadata": {
    "slideshow": {
     "slide_type": "fragment"
    }
   },
   "source": [
    "* 8절 분할정복법을 사용할 수 없는 경우"
   ]
  },
  {
   "cell_type": "markdown",
   "metadata": {
    "slideshow": {
     "slide_type": "slide"
    }
   },
   "source": [
    "## 분할정복 전략"
   ]
  },
  {
   "cell_type": "markdown",
   "metadata": {
    "slideshow": {
     "slide_type": ""
    }
   },
   "source": [
    "* 분할(Divide)\n",
    "    * 해결하기 쉽도록 문제를 여러 개의 작은 부분으로 나눈다."
   ]
  },
  {
   "cell_type": "markdown",
   "metadata": {
    "slideshow": {
     "slide_type": "fragment"
    }
   },
   "source": [
    "* 정복(Conquer: 해결)\n",
    "    * 나눈 작은 문제를 각각 해결한다."
   ]
  },
  {
   "cell_type": "markdown",
   "metadata": {
    "slideshow": {
     "slide_type": "fragment"
    }
   },
   "source": [
    "* (필요한 경우) 취합\n",
    "    * 해결된 해답을 모은다."
   ]
  },
  {
   "cell_type": "markdown",
   "metadata": {
    "slideshow": {
     "slide_type": "slide"
    }
   },
   "source": [
    "## 1절 이분검색"
   ]
  },
  {
   "cell_type": "markdown",
   "metadata": {
    "slideshow": {
     "slide_type": "slide"
    }
   },
   "source": [
    "* 분할정복은 재귀 알고리즘으로 쉽게 구현 가능"
   ]
  },
  {
   "cell_type": "markdown",
   "metadata": {
    "slideshow": {
     "slide_type": "slide"
    }
   },
   "source": [
    "### 재귀 예제: 이분검색"
   ]
  },
  {
   "cell_type": "markdown",
   "metadata": {
    "slideshow": {
     "slide_type": "fragment"
    }
   },
   "source": [
    "* 문제: 항목이 __비내림차순(오름차순)으로 정렬된 리스트__ $S$에 $x$가 항목으로 포함되어 있는가?\n",
    "\n",
    "* 입력 파라미터: 리스트 $S$와 값 $x$\n",
    "\n",
    "* 리턴값: \n",
    "    * $x$가 $S$의 항목일 경우: $x$의 위치 인덱스\n",
    "    * 항목이 아닐 경우 -1."
   ]
  },
  {
   "cell_type": "markdown",
   "metadata": {
    "slideshow": {
     "slide_type": "slide"
    }
   },
   "source": [
    "#### 설계 전략\n",
    "\n",
    "1. $x$가 배열의 중앙에 위치하고 있는 항목과 같으면 해당 항목 인덱스 리턴.\n",
    "2. 그렇지 않으면 아래 실행\n",
    "    * 분할: 배열을 중앙에 위치한 항목을 기준으로 반으로 분할\n",
    "        * $x$가 중앙에 위치한 항목보다 작으면 왼쪽 배열 반쪽 선택\n",
    "        * 그렇지 않으면 오른쪽 배열 반쪽을 선택\n",
    "    * 정복: 선택된 반쪽 배열을 대상으로 1번 단계부터 다시 시작\n",
    "3. 취합: 불필요!"
   ]
  },
  {
   "cell_type": "markdown",
   "metadata": {
    "slideshow": {
     "slide_type": "slide"
    }
   },
   "source": [
    "<div align=\"center\"><img src=\"./images/algo02/algo02-01.png\" width=\"400\"/></div>"
   ]
  },
  {
   "cell_type": "markdown",
   "metadata": {
    "slideshow": {
     "slide_type": "slide"
    }
   },
   "source": [
    "### 재귀 이해\n",
    "\n",
    "* \"정복: 선택된 반쪽 배열을 대상으로 1번 단계부터 다시 시작\" 이라는 표현이 __재귀__를 의미함.\n",
    "* 분할정복으로 재귀 알고리즘을 개발할 때 아래 사항을 고려해야 함.\n",
    "    * 분할한 작은 립력사례의 답으로부터 전체 입력사례에 대한 답을 구하는 방법 고안\n",
    "    * 더 이상 분할이 불가능한 입력사례에 대한 판단할 종료조건 정하기\n",
    "    * 종료조건을 만족하는 경우 답을 구하는 방법 정하기"
   ]
  },
  {
   "cell_type": "markdown",
   "metadata": {
    "slideshow": {
     "slide_type": "slide"
    }
   },
   "source": [
    "### 파이썬 구현: 이분검색 재귀"
   ]
  },
  {
   "cell_type": "code",
   "execution_count": 6,
   "metadata": {
    "slideshow": {
     "slide_type": "slide"
    }
   },
   "outputs": [],
   "source": [
    "# 이분검색 재귀\n",
    "\n",
    "def location(S,x, low, high):\n",
    "    if low > high:\n",
    "        return -1\n",
    "\n",
    "    mid = (low + high)//2\n",
    "    if x == S[mid]:\n",
    "        return mid\n",
    "    elif x < S[mid]:\n",
    "        return location(S, x, low, mid-1)\n",
    "    else:\n",
    "        return location(S, x, low+1, high)"
   ]
  },
  {
   "cell_type": "code",
   "execution_count": 9,
   "metadata": {
    "slideshow": {
     "slide_type": "fragment"
    }
   },
   "outputs": [
    {
     "name": "stdout",
     "output_type": "stream",
     "text": [
      "4\n"
     ]
    }
   ],
   "source": [
    "sec = [10, 12, 13, 14, 18, 20, 25, 27, 30, 35, 40, 45, 47]\n",
    "x = 18\n",
    "\n",
    "print(location(sec, x, 0, len(sec)-1))"
   ]
  },
  {
   "cell_type": "markdown",
   "metadata": {
    "slideshow": {
     "slide_type": "slide"
    }
   },
   "source": [
    "#### 주의사항\n",
    "\n",
    "* 책 설명과는 달리 `location` 함수의 인자로 `S`와 `x`를 추가하였음.\n",
    "* 이유: `location` 함수를 임의의 리스트와 임의의 값에 대해 사용하기 위해서.\n",
    "* 책에서 `S`와 `x`를 인자로 사용하지 않은 이유:\n",
    "    * `location` 함수를 재귀로 호출할 때마다 `S`와 `x`의 값이 매번 새롭게 할당되어 메모리가 많이 사용됨.\n",
    "* 하지만 파이썬의 경우 기존의 리스트를 가리키는 변수를 재활용 함."
   ]
  },
  {
   "cell_type": "markdown",
   "metadata": {
    "slideshow": {
     "slide_type": "slide"
    }
   },
   "source": [
    "* 참조: [PythonTutor: 이분검색 재귀](http://pythontutor.com/visualize.html#code=%23%20%EC%9D%B4%EB%B6%84%EA%B2%80%EC%83%89%20%EC%9E%AC%EA%B7%80%0A%0Adef%20location%28S,x,%20low,%20high%29%3A%0A%20%20%20%20if%20low%20%3E%20high%3A%0A%20%20%20%20%20%20%20%20return%20-1%0A%0A%20%20%20%20mid%20%3D%20%28low%20%2B%20high%29//2%0A%20%20%20%20if%20x%20%3D%3D%20S%5Bmid%5D%3A%0A%20%20%20%20%20%20%20%20return%20mid%0A%20%20%20%20elif%20x%20%3C%20S%5Bmid%5D%3A%0A%20%20%20%20%20%20%20%20return%20location%28S,%20x,%20low,%20mid-1%29%0A%20%20%20%20else%3A%0A%20%20%20%20%20%20%20%20return%20location%28S,%20x,%20low%2B1,%20high%29%0A%0Asec%20%3D%20%5B10,%2012,%2013,%2014,%2018,%2020,%2025,%2027,%2030,%2035,%2040,%2045,%2047%5D%0Ax%20%3D%2018%0A%0Aprint%28location%28sec,%20x,%200,%20len%28sec%29-1%29%29&cumulative=false&curInstr=0&heapPrimitives=nevernest&mode=display&origin=opt-frontend.js&py=3&rawInputLstJSON=%5B%5D&textReferences=false)"
   ]
  },
  {
   "cell_type": "markdown",
   "metadata": {
    "slideshow": {
     "slide_type": "slide"
    }
   },
   "source": [
    "### 최악 시간복잡도 분석: 이분검색 재귀"
   ]
  },
  {
   "cell_type": "markdown",
   "metadata": {
    "slideshow": {
     "slide_type": "slide"
    }
   },
   "source": [
    "* 입력크기: 리스트 길이\n",
    "* 단위연산: `x`와 `S[mid]` 비교"
   ]
  },
  {
   "cell_type": "markdown",
   "metadata": {
    "slideshow": {
     "slide_type": "slide"
    }
   },
   "source": [
    "#### $n = 2^k$인 경우\n",
    "\n",
    "* 아래 점화식 성립\n",
    "\n",
    "    \\begin{align*}\n",
    "    W(n) &= W \\Big(\\frac n 2 \\Big) + 1 \\quad \\text{if }\\, n>1\\\\\n",
    "    W(1) &= 1\n",
    "    \\end{align*}\n",
    "\n",
    "* 위 점화식에 대한 해답:\n",
    "\n",
    "    $$W(n) = \\lg n + 1$$"
   ]
  },
  {
   "cell_type": "markdown",
   "metadata": {
    "slideshow": {
     "slide_type": "slide"
    }
   },
   "source": [
    "* 점화식 해답 설명\n",
    "\n",
    "    \\begin{align*}\n",
    "    W(1) &= 1 \\\\\n",
    "    W(2) &= W(1) + 1 = 2 \\\\\n",
    "    W(2^2) &= W(2) + 1 = 3 \\\\\n",
    "    W(2^3) &= W(2^2) + 1 = 4 \\\\\n",
    "    ... & \\\\\n",
    "    W(2^k) &= W(2^{k-1}) + 1 = k+1 = \\lg (2^k) + 1\\\\\n",
    "    \\end{align*}    "
   ]
  },
  {
   "cell_type": "markdown",
   "metadata": {
    "slideshow": {
     "slide_type": "slide"
    }
   },
   "source": [
    "#### 일반적인 경우\n",
    "\n",
    "* 아래 최학 시간복잡도 성립\n",
    "\n",
    "    \\begin{align*}\n",
    "    W(n) &= \\lfloor \\lg n \\rfloor + 1 \\in \\Theta(\\lg n)\n",
    "    \\end{align*}\n",
    "    \n",
    "* 증명: 생략"
   ]
  }
 ],
 "metadata": {
  "celltoolbar": "Slideshow",
  "kernelspec": {
   "display_name": "Python 3",
   "language": "python",
   "name": "python3"
  },
  "language_info": {
   "codemirror_mode": {
    "name": "ipython",
    "version": 3
   },
   "file_extension": ".py",
   "mimetype": "text/x-python",
   "name": "python",
   "nbconvert_exporter": "python",
   "pygments_lexer": "ipython3",
   "version": "3.7.6"
  }
 },
 "nbformat": 4,
 "nbformat_minor": 4
}
