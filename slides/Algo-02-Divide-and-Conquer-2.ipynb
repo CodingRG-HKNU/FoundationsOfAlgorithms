{
 "cells": [
  {
   "cell_type": "markdown",
   "metadata": {
    "slideshow": {
     "slide_type": "slide"
    }
   },
   "source": [
    "## 2절 합병정렬"
   ]
  },
  {
   "cell_type": "markdown",
   "metadata": {
    "slideshow": {
     "slide_type": "slide"
    }
   },
   "source": [
    "* 문제: 리스트의 항목을 비내림차순(오름차순)으로 정렬하기\n",
    "\n",
    "* 입력 파라미터: 리스트 $S$\n",
    "\n",
    "* 리턴값: $S$의 모든 항목을 크기순으로 포함한 리스트"
   ]
  },
  {
   "cell_type": "markdown",
   "metadata": {
    "slideshow": {
     "slide_type": "slide"
    }
   },
   "source": [
    "#### 설계 전략\n",
    "\n",
    "1. 분할: 배열을 반으로 분할\n",
    "2. 정복: 분할된 왼쪽/오른쪽 배열을 대상으로 다음 실행\n",
    "    * 배열의 크기가 2 이상이면 1번 분할 단계로 이동\n",
    "    * 두 배열의 크기가 1이면 3번 통합 단계로 이동\n",
    "3. 통합: 정렬된 두 배열을 합병하려 정렬 후 아직 정복되지 않은 배열이 남아 있는 경우 2번 정복 단계로 이동"
   ]
  },
  {
   "cell_type": "markdown",
   "metadata": {
    "slideshow": {
     "slide_type": "slide"
    }
   },
   "source": [
    "<div align=\"center\"><img src=\"./images/algo02/algo02-02.png\" width=\"400\"/></div>"
   ]
  },
  {
   "cell_type": "markdown",
   "metadata": {
    "slideshow": {
     "slide_type": "slide"
    }
   },
   "source": [
    "### 파이썬 구현: 합병정렬 재귀"
   ]
  },
  {
   "cell_type": "markdown",
   "metadata": {
    "slideshow": {
     "slide_type": "slide"
    }
   },
   "source": [
    "#### 정렬된 두 리스트를 정렬된 리스트로 합병하기\n",
    "\n",
    "* 입력값: 정렬된 두 리스트\n",
    "* 리턴값: 두 리스트의 항목을 비내림차순으로 정렬한 리스트"
   ]
  },
  {
   "cell_type": "markdown",
   "metadata": {
    "slideshow": {
     "slide_type": "slide"
    }
   },
   "source": [
    "#### 예제"
   ]
  },
  {
   "cell_type": "markdown",
   "metadata": {
    "slideshow": {
     "slide_type": "fragment"
    }
   },
   "source": [
    "| 비교횟수    | left | right | 병합결과 |\n",
    "| :---: | :--- | :---  | :--- |\n",
    "| 1 | __10__ 12 20 27 | __13__ 15 22 25 | 10 |\n",
    "| 2 | 10 __12__ 20 27 | __13__ 15 22 25 | 10 12 |\n",
    "| 3 | 10 12 __20__ 27 | __13__ 15 22 25 | 10 12 13|\n",
    "| 4 | 10 12 __20__ 27 | 13 __15__ 22 25 | 10 12 13 15|\n",
    "| 5 | 10 12 __20__ 27 | 13 15 __22__ 25 | 10 12 13 15 20 |\n",
    "| 6 | 10 12 20 __27__ | 13 15 __22__ 25 | 10 12 13 15 20 22 |\n",
    "| 7 | 10 12 20 __27__ | 13 15 22 __25__ | 10 12 13 15 20 22 25 |\n",
    "| - | 10 12 20 27 | 13 15 22 25 | 10 12 13 15 20 22 25 27 |\n"
   ]
  },
  {
   "cell_type": "code",
   "execution_count": 50,
   "metadata": {
    "slideshow": {
     "slide_type": "slide"
    }
   },
   "outputs": [],
   "source": [
    "def merge(lList, rList):\n",
    "    mergedList =[] \n",
    "  \n",
    "    while len(lList)>0 and len(rList)>0: \n",
    "        if lList[0] < rList[0]: \n",
    "            mergedList.append(lList.pop(0))\n",
    "        else: \n",
    "            mergedList.append(rList.pop(0)) \n",
    "\n",
    "    for item in lList: \n",
    "        mergedList.append(item) \n",
    "    for item in rList: \n",
    "        mergedList.append(item) \n",
    "                  \n",
    "    return mergedList "
   ]
  },
  {
   "cell_type": "code",
   "execution_count": 54,
   "metadata": {
    "slideshow": {
     "slide_type": "slide"
    }
   },
   "outputs": [
    {
     "data": {
      "text/plain": [
       "[10, 12, 13, 15, 20, 22, 25, 27]"
      ]
     },
     "execution_count": 54,
     "metadata": {},
     "output_type": "execute_result"
    }
   ],
   "source": [
    "a = [10, 12, 20, 27]\n",
    "b = [13, 15, 22, 25]\n",
    "merge(a, b)"
   ]
  },
  {
   "cell_type": "code",
   "execution_count": 56,
   "metadata": {
    "slideshow": {
     "slide_type": "slide"
    }
   },
   "outputs": [],
   "source": [
    "# 합병정렬 재귀\n",
    "\n",
    "def mergesort(aList):\n",
    "    if len(aList) <= 1:\n",
    "        return aList\n",
    "\n",
    "    mid = len(aList) // 2\n",
    "\n",
    "    lList = mergesort(aList[:mid])\n",
    "    rList = mergesort(aList[mid:])\n",
    "\n",
    "    return merge(lList, rList)"
   ]
  },
  {
   "cell_type": "code",
   "execution_count": 57,
   "metadata": {
    "slideshow": {
     "slide_type": "fragment"
    }
   },
   "outputs": [
    {
     "name": "stdout",
     "output_type": "stream",
     "text": [
      "[10, 12, 13, 15, 20, 22, 25, 27]\n"
     ]
    }
   ],
   "source": [
    "aList = [27, 10, 12, 20, 25, 13, 15, 22]\n",
    "\n",
    "print(mergesort(aList))"
   ]
  },
  {
   "cell_type": "markdown",
   "metadata": {
    "slideshow": {
     "slide_type": "slide"
    }
   },
   "source": [
    "* 참조: [PythonTutor: 합병정렬 재귀]()"
   ]
  },
  {
   "cell_type": "markdown",
   "metadata": {
    "slideshow": {
     "slide_type": "slide"
    }
   },
   "source": [
    "### 최악 시간복잡도 분석: 합병정렬 재귀"
   ]
  },
  {
   "cell_type": "markdown",
   "metadata": {
    "slideshow": {
     "slide_type": "slide"
    }
   },
   "source": [
    "* 입력크기: 리스트 길이\n",
    "* 단위연산: `merge` 함수에서 발생하는 비교연산"
   ]
  },
  {
   "cell_type": "markdown",
   "metadata": {},
   "source": []
  },
  {
   "cell_type": "markdown",
   "metadata": {},
   "source": []
  },
  {
   "cell_type": "markdown",
   "metadata": {},
   "source": []
  },
  {
   "cell_type": "markdown",
   "metadata": {},
   "source": []
  },
  {
   "cell_type": "markdown",
   "metadata": {},
   "source": []
  }
 ],
 "metadata": {
  "celltoolbar": "Slideshow",
  "kernelspec": {
   "display_name": "Python 3",
   "language": "python",
   "name": "python3"
  },
  "language_info": {
   "codemirror_mode": {
    "name": "ipython",
    "version": 3
   },
   "file_extension": ".py",
   "mimetype": "text/x-python",
   "name": "python",
   "nbconvert_exporter": "python",
   "pygments_lexer": "ipython3",
   "version": "3.7.6"
  }
 },
 "nbformat": 4,
 "nbformat_minor": 4
}
