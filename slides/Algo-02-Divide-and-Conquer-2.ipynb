{
 "cells": [
  {
   "cell_type": "markdown",
   "metadata": {
    "slideshow": {
     "slide_type": "slide"
    }
   },
   "source": [
    "## 4절 빠른정렬(분할교환정렬)"
   ]
  },
  {
   "cell_type": "markdown",
   "metadata": {
    "slideshow": {
     "slide_type": "slide"
    }
   },
   "source": [
    "* 호어(Hoare)가 1962년에 개발\n",
    "\n",
    "* 합병정렬과 비슷\n",
    "    * 입력 리스트를 보다 작은 두 개의 리스트로 분할\n",
    "    * 각각의 보다 작은 리스트를 재귀적으로 정렬"
   ]
  },
  {
   "cell_type": "markdown",
   "metadata": {
    "slideshow": {
     "slide_type": "slide"
    }
   },
   "source": [
    "* 분할 방식\n",
    "    * 기준원소(pivot) 선정\n",
    "    * 기준원소보다 작은 값은 모두 리스트 왼쪽으로 이동\n",
    "    * 기준원소보다 큰 값은 모두 리스트 오른쪽으로 이동\n",
    "\n",
    "* 기준원소\n",
    "    * 보통 맨 인편에 위치한 값 선정\n",
    "\n",
    "* 항상 가장 빠른 정렬 알고리즘은 않지만 평균적으로 가장 빠름."
   ]
  },
  {
   "cell_type": "markdown",
   "metadata": {
    "slideshow": {
     "slide_type": "slide"
    }
   },
   "source": [
    "#### 빠른 정렬 예제: 작동법 설명"
   ]
  },
  {
   "cell_type": "markdown",
   "metadata": {
    "slideshow": {
     "slide_type": ""
    }
   },
   "source": [
    "* 정렬 대상: \n",
    "\n",
    "    `15 22 13 27 12 10 20 25`"
   ]
  },
  {
   "cell_type": "markdown",
   "metadata": {
    "slideshow": {
     "slide_type": "slide"
    }
   },
   "source": [
    "<div align=\"center\"><img src=\"./images/algo02/algo02-03.png\" width=\"400\"/></div>"
   ]
  },
  {
   "cell_type": "markdown",
   "metadata": {
    "slideshow": {
     "slide_type": "slide"
    }
   },
   "source": [
    "### 파이썬 구현: 빠른정렬 재귀"
   ]
  },
  {
   "cell_type": "markdown",
   "metadata": {
    "slideshow": {
     "slide_type": "slide"
    }
   },
   "source": [
    "#### 분할 알고리즘"
   ]
  },
  {
   "cell_type": "code",
   "execution_count": 1,
   "metadata": {
    "slideshow": {
     "slide_type": "slide"
    }
   },
   "outputs": [],
   "source": [
    "# 분할 알고리즘: 기준원소(pivot)를 사용하여 리스트 분할하기\n",
    "# 기준원소: 리스트의 맨 왼편에 위치한 값\n",
    "# 주의: 리스트의 항목을 직접 수정함. 따라서 제자리 분할임.\n",
    "\n",
    "\n",
    "def partition(aList, low, high):\n",
    "\n",
    "    pivotitem = aList[low]     # 기준원소(pivot)\n",
    "    pivotpoint = low           # 분할 후 기준원소 위치\n",
    " \n",
    "    # 기준원소 보다 작은 값을 리스트 왼편에 위치시키기\n",
    "    # i 는 기준원소를 제외한 구간 내 전체 항목 대상으로 움직임\n",
    "    for i in range(low+1, high+1):\n",
    "        if aList[i] < pivotitem:\n",
    "            pivotpoint += 1\n",
    "            aList[i], aList[pivotpoint] = aList[pivotpoint], aList[i]\n",
    "    \n",
    "    # 분할이 완료된 후 기준원소를 적절한 위치(pivotpoint)로 옮기기\n",
    "    aList[low], aList[pivotpoint] = aList[pivotpoint], aList[low]\n",
    "    return pivotpoint"
   ]
  },
  {
   "cell_type": "markdown",
   "metadata": {
    "slideshow": {
     "slide_type": "slide"
    }
   },
   "source": [
    "#### 기준원소 분할 예제"
   ]
  },
  {
   "cell_type": "code",
   "execution_count": 2,
   "metadata": {
    "slideshow": {
     "slide_type": "slide"
    }
   },
   "outputs": [
    {
     "name": "stdout",
     "output_type": "stream",
     "text": [
      "[10, 13, 12, 15, 22, 27, 20, 25]\n"
     ]
    }
   ],
   "source": [
    "aList = [15, 22, 13, 27, 12, 10, 20, 25]\n",
    "n = len(aList)\n",
    "\n",
    "partition(aList, 0, n-1)\n",
    "print(aList)"
   ]
  },
  {
   "cell_type": "markdown",
   "metadata": {
    "slideshow": {
     "slide_type": ""
    }
   },
   "source": [
    "<div align=\"center\"><img src=\"./images/algo02/algo02-04.png\" width=\"400\"/></div>"
   ]
  },
  {
   "cell_type": "markdown",
   "metadata": {
    "slideshow": {
     "slide_type": "slide"
    }
   },
   "source": [
    "* 참조: [PythonTutor: 분할 알고리즘, 기준원소 사용](http://pythontutor.com/visualize.html#code=%23%20%EB%B6%84%ED%95%A0%20%EC%95%8C%EA%B3%A0%EB%A6%AC%EC%A6%98%3A%20%EA%B8%B0%EC%A4%80%EC%9B%90%EC%86%8C%28pivot%29%EB%A5%BC%20%EC%82%AC%EC%9A%A9%ED%95%98%EC%97%AC%20%EB%A6%AC%EC%8A%A4%ED%8A%B8%20%EB%B6%84%ED%95%A0%ED%95%98%EA%B8%B0%0A%23%20%EA%B8%B0%EC%A4%80%EC%9B%90%EC%86%8C%3A%20%EB%A6%AC%EC%8A%A4%ED%8A%B8%EC%9D%98%20%EB%A7%A8%20%EC%99%BC%ED%8E%B8%EC%97%90%20%EC%9C%84%EC%B9%98%ED%95%9C%20%EA%B0%92%0A%23%20%EC%A3%BC%EC%9D%98%3A%20%EB%A6%AC%EC%8A%A4%ED%8A%B8%EC%9D%98%20%ED%95%AD%EB%AA%A9%EC%9D%84%20%EC%A7%81%EC%A0%91%20%EC%88%98%EC%A0%95%ED%95%A8.%20%EB%94%B0%EB%9D%BC%EC%84%9C%20%EC%A0%9C%EC%9E%90%EB%A6%AC%20%EB%B6%84%ED%95%A0%EC%9E%84.%0A%0A%0Adef%20partition%28aList,%20low,%20high%29%3A%0A%0A%20%20%20%20pivotitem%20%3D%20aList%5Blow%5D%20%20%20%20%20%23%20%EA%B8%B0%EC%A4%80%EC%9B%90%EC%86%8C%28pivot%29%0A%20%20%20%20pivotpoint%20%3D%20low%20%20%20%20%20%20%20%20%20%20%20%23%20%EB%B6%84%ED%95%A0%20%ED%9B%84%20%EA%B8%B0%EC%A4%80%EC%9B%90%EC%86%8C%20%EC%9C%84%EC%B9%98%0A%20%0A%20%20%20%20%23%20%EA%B8%B0%EC%A4%80%EC%9B%90%EC%86%8C%20%EB%B3%B4%EB%8B%A4%20%EC%9E%91%EC%9D%80%20%EA%B0%92%EC%9D%84%20%EB%A6%AC%EC%8A%A4%ED%8A%B8%20%EC%99%BC%ED%8E%B8%EC%97%90%20%EC%9C%84%EC%B9%98%EC%8B%9C%ED%82%A4%EA%B8%B0%0A%20%20%20%20%23%20i%20%EB%8A%94%20%EA%B8%B0%EC%A4%80%EC%9B%90%EC%86%8C%EB%A5%BC%20%EC%A0%9C%EC%99%B8%ED%95%9C%20%EA%B5%AC%EA%B0%84%20%EB%82%B4%20%EC%A0%84%EC%B2%B4%20%ED%95%AD%EB%AA%A9%20%EB%8C%80%EC%83%81%EC%9C%BC%EB%A1%9C%20%EC%9B%80%EC%A7%81%EC%9E%84%0A%20%20%20%20for%20i%20in%20range%28low%2B1,%20high%2B1%29%3A%0A%20%20%20%20%20%20%20%20if%20aList%5Bi%5D%20%3C%20pivotitem%3A%0A%20%20%20%20%20%20%20%20%20%20%20%20pivotpoint%20%2B%3D%201%0A%20%20%20%20%20%20%20%20%20%20%20%20aList%5Bi%5D,%20aList%5Bpivotpoint%5D%20%3D%20aList%5Bpivotpoint%5D,%20aList%5Bi%5D%0A%20%20%20%20%0A%20%20%20%20%23%20%EB%B6%84%ED%95%A0%EC%9D%B4%20%EC%99%84%EB%A3%8C%EB%90%9C%20%ED%9B%84%20%EA%B8%B0%EC%A4%80%EC%9B%90%EC%86%8C%EB%A5%BC%20%EC%A0%81%EC%A0%88%ED%95%9C%20%EC%9C%84%EC%B9%98%28pivotpoint%29%EB%A1%9C%20%EC%98%AE%EA%B8%B0%EA%B8%B0%0A%20%20%20%20aList%5Blow%5D,%20aList%5Bpivotpoint%5D%20%3D%20aList%5Bpivotpoint%5D,%20aList%5Blow%5D%0A%20%20%20%20return%20pivotpoint%0A%0A%0AaList%20%3D%20%5B15,%2022,%2013,%2027,%2012,%2010,%2020,%2025%5D%0An%20%3D%20len%28aList%29%0A%0Apartition%28aList,%200,%20n-1%29&cumulative=false&curInstr=0&heapPrimitives=nevernest&mode=display&origin=opt-frontend.js&py=3&rawInputLstJSON=%5B%5D&textReferences=false)"
   ]
  },
  {
   "cell_type": "markdown",
   "metadata": {
    "slideshow": {
     "slide_type": "slide"
    }
   },
   "source": [
    "#### 빠른정렬 알고리즘(재귀)"
   ]
  },
  {
   "cell_type": "code",
   "execution_count": 3,
   "metadata": {
    "slideshow": {
     "slide_type": "slide"
    }
   },
   "outputs": [],
   "source": [
    "# 빠른정렬 재귀\n",
    "\n",
    "# 주의: 리스트의 항목을 직접 수정함. 따라서 제자리 정렬임.\n",
    "\n",
    "def quickSort(aList, low, high):\n",
    "    if low < high:\n",
    "        # 분할 후 기준원소 위치 확인\n",
    "        pivotpoint = partition(aList, low, high)\n",
    "\n",
    "        # 분할된 부분 정렬(재귀)\n",
    "        quickSort(aList, low, pivotpoint-1)\n",
    "        quickSort(aList, pivotpoint+1, high)\n",
    "        \n",
    "    return aList"
   ]
  },
  {
   "cell_type": "markdown",
   "metadata": {
    "slideshow": {
     "slide_type": "slide"
    }
   },
   "source": [
    "#### 빠른정렬 예제"
   ]
  },
  {
   "cell_type": "code",
   "execution_count": 4,
   "metadata": {
    "slideshow": {
     "slide_type": "fragment"
    }
   },
   "outputs": [
    {
     "data": {
      "text/plain": [
       "[10, 12, 13, 15, 20, 22, 25, 27]"
      ]
     },
     "execution_count": 4,
     "metadata": {},
     "output_type": "execute_result"
    }
   ],
   "source": [
    "quickSort(aList, 0, n-1)"
   ]
  },
  {
   "cell_type": "markdown",
   "metadata": {
    "slideshow": {
     "slide_type": "slide"
    }
   },
   "source": [
    "* 참조: [PythonTutor: 빠른정렬 재귀](http://pythontutor.com/visualize.html#code=%23%20%EB%B6%84%ED%95%A0%20%EC%95%8C%EA%B3%A0%EB%A6%AC%EC%A6%98%3A%20%EA%B8%B0%EC%A4%80%EC%9B%90%EC%86%8C%28pivot%29%EB%A5%BC%20%EC%82%AC%EC%9A%A9%ED%95%98%EC%97%AC%20%EB%A6%AC%EC%8A%A4%ED%8A%B8%20%EB%B6%84%ED%95%A0%ED%95%98%EA%B8%B0%0A%23%20%EA%B8%B0%EC%A4%80%EC%9B%90%EC%86%8C%3A%20%EB%A6%AC%EC%8A%A4%ED%8A%B8%EC%9D%98%20%EB%A7%A8%20%EC%99%BC%ED%8E%B8%EC%97%90%20%EC%9C%84%EC%B9%98%ED%95%9C%20%EA%B0%92%0A%23%20%EC%A3%BC%EC%9D%98%3A%20%EB%A6%AC%EC%8A%A4%ED%8A%B8%EC%9D%98%20%ED%95%AD%EB%AA%A9%EC%9D%84%20%EC%A7%81%EC%A0%91%20%EC%88%98%EC%A0%95%ED%95%A8.%20%EB%94%B0%EB%9D%BC%EC%84%9C%20%EC%A0%9C%EC%9E%90%EB%A6%AC%20%EB%B6%84%ED%95%A0%EC%9E%84.%0A%0Adef%20partition%28aList,%20low,%20high%29%3A%0A%0A%20%20%20%20pivotitem%20%3D%20aList%5Blow%5D%20%20%20%20%20%23%20%EA%B8%B0%EC%A4%80%EC%9B%90%EC%86%8C%28pivot%29%0A%20%20%20%20pivotpoint%20%3D%20low%20%20%20%20%20%20%20%20%20%20%20%23%20%EB%B6%84%ED%95%A0%20%ED%9B%84%20%EA%B8%B0%EC%A4%80%EC%9B%90%EC%86%8C%20%EC%9C%84%EC%B9%98%0A%20%0A%20%20%20%20%23%20%EA%B8%B0%EC%A4%80%EC%9B%90%EC%86%8C%20%EB%B3%B4%EB%8B%A4%20%EC%9E%91%EC%9D%80%20%EA%B0%92%EC%9D%84%20%EB%A6%AC%EC%8A%A4%ED%8A%B8%20%EC%99%BC%ED%8E%B8%EC%97%90%20%EC%9C%84%EC%B9%98%EC%8B%9C%ED%82%A4%EA%B8%B0%0A%20%20%20%20%23%20i%20%EB%8A%94%20%EA%B8%B0%EC%A4%80%EC%9B%90%EC%86%8C%EB%A5%BC%20%EC%A0%9C%EC%99%B8%ED%95%9C%20%EA%B5%AC%EA%B0%84%20%EB%82%B4%20%EC%A0%84%EC%B2%B4%20%ED%95%AD%EB%AA%A9%20%EB%8C%80%EC%83%81%EC%9C%BC%EB%A1%9C%20%EC%9B%80%EC%A7%81%EC%9E%84%0A%20%20%20%20for%20i%20in%20range%28low%2B1,%20high%2B1%29%3A%0A%20%20%20%20%20%20%20%20if%20aList%5Bi%5D%20%3C%20pivotitem%3A%0A%20%20%20%20%20%20%20%20%20%20%20%20pivotpoint%20%2B%3D%201%0A%20%20%20%20%20%20%20%20%20%20%20%20aList%5Bi%5D,%20aList%5Bpivotpoint%5D%20%3D%20aList%5Bpivotpoint%5D,%20aList%5Bi%5D%0A%20%20%20%20%0A%20%20%20%20%23%20%EB%B6%84%ED%95%A0%EC%9D%B4%20%EC%99%84%EB%A3%8C%EB%90%9C%20%ED%9B%84%20%EA%B8%B0%EC%A4%80%EC%9B%90%EC%86%8C%EB%A5%BC%20%EC%A0%81%EC%A0%88%ED%95%9C%20%EC%9C%84%EC%B9%98%28pivotpoint%29%EB%A1%9C%20%EC%98%AE%EA%B8%B0%EA%B8%B0%0A%20%20%20%20aList%5Blow%5D,%20aList%5Bpivotpoint%5D%20%3D%20aList%5Bpivotpoint%5D,%20aList%5Blow%5D%0A%20%20%20%20return%20pivotpoint%0A%0A%0A%23%20%EB%B9%A0%EB%A5%B8%EC%A0%95%EB%A0%AC%20%EC%9E%AC%EA%B7%80%0A%0A%23%20%EC%A3%BC%EC%9D%98%3A%20%EB%A6%AC%EC%8A%A4%ED%8A%B8%EC%9D%98%20%ED%95%AD%EB%AA%A9%EC%9D%84%20%EC%A7%81%EC%A0%91%20%EC%88%98%EC%A0%95%ED%95%A8.%20%0A%23%20%EB%94%B0%EB%9D%BC%EC%84%9C%20%EC%A0%9C%EC%9E%90%EB%A6%AC%20%EC%A0%95%EB%A0%AC%EC%9E%84.%0A%0Adef%20quickSort%28aList,%20low,%20high%29%3A%0A%20%20%20%20if%20low%20%3C%20high%3A%0A%20%20%20%20%20%20%20%20%23%20%EB%B6%84%ED%95%A0%20%ED%9B%84%20%EA%B8%B0%EC%A4%80%EC%9B%90%EC%86%8C%20%EC%9C%84%EC%B9%98%20%ED%99%95%EC%9D%B8%0A%20%20%20%20%20%20%20%20pivotpoint%20%3D%20partition%28aList,%20low,%20high%29%0A%0A%20%20%20%20%20%20%20%20%23%20%EB%B6%84%ED%95%A0%EB%90%9C%20%EB%B6%80%EB%B6%84%20%EC%A0%95%EB%A0%AC%28%EC%9E%AC%EA%B7%80%29%0A%20%20%20%20%20%20%20%20quickSort%28aList,%20low,%20pivotpoint-1%29%0A%20%20%20%20%20%20%20%20quickSort%28aList,%20pivotpoint%2B1,%20high%29%0A%20%20%20%20%20%20%20%20%0A%20%20%20%20return%20aList%0A%0AaList%20%3D%20%5B15,%2022,%2013,%2027,%2012,%2010,%2020,%2025%5D%0An%20%3D%20len%28aList%29%0A%0AquickSort%28aList,%200,%20n-1%29&cumulative=false&curInstr=0&heapPrimitives=nevernest&mode=display&origin=opt-frontend.js&py=3&rawInputLstJSON=%5B%5D&textReferences=false)"
   ]
  },
  {
   "cell_type": "markdown",
   "metadata": {
    "slideshow": {
     "slide_type": "slide"
    }
   },
   "source": [
    "### 일정 시간복잡도 분석: 분할(`partition`) 알고리즘"
   ]
  },
  {
   "cell_type": "markdown",
   "metadata": {
    "slideshow": {
     "slide_type": "slide"
    }
   },
   "source": [
    "#### 일정 시간복잡도 $T(n)$\n",
    "\n",
    "* 입력크기($n$): 정렬대상 조사구간 길이, 즉 `high - low + 1`\n",
    "* 첫째 원소(기준원소)를 제외한 모든 원소와 비교. 따라서 다음 성립:\n",
    "\n",
    "    $$T(n) = n-1$$"
   ]
  },
  {
   "cell_type": "markdown",
   "metadata": {
    "slideshow": {
     "slide_type": "slide"
    }
   },
   "source": [
    "### 최악 시간복잡도 분석: 빠른정렬(`quicksort`) 알고리즘"
   ]
  },
  {
   "cell_type": "markdown",
   "metadata": {
    "slideshow": {
     "slide_type": "slide"
    }
   },
   "source": [
    "#### 최악 시간복잡도 $W(n)$\n",
    "\n",
    "* 입력크기($n$): 정렬대상 리스트 구간 길이\n",
    "* 단위연산: `partition` 함수 실행 과정에서 기준원소(pivot)와의 비교 횟수"
   ]
  },
  {
   "cell_type": "markdown",
   "metadata": {
    "slideshow": {
     "slide_type": "fragment"
    }
   },
   "source": [
    "$$ W(n) = \\frac{n(n-1)}{2}$$"
   ]
  },
  {
   "cell_type": "markdown",
   "metadata": {
    "slideshow": {
     "slide_type": "slide"
    }
   },
   "source": [
    "### 평균 시간복잡도 분석: 빠른정렬(`quicksort`) 알고리즘"
   ]
  },
  {
   "cell_type": "markdown",
   "metadata": {
    "slideshow": {
     "slide_type": "slide"
    }
   },
   "source": [
    "#### 평균 시간복잡도 $A(n)$\n",
    "\n",
    "* 입력크기($n$): 정렬대상 리스트 길이\n",
    "* 단위연산: `partition` 함수 실행 과정에서 기준원소(pivot)와의 비교 횟수"
   ]
  },
  {
   "cell_type": "markdown",
   "metadata": {
    "slideshow": {
     "slide_type": "fragment"
    }
   },
   "source": [
    "$$ A(n) \\approx 1.38(n+1) \\lg n \\in \\Theta(n\\, \\lg n)$$"
   ]
  }
 ],
 "metadata": {
  "celltoolbar": "Slideshow",
  "kernelspec": {
   "display_name": "Python 3",
   "language": "python",
   "name": "python3"
  },
  "language_info": {
   "codemirror_mode": {
    "name": "ipython",
    "version": 3
   },
   "file_extension": ".py",
   "mimetype": "text/x-python",
   "name": "python",
   "nbconvert_exporter": "python",
   "pygments_lexer": "ipython3",
   "version": "3.7.6"
  }
 },
 "nbformat": 4,
 "nbformat_minor": 4
}
