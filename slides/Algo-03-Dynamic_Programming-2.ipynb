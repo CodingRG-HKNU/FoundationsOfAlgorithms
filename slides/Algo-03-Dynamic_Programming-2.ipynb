{
 "cells": [
  {
   "cell_type": "markdown",
   "metadata": {
    "slideshow": {
     "slide_type": "slide"
    }
   },
   "source": [
    "## 6절 외판원 문제"
   ]
  },
  {
   "cell_type": "markdown",
   "metadata": {
    "slideshow": {
     "slide_type": "slide"
    }
   },
   "source": [
    "### 외판원문제 정의"
   ]
  },
  {
   "cell_type": "markdown",
   "metadata": {
    "slideshow": {
     "slide_type": "slide"
    }
   },
   "source": [
    "* 일주여행길: 한 도시에서 출발하여 다른 모든 도시를 한 번씩만 들린 후 출발한 도시로 돌아오는 여행길"
   ]
  },
  {
   "cell_type": "markdown",
   "metadata": {
    "slideshow": {
     "slide_type": "fragment"
    }
   },
   "source": [
    "* 최적일주여행길: 최소거리 일주여행길"
   ]
  },
  {
   "cell_type": "markdown",
   "metadata": {
    "slideshow": {
     "slide_type": "fragment"
    }
   },
   "source": [
    "* 외판원문제: 최소한 하나의 일주여행길이 존재하는 가중치포함 방향그래프에서 최적일주여행길 찾기"
   ]
  },
  {
   "cell_type": "markdown",
   "metadata": {
    "slideshow": {
     "slide_type": "fragment"
    }
   },
   "source": [
    "* 주의: 출발하는 도시가 최적일주여행길의 길이와 무관함."
   ]
  },
  {
   "cell_type": "markdown",
   "metadata": {
    "slideshow": {
     "slide_type": "slide"
    }
   },
   "source": [
    "### 예제"
   ]
  },
  {
   "cell_type": "markdown",
   "metadata": {
    "slideshow": {
     "slide_type": "slide"
    }
   },
   "source": [
    "<div align=\"center\"><img src=\"./images/algo03/algo03-09.png\" width=\"250\"/></div>"
   ]
  },
  {
   "cell_type": "markdown",
   "metadata": {
    "slideshow": {
     "slide_type": "fragment"
    }
   },
   "source": [
    "* $v_1$을 출발점으로 하는 일주여행길 3개. "
   ]
  },
  {
   "cell_type": "markdown",
   "metadata": {
    "slideshow": {
     "slide_type": "fragment"
    }
   },
   "source": [
    "\\begin{align*}\n",
    "    \\textit{length}\\, [v_1, v_2, v_3, v_4, v_1] &= 22 \\\\\n",
    "    \\textit{length}\\, [v_1, v_3, v_2, v_4, v_1] &= 26 \\\\\n",
    "    \\textit{length}\\, [v_1, v_3, v_4, v_2, v_1] &= 21\n",
    "\\end{align*}"
   ]
  },
  {
   "cell_type": "markdown",
   "metadata": {
    "slideshow": {
     "slide_type": "fragment"
    }
   },
   "source": [
    "* 마지막 여행길이 최적."
   ]
  },
  {
   "cell_type": "markdown",
   "metadata": {
    "slideshow": {
     "slide_type": "slide"
    }
   },
   "source": [
    "### 무차별 대입 방식(brute force) 탐색"
   ]
  },
  {
   "cell_type": "markdown",
   "metadata": {},
   "source": [
    "* $v_1$부터 시작하는 모든 일주여행길을 확인하는 방식"
   ]
  },
  {
   "cell_type": "markdown",
   "metadata": {
    "slideshow": {
     "slide_type": "slide"
    }
   },
   "source": [
    "#### 부르트포스 탐색 알고리즘"
   ]
  },
  {
   "cell_type": "markdown",
   "metadata": {
    "slideshow": {
     "slide_type": ""
    }
   },
   "source": [
    "* 참조: [고전 컴퓨터 알고리즘 인 파이썬, 9장](https://github.com/coding-alzi/ClassicComputerScienceProblemsInPython)"
   ]
  },
  {
   "cell_type": "markdown",
   "metadata": {
    "slideshow": {
     "slide_type": "slide"
    }
   },
   "source": [
    "* 도시간 거리: 중첩 사전(딕셔너리)으로 구현\n",
    "    * 키: 도시명\n",
    "    * 키값: 해당 도시와 연결된 도시와 그 도시와의 거리로 이루어진 사전"
   ]
  },
  {
   "cell_type": "code",
   "execution_count": 1,
   "metadata": {
    "slideshow": {
     "slide_type": ""
    }
   },
   "outputs": [],
   "source": [
    "from math import inf\n",
    "from itertools import permutations\n",
    "\n",
    "city_distances = {\n",
    "    \"v1\":\n",
    "        {\"v2\": 2,\n",
    "         \"v3\": 9},\n",
    "    \"v2\":\n",
    "        {\"v1\": 1,\n",
    "         \"v3\": 6,\n",
    "         \"v4\": 4},\n",
    "    \"v3\":\n",
    "        {\"v2\": 7,\n",
    "         \"v4\": 8},\n",
    "    \"v4\":\n",
    "        {\"v1\": 6,\n",
    "         \"v2\": 3}\n",
    "}"
   ]
  },
  {
   "cell_type": "markdown",
   "metadata": {
    "slideshow": {
     "slide_type": "slide"
    }
   },
   "source": [
    "* 도시명 모음"
   ]
  },
  {
   "cell_type": "code",
   "execution_count": 2,
   "metadata": {},
   "outputs": [],
   "source": [
    "cities = city_distances.keys()"
   ]
  },
  {
   "cell_type": "code",
   "execution_count": 3,
   "metadata": {
    "slideshow": {
     "slide_type": "fragment"
    }
   },
   "outputs": [
    {
     "name": "stdout",
     "output_type": "stream",
     "text": [
      "dict_keys(['v1', 'v2', 'v3', 'v4'])\n"
     ]
    }
   ],
   "source": [
    "print(cities)"
   ]
  },
  {
   "cell_type": "markdown",
   "metadata": {
    "slideshow": {
     "slide_type": "slide"
    }
   },
   "source": [
    "* 모든 경로의 순열조합\n",
    "    * $n$개의 도시로 만들 수 있는 모든 순열조합\n",
    "    * 주의: 이음선이 없는 경우도 포함. 이후 최적일주여행길 선정 과정에서 제외처리될 것임."
   ]
  },
  {
   "cell_type": "code",
   "execution_count": 4,
   "metadata": {},
   "outputs": [],
   "source": [
    "city_permutations = permutations(cities)"
   ]
  },
  {
   "cell_type": "code",
   "execution_count": 5,
   "metadata": {
    "slideshow": {
     "slide_type": "slide"
    }
   },
   "outputs": [
    {
     "name": "stdout",
     "output_type": "stream",
     "text": [
      "('v1', 'v2', 'v3', 'v4')\n",
      "('v1', 'v2', 'v4', 'v3')\n",
      "('v1', 'v3', 'v2', 'v4')\n",
      "('v1', 'v3', 'v4', 'v2')\n",
      "('v1', 'v4', 'v2', 'v3')\n",
      "('v1', 'v4', 'v3', 'v2')\n",
      "('v2', 'v1', 'v3', 'v4')\n",
      "('v2', 'v1', 'v4', 'v3')\n",
      "('v2', 'v3', 'v1', 'v4')\n",
      "('v2', 'v3', 'v4', 'v1')\n",
      "('v2', 'v4', 'v1', 'v3')\n",
      "('v2', 'v4', 'v3', 'v1')\n",
      "('v3', 'v1', 'v2', 'v4')\n",
      "('v3', 'v1', 'v4', 'v2')\n",
      "('v3', 'v2', 'v1', 'v4')\n",
      "('v3', 'v2', 'v4', 'v1')\n",
      "('v3', 'v4', 'v1', 'v2')\n",
      "('v3', 'v4', 'v2', 'v1')\n",
      "('v4', 'v1', 'v2', 'v3')\n",
      "('v4', 'v1', 'v3', 'v2')\n",
      "('v4', 'v2', 'v1', 'v3')\n",
      "('v4', 'v2', 'v3', 'v1')\n",
      "('v4', 'v3', 'v1', 'v2')\n",
      "('v4', 'v3', 'v2', 'v1')\n"
     ]
    }
   ],
   "source": [
    "for item in city_permutations:\n",
    "    print(item)"
   ]
  },
  {
   "cell_type": "markdown",
   "metadata": {
    "slideshow": {
     "slide_type": "slide"
    }
   },
   "source": [
    "* 일주여행길 완성을 위해 출발도시를 마지막 항목으로 추가"
   ]
  },
  {
   "cell_type": "code",
   "execution_count": 6,
   "metadata": {},
   "outputs": [],
   "source": [
    "tsp_paths = [c + (c[0],) for c in city_permutations]"
   ]
  },
  {
   "cell_type": "code",
   "execution_count": 7,
   "metadata": {
    "slideshow": {
     "slide_type": "slide"
    }
   },
   "outputs": [],
   "source": [
    "for item in tsp_paths:\n",
    "    print(item)"
   ]
  },
  {
   "cell_type": "markdown",
   "metadata": {
    "slideshow": {
     "slide_type": "slide"
    }
   },
   "source": [
    "* 최단거리 일주여행길 확인"
   ]
  },
  {
   "cell_type": "code",
   "execution_count": 8,
   "metadata": {},
   "outputs": [
    {
     "name": "stdout",
     "output_type": "stream",
     "text": [
      "최적일주여행길은 None이며 길이는 inf이다.\n"
     ]
    }
   ],
   "source": [
    "best_path = None                        # 최적일주여행길 저장\n",
    "min_distance = inf                      # 최적일주여행길 길이 저장\n",
    "\n",
    "for path in tsp_paths:\n",
    "    distance = 0\n",
    "    last = path[0]\n",
    "    for next in path[1:]:\n",
    "        last2next = city_distances[last].get(next)\n",
    "        if last2next:                  # last에서 next로의 경로가 존재하는 경우\n",
    "            distance += last2next\n",
    "        else:                          # last에서 next로의 경로가 존재하지 않는 경우 None 반환됨.\n",
    "            distance = inf             # 무한대로 처리하며, 결국 최솟값 경쟁에서 제외됨.\n",
    "        last = next\n",
    "\n",
    "    if distance < min_distance:\n",
    "        min_distance = distance\n",
    "        best_path = path\n",
    "\n",
    "print(f\"최적일주여행길은 {best_path}이며 길이는 {min_distance}이다.\")"
   ]
  },
  {
   "cell_type": "markdown",
   "metadata": {
    "slideshow": {
     "slide_type": "slide"
    }
   },
   "source": [
    "#### 부르트포스 탐색 시간복잡도"
   ]
  },
  {
   "cell_type": "markdown",
   "metadata": {
    "slideshow": {
     "slide_type": "slide"
    }
   },
   "source": [
    "* 입력크기: 도시(마디) 수 $n$\n",
    "* 단위연산: $n$개의 도시를 일주하는 여행길의 모든 경로를 고려하는 방법"
   ]
  },
  {
   "cell_type": "markdown",
   "metadata": {
    "slideshow": {
     "slide_type": "fragment"
    }
   },
   "source": [
    "$$\n",
    "(n-1)(n-2)\\cdots 1 = (n-1)! \\in \\Theta(n!)\n",
    "$$"
   ]
  },
  {
   "cell_type": "markdown",
   "metadata": {
    "slideshow": {
     "slide_type": "fragment"
    }
   },
   "source": [
    "* 설명: 하나의 도시에서 출발해서\n",
    "    * 둘째 도시는 $(n-1)$개 도시 중 하나,\n",
    "    * 셋째 도시는 $(n-2)$개 도시 중 하나,\n",
    "    * ....\n",
    "    * $(n-1)$번째 도시는 $2$개 도시 중 하나,\n",
    "    * 마지막 $n$번째 도시는 남은 도시 하나.\n",
    "    "
   ]
  },
  {
   "cell_type": "markdown",
   "metadata": {
    "slideshow": {
     "slide_type": "slide"
    }
   },
   "source": [
    "### 더 좋은 알고리즘"
   ]
  },
  {
   "cell_type": "markdown",
   "metadata": {
    "slideshow": {
     "slide_type": "slide"
    }
   },
   "source": [
    "* 외판원 문제에 대한 쉬운 해결책은 없음."
   ]
  },
  {
   "cell_type": "markdown",
   "metadata": {
    "slideshow": {
     "slide_type": "fragment"
    }
   },
   "source": [
    "* 도시가 많은 경우 대부분의 알려진 알고리즘은 최적일주여행길의 근사치를 계산함."
   ]
  },
  {
   "cell_type": "markdown",
   "metadata": {
    "slideshow": {
     "slide_type": "fragment"
    }
   },
   "source": [
    "* 동적계획법 또는 유전 알고리즘을 이용하면 시간복잡도가 __조금__ 더 좋은 알고리즘 구현 가능\n",
    "    * 하지만 모두 지수함수 이상의 복잡도를 가짐."
   ]
  },
  {
   "cell_type": "markdown",
   "metadata": {
    "slideshow": {
     "slide_type": "slide"
    }
   },
   "source": [
    "#### 동적계획법으로 구현한 외판원문제 알고리즘 복잡도"
   ]
  },
  {
   "cell_type": "markdown",
   "metadata": {
    "slideshow": {
     "slide_type": "fragment"
    }
   },
   "source": [
    "* 일정 시간복잡도: $\\Theta(n^2\\, 2^n)$"
   ]
  },
  {
   "cell_type": "markdown",
   "metadata": {
    "slideshow": {
     "slide_type": "fragment"
    }
   },
   "source": [
    "* 일정 공간복잡도: $\\Theta(n\\, 2^n)$"
   ]
  },
  {
   "cell_type": "markdown",
   "metadata": {
    "slideshow": {
     "slide_type": "fragment"
    }
   },
   "source": [
    "* 부르트포스 알고리즘보다 훨씬 빠르기는 하지만 여전히 실용성은 없음.\n",
    "    * 실제로 구현하기도 쉽지 않음. \n",
    "    * 다양한 트릭이 있지만 알고리즘 공부에 별 도움되지 않음."
   ]
  },
  {
   "cell_type": "markdown",
   "metadata": {
    "slideshow": {
     "slide_type": "fragment"
    }
   },
   "source": [
    "* 유전 알고리즘 기법을 활용하여 적절한 근사치를 빠르게 계산하는 알고리즘에 대한 연구가 많이 진행되어 왔음."
   ]
  },
  {
   "cell_type": "markdown",
   "metadata": {
    "slideshow": {
     "slide_type": "slide"
    }
   },
   "source": [
    "#### 다항식 시간복잡도 알고리즘?"
   ]
  },
  {
   "cell_type": "markdown",
   "metadata": {
    "slideshow": {
     "slide_type": "slide"
    }
   },
   "source": [
    "* 다항식 복잡도를 갖는 외판원문제 해결 알고리즘 알려지지 않음."
   ]
  },
  {
   "cell_type": "markdown",
   "metadata": {
    "slideshow": {
     "slide_type": "fragment"
    }
   },
   "source": [
    "* 그런 알고리즘이 존재하지 않는다는 증명도 없음."
   ]
  },
  {
   "cell_type": "markdown",
   "metadata": {
    "slideshow": {
     "slide_type": "fragment"
    }
   },
   "source": [
    "* 이런 문제를 __NP-hard__ 라고 부름.\n",
    "    * 9장에서 상세히 다룸."
   ]
  },
  {
   "cell_type": "markdown",
   "metadata": {
    "slideshow": {
     "slide_type": "slide"
    }
   },
   "source": [
    "## (4장 5절) 0-1 배낭 채우기 문제"
   ]
  },
  {
   "cell_type": "markdown",
   "metadata": {
    "slideshow": {
     "slide_type": "slide"
    }
   },
   "source": [
    "### 0-1 배낭 채우기 문제 정의"
   ]
  },
  {
   "cell_type": "markdown",
   "metadata": {
    "slideshow": {
     "slide_type": "slide"
    }
   },
   "source": [
    "* 한정된 용량의 배낭에 주어진 물건을 골라 넣어서 배낭에 담을 수 있는 물건의 최대 이익을 찾는 조합 최적화 문제"
   ]
  },
  {
   "cell_type": "markdown",
   "metadata": {
    "slideshow": {
     "slide_type": "slide"
    }
   },
   "source": [
    "### 예제"
   ]
  },
  {
   "cell_type": "markdown",
   "metadata": {
    "slideshow": {
     "slide_type": "slide"
    }
   },
   "source": [
    "<div align=\"center\"><img src=\"./images/algo03/algo03-10.png\" width=\"300\"/></div>\n",
    "\n",
    "<그림 출처:[배낭 문제: 위키피디아](https://en.wikipedia.org/wiki/Knapsack_problem)>"
   ]
  },
  {
   "cell_type": "markdown",
   "metadata": {
    "slideshow": {
     "slide_type": "slide"
    }
   },
   "source": [
    "### 무차별 대입 방식(brute force approach)"
   ]
  },
  {
   "cell_type": "markdown",
   "metadata": {
    "slideshow": {
     "slide_type": "slide"
    }
   },
   "source": [
    "* 배낭에 넣을 수 있는 모든 물건의 조합 살피기"
   ]
  },
  {
   "cell_type": "markdown",
   "metadata": {
    "slideshow": {
     "slide_type": "fragment"
    }
   },
   "source": [
    "* $n$개의 물건이 있을 때 총 $2^n$개의 조합 존재"
   ]
  },
  {
   "cell_type": "markdown",
   "metadata": {
    "slideshow": {
     "slide_type": "fragment"
    }
   },
   "source": [
    "* 따라서 $\\Theta(2^n)$의 시간복잡도를 가짐. 따라서 실용성 없음."
   ]
  },
  {
   "cell_type": "markdown",
   "metadata": {
    "slideshow": {
     "slide_type": "slide"
    }
   },
   "source": [
    "#### 동적계획법 알고리즘"
   ]
  },
  {
   "cell_type": "markdown",
   "metadata": {
    "slideshow": {
     "slide_type": ""
    }
   },
   "source": [
    "* 참조: [고전 컴퓨터 알고리즘 인 파이썬, 9장](https://github.com/coding-alzi/ClassicComputerScienceProblemsInPython)"
   ]
  },
  {
   "cell_type": "markdown",
   "metadata": {
    "slideshow": {
     "slide_type": "fragment"
    }
   },
   "source": [
    "* 최단경로 동적계획법 알고리즘과 유사. 하지만 훨씬 단순."
   ]
  },
  {
   "cell_type": "markdown",
   "metadata": {
    "slideshow": {
     "slide_type": "slide"
    }
   },
   "source": [
    "* 아래 조건을 만족하는 2차원 행렬 $P$ 생성"
   ]
  },
  {
   "cell_type": "markdown",
   "metadata": {},
   "source": [
    "\\begin{align*}\n",
    "P[i][w] &= \\text{총 무게가 $w$를 넘기지 않는 조건하에서} \\\\\n",
    "& \\quad\\,\\text{처음 $i$ 개의 물건만을 이용해서 얻을 수 있는 최대 이익}\n",
    "\\end{align*}"
   ]
  },
  {
   "cell_type": "markdown",
   "metadata": {
    "slideshow": {
     "slide_type": "fragment"
    }
   },
   "source": [
    "* $p_i$: $i$번째 물건의 가치\n",
    "* $w_i$: $i$번째 물건의 무게"
   ]
  },
  {
   "cell_type": "markdown",
   "metadata": {
    "slideshow": {
     "slide_type": "slide"
    }
   },
   "source": [
    "* 초기값: "
   ]
  },
  {
   "cell_type": "markdown",
   "metadata": {
    "slideshow": {
     "slide_type": ""
    }
   },
   "source": [
    "$$\n",
    "P[0][w] = 0\n",
    "$$"
   ]
  },
  {
   "cell_type": "markdown",
   "metadata": {
    "slideshow": {
     "slide_type": "slide"
    }
   },
   "source": [
    "* $i>0$ 이라고 가정"
   ]
  },
  {
   "cell_type": "markdown",
   "metadata": {
    "slideshow": {
     "slide_type": "slide"
    }
   },
   "source": [
    "* $w_i > w$ 인 경우:"
   ]
  },
  {
   "cell_type": "markdown",
   "metadata": {},
   "source": [
    "$$\n",
    "P[i][w] = P[i-1][w]\n",
    "$$"
   ]
  },
  {
   "cell_type": "markdown",
   "metadata": {
    "slideshow": {
     "slide_type": "slide"
    }
   },
   "source": [
    "* $w_i \\le w$ 이면서 $w_i$를 사용하지 않는 경우:"
   ]
  },
  {
   "cell_type": "markdown",
   "metadata": {},
   "source": [
    "$$\n",
    "P[i][w] = P[i-1][w]\n",
    "$$"
   ]
  },
  {
   "cell_type": "markdown",
   "metadata": {
    "slideshow": {
     "slide_type": "slide"
    }
   },
   "source": [
    "* $w_i \\le w$ 이면서 $w_i$를 사용하는 경우:"
   ]
  },
  {
   "cell_type": "markdown",
   "metadata": {},
   "source": [
    "$$\n",
    "P[i][w] = p_i + P[i-1][w-w_i]\n",
    "$$"
   ]
  },
  {
   "cell_type": "markdown",
   "metadata": {
    "slideshow": {
     "slide_type": "slide"
    }
   },
   "source": [
    "* 정리하면:"
   ]
  },
  {
   "cell_type": "markdown",
   "metadata": {},
   "source": [
    "$$\n",
    "P[i][w] = \n",
    "\\begin{cases}\n",
    "\\max(P[i-1][w], p_i + P[i-1][w-w_i]) & \\text{if } w_i \\le w, \\\\\n",
    "& \\\\\n",
    "P[i-1][w] & \\text{if } w_i > w\n",
    "\\end{cases}\n",
    "$$"
   ]
  },
  {
   "cell_type": "markdown",
   "metadata": {
    "slideshow": {
     "slide_type": "fragment"
    }
   },
   "source": [
    "* 최적화 원칙도 성립함."
   ]
  },
  {
   "cell_type": "markdown",
   "metadata": {
    "slideshow": {
     "slide_type": "slide"
    }
   },
   "source": [
    "#### 동적계획법 알고리즘 구현"
   ]
  },
  {
   "cell_type": "markdown",
   "metadata": {
    "slideshow": {
     "slide_type": "slide"
    }
   },
   "source": [
    "* 물건들의 클래스 지정"
   ]
  },
  {
   "cell_type": "markdown",
   "metadata": {
    "slideshow": {
     "slide_type": "fragment"
    }
   },
   "source": [
    "* NamedTupe 클래스를 활용하면 쉽게 자료형 클래스를 지정할 수 있음."
   ]
  },
  {
   "cell_type": "code",
   "execution_count": 9,
   "metadata": {
    "slideshow": {
     "slide_type": ""
    }
   },
   "outputs": [],
   "source": [
    "from typing import NamedTuple\n",
    "\n",
    "class Item(NamedTuple):\n",
    "    name: str\n",
    "    weight: int\n",
    "    value: float"
   ]
  },
  {
   "cell_type": "markdown",
   "metadata": {
    "slideshow": {
     "slide_type": "slide"
    }
   },
   "source": [
    "* 각 물건 조합의 최상의 결과를 알려주는 표 작성 알고리즘"
   ]
  },
  {
   "cell_type": "code",
   "execution_count": 10,
   "metadata": {
    "slideshow": {
     "slide_type": ""
    }
   },
   "outputs": [],
   "source": [
    "def knapsack(items, W):\n",
    "    \"\"\"\n",
    "    items: 아이템(물건)들의 리스트\n",
    "    W: 최대 저장용량\n",
    "    \"\"\"\n",
    "    \n",
    "    # 아이템(물건) 개수\n",
    "    n = len(items)\n",
    "\n",
    "    # P[i][w]를 담는 2차원 행렬을 영행렬오 초기화\n",
    "    # (n+1) x (W+1) 모양\n",
    "    P = [[0.0 for _ in range(W+1)] for _ in range(n+1)]\n",
    "\n",
    "    for i, item in enumerate(items):\n",
    "        wi = item.weight                     # (i+1) 번째 아이템 무게\n",
    "        pi = item.value                      # (i+1) 번째 아이템 가치\n",
    "\n",
    "        for w in range(1, W + 1):\n",
    "            previous_items_value = P[i][w]   # i번 행값을 이미 계산하였음. i는 0부터 시작함의 주의할 것\n",
    "            if w >= wi:                      # 현재 아이템의 무게가 가방에 들어갈 수 있는 경우\n",
    "                previous_items_value_without_wi = P[i][w - wi]\n",
    "                P[i+1][w] = max(previous_items_value,\n",
    "                                  previous_items_value_without_wi + pi)\n",
    "            else:\n",
    "                P[i+1][w] = previous_items_value\n",
    "                \n",
    "    return P"
   ]
  },
  {
   "cell_type": "markdown",
   "metadata": {
    "slideshow": {
     "slide_type": "slide"
    }
   },
   "source": [
    "* 최적의 조합을 알려주는 알려주는 함수"
   ]
  },
  {
   "cell_type": "code",
   "execution_count": 11,
   "metadata": {
    "slideshow": {
     "slide_type": ""
    }
   },
   "outputs": [],
   "source": [
    "def solution(items, W):\n",
    "    P = knapsack(items, W)\n",
    "    n = len(items)\n",
    "    w = W\n",
    "        \n",
    "    # 선택 아이템 저장\n",
    "    selected = []\n",
    "\n",
    "    # 선택된 아이템을 역순으로 확인\n",
    "    for i in range(n, 0, -1): \n",
    "        if P[i - 1][w] != P[i][w]:          # (i-1) 번째 아이템이 사용된 경우. 인덱스가 0부터 출발함에 주의\n",
    "            selected.append(items[i - 1])\n",
    "            w -= items[i - 1].weight        # (i-1) 번째 아이템의 무게 제거 \n",
    "    return selected"
   ]
  },
  {
   "cell_type": "markdown",
   "metadata": {
    "slideshow": {
     "slide_type": "slide"
    }
   },
   "source": [
    "* 획득된 최대 값어치를 알려주는 함수"
   ]
  },
  {
   "cell_type": "code",
   "execution_count": 12,
   "metadata": {},
   "outputs": [],
   "source": [
    "def max_value(items, W):\n",
    "    selected = solution(items, W)\n",
    "    sum = 0\n",
    "    \n",
    "    for item in selected:\n",
    "        sum += item.value\n",
    "    \n",
    "    return sum    "
   ]
  },
  {
   "cell_type": "markdown",
   "metadata": {
    "slideshow": {
     "slide_type": "slide"
    }
   },
   "source": [
    "#### 활용 1"
   ]
  },
  {
   "cell_type": "code",
   "execution_count": 13,
   "metadata": {
    "slideshow": {
     "slide_type": ""
    }
   },
   "outputs": [],
   "source": [
    "items1 = [Item(\"item1\", 1, 1),\n",
    "         Item(\"item2\", 1, 2),\n",
    "         Item(\"item3\", 2, 2),\n",
    "         Item(\"item4\", 4, 10),\n",
    "         Item(\"item5\", 12, 4)]"
   ]
  },
  {
   "cell_type": "code",
   "execution_count": 14,
   "metadata": {
    "slideshow": {
     "slide_type": "fragment"
    }
   },
   "outputs": [
    {
     "name": "stdout",
     "output_type": "stream",
     "text": [
      "Item(name='item4', weight=4, value=10)\n",
      "Item(name='item3', weight=2, value=2)\n",
      "Item(name='item2', weight=1, value=2)\n",
      "Item(name='item1', weight=1, value=1)\n"
     ]
    }
   ],
   "source": [
    "for item in solution(items1, 15):\n",
    "    print(item)"
   ]
  },
  {
   "cell_type": "code",
   "execution_count": 15,
   "metadata": {
    "slideshow": {
     "slide_type": "fragment"
    }
   },
   "outputs": [
    {
     "data": {
      "text/plain": [
       "15"
      ]
     },
     "execution_count": 15,
     "metadata": {},
     "output_type": "execute_result"
    }
   ],
   "source": [
    "max_value(items1, 15)"
   ]
  },
  {
   "cell_type": "markdown",
   "metadata": {
    "slideshow": {
     "slide_type": "slide"
    }
   },
   "source": [
    "#### 활용 2"
   ]
  },
  {
   "cell_type": "code",
   "execution_count": 16,
   "metadata": {
    "slideshow": {
     "slide_type": ""
    }
   },
   "outputs": [],
   "source": [
    "items2 = [Item(\"item1\", 5, 50),\n",
    "         Item(\"item2\", 10, 60),\n",
    "         Item(\"item3\", 20, 140)]"
   ]
  },
  {
   "cell_type": "code",
   "execution_count": 17,
   "metadata": {
    "slideshow": {
     "slide_type": "fragment"
    }
   },
   "outputs": [
    {
     "name": "stdout",
     "output_type": "stream",
     "text": [
      "Item(name='item3', weight=20, value=140)\n",
      "Item(name='item2', weight=10, value=60)\n"
     ]
    }
   ],
   "source": [
    "for item in solution(items2, 30):\n",
    "    print(item)"
   ]
  },
  {
   "cell_type": "markdown",
   "metadata": {
    "slideshow": {
     "slide_type": "slide"
    }
   },
   "source": [
    "#### 활용 3"
   ]
  },
  {
   "cell_type": "code",
   "execution_count": 18,
   "metadata": {
    "slideshow": {
     "slide_type": ""
    }
   },
   "outputs": [],
   "source": [
    "items3 = [Item(\"item1\", 1, 5),\n",
    "         Item(\"item2\", 2, 10),\n",
    "         Item(\"item3\", 1, 15)]"
   ]
  },
  {
   "cell_type": "code",
   "execution_count": 19,
   "metadata": {
    "slideshow": {
     "slide_type": "fragment"
    }
   },
   "outputs": [
    {
     "data": {
      "text/plain": [
       "[[0.0, 0.0, 0.0, 0.0],\n",
       " [0.0, 5.0, 5.0, 5.0],\n",
       " [0.0, 5.0, 10.0, 15.0],\n",
       " [0.0, 15.0, 20.0, 25.0]]"
      ]
     },
     "execution_count": 19,
     "metadata": {},
     "output_type": "execute_result"
    }
   ],
   "source": [
    "knapsack(items3, 3)"
   ]
  },
  {
   "cell_type": "code",
   "execution_count": 20,
   "metadata": {
    "slideshow": {
     "slide_type": "fragment"
    }
   },
   "outputs": [
    {
     "name": "stdout",
     "output_type": "stream",
     "text": [
      "Item(name='item3', weight=1, value=15)\n",
      "Item(name='item2', weight=2, value=10)\n"
     ]
    }
   ],
   "source": [
    "for item in solution(items3, 3):\n",
    "    print(item)"
   ]
  },
  {
   "cell_type": "markdown",
   "metadata": {
    "slideshow": {
     "slide_type": "slide"
    }
   },
   "source": [
    "### NamedTuple 클래스를 사용하지 않는 경우"
   ]
  },
  {
   "cell_type": "markdown",
   "metadata": {
    "slideshow": {
     "slide_type": "slide"
    }
   },
   "source": [
    "* 기본 클래스 정의를 활용하면 해야할 일이 좀 더 많아짐."
   ]
  },
  {
   "cell_type": "code",
   "execution_count": 21,
   "metadata": {
    "slideshow": {
     "slide_type": "fragment"
    }
   },
   "outputs": [],
   "source": [
    "class Item1:\n",
    "    def __init__(self, name, weight, value):\n",
    "        self.name = name\n",
    "        self.weight = weight\n",
    "        self.value = value"
   ]
  },
  {
   "cell_type": "code",
   "execution_count": 22,
   "metadata": {
    "slideshow": {
     "slide_type": "fragment"
    }
   },
   "outputs": [],
   "source": [
    "items4 = [Item1(\"item1\", 1, 1),\n",
    "         Item1(\"item2\", 1, 2),\n",
    "         Item1(\"item3\", 2, 2),\n",
    "         Item1(\"item4\", 4, 10),\n",
    "         Item1(\"item5\", 12, 4)]"
   ]
  },
  {
   "cell_type": "code",
   "execution_count": 23,
   "metadata": {
    "slideshow": {
     "slide_type": "fragment"
    }
   },
   "outputs": [
    {
     "name": "stdout",
     "output_type": "stream",
     "text": [
      "<__main__.Item1 object at 0x7fc172163be0>\n",
      "<__main__.Item1 object at 0x7fc172163b80>\n",
      "<__main__.Item1 object at 0x7fc172163ac0>\n",
      "<__main__.Item1 object at 0x7fc172163a60>\n"
     ]
    }
   ],
   "source": [
    "for item in solution(items4, 15):\n",
    "    print(item)"
   ]
  },
  {
   "cell_type": "markdown",
   "metadata": {
    "slideshow": {
     "slide_type": "slide"
    }
   },
   "source": [
    "* `__str__()` 메서드 구현 필요"
   ]
  },
  {
   "cell_type": "code",
   "execution_count": 24,
   "metadata": {
    "slideshow": {
     "slide_type": ""
    }
   },
   "outputs": [],
   "source": [
    "class Item1:\n",
    "    def __init__(self, name, weight, value):\n",
    "        self.name = name\n",
    "        self.weight = weight\n",
    "        self.value = value\n",
    "        \n",
    "    def __str__(self):\n",
    "        return 'Item(' + self.name + ', ' + str(self.weight) + ', ' + str(self.value) + ')'"
   ]
  },
  {
   "cell_type": "code",
   "execution_count": 25,
   "metadata": {
    "slideshow": {
     "slide_type": "fragment"
    }
   },
   "outputs": [],
   "source": [
    "items4 = [Item1(\"item1\", 1, 1),\n",
    "         Item1(\"item2\", 1, 2),\n",
    "         Item1(\"item3\", 2, 2),\n",
    "         Item1(\"item4\", 4, 10),\n",
    "         Item1(\"item5\", 12, 4)]"
   ]
  },
  {
   "cell_type": "code",
   "execution_count": 26,
   "metadata": {
    "slideshow": {
     "slide_type": "fragment"
    }
   },
   "outputs": [
    {
     "name": "stdout",
     "output_type": "stream",
     "text": [
      "Item(item4, 4, 10)\n",
      "Item(item3, 2, 2)\n",
      "Item(item2, 1, 2)\n",
      "Item(item1, 1, 1)\n"
     ]
    }
   ],
   "source": [
    "for item in solution(items4, 15):\n",
    "    print(item)"
   ]
  }
 ],
 "metadata": {
  "celltoolbar": "Slideshow",
  "kernelspec": {
   "display_name": "Python 3",
   "language": "python",
   "name": "python3"
  },
  "language_info": {
   "codemirror_mode": {
    "name": "ipython",
    "version": 3
   },
   "file_extension": ".py",
   "mimetype": "text/x-python",
   "name": "python",
   "nbconvert_exporter": "python",
   "pygments_lexer": "ipython3",
   "version": "3.8.3"
  }
 },
 "nbformat": 4,
 "nbformat_minor": 4
}
