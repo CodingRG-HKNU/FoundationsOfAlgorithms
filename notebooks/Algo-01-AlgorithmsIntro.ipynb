{
 "cells": [
  {
   "cell_type": "markdown",
   "metadata": {
    "slideshow": {
     "slide_type": "slide"
    }
   },
   "source": [
    "# 1장 알고리즘: 효율성, 분석, 차수"
   ]
  },
  {
   "cell_type": "markdown",
   "metadata": {
    "slideshow": {
     "slide_type": "slide"
    }
   },
   "source": [
    "## 책 소개\n",
    "\n",
    "* __알고리즘 기초(Foundations of Algorithms)__"
   ]
  },
  {
   "cell_type": "markdown",
   "metadata": {
    "slideshow": {
     "slide_type": "fragment"
    }
   },
   "source": [
    "* 리차드 네아폴리탄 저, 도경구 역, 홍릉과학출판사"
   ]
  },
  {
   "cell_type": "markdown",
   "metadata": {
    "slideshow": {
     "slide_type": "fragment"
    }
   },
   "source": [
    "* 주요 내용: 컴퓨터로 문제 푸는 기법 배우기"
   ]
  },
  {
   "cell_type": "markdown",
   "metadata": {
    "slideshow": {
     "slide_type": "slide"
    }
   },
   "source": [
    "### 목차\n",
    "\n",
    "* 1장: 알고리즘: 효율성, 분석, 차수"
   ]
  },
  {
   "cell_type": "markdown",
   "metadata": {
    "slideshow": {
     "slide_type": "subslide"
    }
   },
   "source": [
    "* 2장 - 6장: 다양한 문제풀이 기법 및 적용 예제\n",
    "    * 2장 분할정복\n",
    "    * 3장 동적계획\n",
    "    * 4장 탐욕 알고리즘\n",
    "    * 5장 되추적\n",
    "    * 6장 분기한정법   "
   ]
  },
  {
   "cell_type": "markdown",
   "metadata": {
    "slideshow": {
     "slide_type": "subslide"
    }
   },
   "source": [
    "* 7장 계산복잡도 소개: 정렬문제\n",
    "* 8장 계산복잡도: 검색문제\n",
    "* 9장 계산복잡도와 문제 난이도: NP 이론 소개"
   ]
  },
  {
   "cell_type": "markdown",
   "metadata": {
    "slideshow": {
     "slide_type": "slide"
    }
   },
   "source": [
    "## 1장 주요 내용\n",
    "\n",
    "* 1절 알고리즘"
   ]
  },
  {
   "cell_type": "markdown",
   "metadata": {
    "slideshow": {
     "slide_type": "fragment"
    }
   },
   "source": [
    "* 2절 효율적인 알고리즘 개발 중요성"
   ]
  },
  {
   "cell_type": "markdown",
   "metadata": {
    "slideshow": {
     "slide_type": "fragment"
    }
   },
   "source": [
    "* 3절 알고리즘 분석"
   ]
  },
  {
   "cell_type": "markdown",
   "metadata": {
    "slideshow": {
     "slide_type": "fragment"
    }
   },
   "source": [
    "* 4절 차수"
   ]
  },
  {
   "cell_type": "markdown",
   "metadata": {
    "slideshow": {
     "slide_type": "slide"
    }
   },
   "source": [
    "## 1절 알고리즘"
   ]
  },
  {
   "cell_type": "markdown",
   "metadata": {
    "slideshow": {
     "slide_type": "slide"
    }
   },
   "source": [
    "### 프로그램 설계 과정\n",
    "<br>\n",
    "\n",
    "<div align=\"center\"><img src=\"images/algo01-01.png\" width=\"800\"/></div>"
   ]
  },
  {
   "cell_type": "markdown",
   "metadata": {
    "slideshow": {
     "slide_type": "slide"
    }
   },
   "source": [
    "### 알고리즘이란?\n",
    "\n",
    "* 컴퓨터를 이용하여 주어진 문제를 해결하는 기법"
   ]
  },
  {
   "cell_type": "markdown",
   "metadata": {
    "slideshow": {
     "slide_type": "fragment"
    }
   },
   "source": [
    "* 컴퓨터 프로그램은 여러 방법 중에서 한 가지 방법을 선택하여 구현"
   ]
  },
  {
   "cell_type": "markdown",
   "metadata": {
    "slideshow": {
     "slide_type": "fragment"
    }
   },
   "source": [
    "* 프로그래밍 언어, 프로그래밍 스타일과 무관"
   ]
  },
  {
   "cell_type": "markdown",
   "metadata": {
    "slideshow": {
     "slide_type": "subslide"
    }
   },
   "source": [
    "#### 알고리즘과 절차\n",
    "\n",
    "* 절차: 문제해결 알고리즘 적용 순서"
   ]
  },
  {
   "cell_type": "markdown",
   "metadata": {
    "slideshow": {
     "slide_type": "slide"
    }
   },
   "source": [
    "### 알고리즘 효율성 분석\n",
    "\n",
    "* 효율성: 문제해결을 위한 필수 요소\n",
    "    * 컴퓨터 속도가 아무리 빨라져도, 메모리 가격이 아무리 저렴해져도 효율성 문제는 언제나 중요!\n",
    "    * 수천년, 수만년 동안 실행되어야 끝나는 비효율적 알고리즘이 일반적으로 존재."
   ]
  },
  {
   "cell_type": "markdown",
   "metadata": {
    "slideshow": {
     "slide_type": "subslide"
    }
   },
   "source": [
    "* 분석: 알고리즘의 효율성 판단\n",
    "    * 효율성 판단 기준: 계산복잡도\n",
    "    * 계산복잡도\n",
    "        * 시간복잡도: 특정 연산의 실행 횟수\n",
    "        * 공간복잡도: 메모리 공간 사용 정도"
   ]
  },
  {
   "cell_type": "markdown",
   "metadata": {
    "slideshow": {
     "slide_type": "subslide"
    }
   },
   "source": [
    "* 차수: 계산복잡도 판단 기준\n",
    "    * 계산복잡도 함수의 차수(order) 기준\n",
    "    * 차수를 이용하여 알고리즘을 계산복잡도를 기준으로 다양한 카테고리로 분류"
   ]
  },
  {
   "cell_type": "markdown",
   "metadata": {
    "slideshow": {
     "slide_type": "slide"
    }
   },
   "source": [
    "#### 알고리즘 효율성 비교 예제\n",
    "\n",
    "* 문제: 전화번호부에서 '홍길동'의 전화번호 찾기"
   ]
  },
  {
   "cell_type": "markdown",
   "metadata": {
    "slideshow": {
     "slide_type": "fragment"
    }
   },
   "source": [
    "* 알고리즘 1: 순차검색\n",
    "    * 첫 쪽부터 '홍길동'이라는 이름이 나올 때까지 순서대로 찾는다."
   ]
  },
  {
   "cell_type": "markdown",
   "metadata": {
    "slideshow": {
     "slide_type": "fragment"
    }
   },
   "source": [
    "* 알고리즘 2: 이분검색\n",
    "    * 전화번호부는 '가나다'순\n",
    "    * 먼저 'ㅎ'이 있을 만한 곳을 적당히 확인\n",
    "    * 이후 앞뒤로 뒤적여가며 검색"
   ]
  },
  {
   "cell_type": "markdown",
   "metadata": {
    "slideshow": {
     "slide_type": "subslide"
    }
   },
   "source": [
    "#### 분석: 어떤 알고리즘이 더 효율적인가?\n",
    "\n",
    "* 이분검색이 보다 효율적임."
   ]
  },
  {
   "cell_type": "markdown",
   "metadata": {
    "slideshow": {
     "slide_type": "slide"
    }
   },
   "source": [
    "### 알고리즘 표기법\n",
    "\n",
    "* 자연어: 한글 또는 영어\n",
    "    * 단점 1: 복잡한 알고리즘 설명과 전달 어려움\n",
    "    * 단점 2: 실제로 구현하기 어려움"
   ]
  },
  {
   "cell_type": "markdown",
   "metadata": {
    "slideshow": {
     "slide_type": "subslide"
    }
   },
   "source": [
    "* 의사코드(Pseudo-code)\n",
    "    * 실제 프로그래밍 언어와 유사한 언어로 작성된 코드\n",
    "    * 자연어 사용의 단점 해결\n",
    "    * 하지만 직접 실행할 수 없음.\n",
    "    * 교재: C++에 가까운 의사코드 사용"
   ]
  },
  {
   "cell_type": "markdown",
   "metadata": {
    "slideshow": {
     "slide_type": "subslide"
    }
   },
   "source": [
    "#### 강의에 사용되는 언어: 파이썬3\n",
    "\n",
    "* 설치: 아나콘다(Anaconda) 패키지 설치 추천\n",
    "* 주피터 노트북 활용\n",
    "* 파이썬은 기본패키지만 사용"
   ]
  },
  {
   "cell_type": "markdown",
   "metadata": {
    "slideshow": {
     "slide_type": "subslide"
    }
   },
   "source": [
    "#### 파이썬 활용의 장점\n",
    "\n",
    "* 의사코드 수준의 프로그래밍 작성 가능\n",
    "* 책의 의사코드와 매우 유사하게 구현하여 실행 가능"
   ]
  },
  {
   "cell_type": "markdown",
   "metadata": {
    "slideshow": {
     "slide_type": "slide"
    }
   },
   "source": [
    "### 예제: 순차검색\n",
    "\n",
    "* 문제: 리스트 $S$에 $x$가 항목으로 포함되어 있는가?\n",
    "    * 입력 파라미터: 리스트 $S$와 값 $x$\n",
    "    * 리턴값: \n",
    "        * $x$가 $S$의 항목일 경우: $x$의 위치 인덱스\n",
    "        * 항목이 아닐 경우 -1."
   ]
  },
  {
   "cell_type": "markdown",
   "metadata": {
    "slideshow": {
     "slide_type": "subslide"
    }
   },
   "source": [
    "* 알고리즘 (자연어): \n",
    "    * $x$와 같은 항목을 찾을 때까지 $S$에 있는 모든 항목을 차례로 검사\n",
    "    * 만일 $x$와 같은 항목을 찾으면 항목의 인덱스 내주기\n",
    "    * $S$를 모두 검사하고도 찾지 못하면 -1 내주기"
   ]
  },
  {
   "cell_type": "code",
   "execution_count": 1,
   "metadata": {
    "slideshow": {
     "slide_type": "subslide"
    }
   },
   "outputs": [],
   "source": [
    "# 순차검색 알고리즘\n",
    "\n",
    "def seqsearch(S, x):\n",
    "    location = 0\n",
    "    \n",
    "    # while 반복문 실행횟수 확인용\n",
    "    loop_count = 0\n",
    "\n",
    "    while location < len(S) and S[location] != x:\n",
    "        loop_count += 1\n",
    "        location += 1\n",
    "\n",
    "    if location < len(S):\n",
    "        return (location, loop_count)\n",
    "    else:\n",
    "        return (-1, loop_count)"
   ]
  },
  {
   "cell_type": "code",
   "execution_count": 2,
   "metadata": {
    "cell_style": "split",
    "slideshow": {
     "slide_type": "subslide"
    }
   },
   "outputs": [
    {
     "name": "stdout",
     "output_type": "stream",
     "text": [
      "(5, 5)\n"
     ]
    }
   ],
   "source": [
    "seq = list(range(30))\n",
    "val = 5\n",
    "\n",
    "print(seqsearch(seq, val))"
   ]
  },
  {
   "cell_type": "code",
   "execution_count": 3,
   "metadata": {
    "cell_style": "split",
    "slideshow": {
     "slide_type": "fragment"
    }
   },
   "outputs": [
    {
     "name": "stdout",
     "output_type": "stream",
     "text": [
      "(10, 10)\n"
     ]
    }
   ],
   "source": [
    "seq = list(range(30))\n",
    "val = 10\n",
    "\n",
    "print(seqsearch(seq, val))"
   ]
  },
  {
   "cell_type": "code",
   "execution_count": 4,
   "metadata": {
    "cell_style": "split",
    "slideshow": {
     "slide_type": "fragment"
    }
   },
   "outputs": [
    {
     "name": "stdout",
     "output_type": "stream",
     "text": [
      "(20, 20)\n"
     ]
    }
   ],
   "source": [
    "seq = list(range(30))\n",
    "val = 20\n",
    "\n",
    "print(seqsearch(seq, val))"
   ]
  },
  {
   "cell_type": "code",
   "execution_count": 5,
   "metadata": {
    "cell_style": "split",
    "slideshow": {
     "slide_type": "fragment"
    }
   },
   "outputs": [
    {
     "name": "stdout",
     "output_type": "stream",
     "text": [
      "(29, 29)\n"
     ]
    }
   ],
   "source": [
    "seq = list(range(30))\n",
    "val = 29\n",
    "\n",
    "print(seqsearch(seq, val))"
   ]
  },
  {
   "cell_type": "code",
   "execution_count": 6,
   "metadata": {
    "cell_style": "split",
    "slideshow": {
     "slide_type": "fragment"
    }
   },
   "outputs": [
    {
     "name": "stdout",
     "output_type": "stream",
     "text": [
      "(-1, 30)\n"
     ]
    }
   ],
   "source": [
    "seq = list(range(30))\n",
    "val = 30\n",
    "\n",
    "print(seqsearch(seq, val))"
   ]
  },
  {
   "cell_type": "code",
   "execution_count": 7,
   "metadata": {
    "cell_style": "split",
    "slideshow": {
     "slide_type": "fragment"
    }
   },
   "outputs": [
    {
     "name": "stdout",
     "output_type": "stream",
     "text": [
      "(-1, 30)\n"
     ]
    }
   ],
   "source": [
    "seq = list(range(30))\n",
    "val = 100\n",
    "\n",
    "print(seqsearch(seq, val))"
   ]
  },
  {
   "cell_type": "markdown",
   "metadata": {
    "slideshow": {
     "slide_type": "fragment"
    }
   },
   "source": [
    "* 입력값의 위치에 따라 `while` 반복문의 실행횟수가 선형적으로 달라짐."
   ]
  },
  {
   "cell_type": "markdown",
   "metadata": {
    "slideshow": {
     "slide_type": "subslide"
    }
   },
   "source": [
    "#### 파이썬튜터 활용: 순차검색\n",
    "\n",
    "* 위 순차검색 코드를 \n",
    "[PythonTutor: 순차검색](http://pythontutor.com/visualize.html#code=%23%20%EC%88%9C%EC%B0%A8%EA%B2%80%EC%83%89%20%EC%95%8C%EA%B3%A0%EB%A6%AC%EC%A6%98%0A%0Adef%20seqsearch%28S,%20x%29%3A%0A%20%20%20%20location%20%3D%200%0A%0A%20%20%20%20%23%20while%20%EB%B0%98%EB%B3%B5%EB%AC%B8%20%EC%8B%A4%ED%96%89%ED%9A%9F%EC%88%98%20%ED%99%95%EC%9D%B8%EC%9A%A9%0A%20%20%20%20loop_count%20%3D%200%0A%0A%20%20%20%20while%20location%20%3C%20len%28S%29%20and%20S%5Blocation%5D%20!%3D%20x%3A%0A%20%20%20%20%20%20%20%20loop_count%20%2B%3D%201%0A%20%20%20%20%20%20%20%20location%20%2B%3D%201%0A%0A%20%20%20%20if%20location%20%3C%20len%28S%29%3A%0A%20%20%20%20%20%20%20%20return%20%28location,%20loop_count%29%0A%20%20%20%20else%3A%0A%20%20%20%20%20%20%20%20return%20%28-1,%20loop_count%29%0A%0Aseq%20%3D%20list%28range%2830%29%29%0Aval%20%3D%205%0A%0Aprint%28seqsearch%28seq,%20val%29%29&cumulative=false&curInstr=0&heapPrimitives=nevernest&mode=display&origin=opt-frontend.js&py=3&rawInputLstJSON=%5B%5D&textReferences=false)\n",
    "에서 실행하면서 메모리에서의 변화 확인 가능"
   ]
  },
  {
   "cell_type": "markdown",
   "metadata": {
    "slideshow": {
     "slide_type": "subslide"
    }
   },
   "source": [
    "#### 순차검색 분석\n",
    "\n",
    "* 특정 값의 위치를 확인하기 위해서 $S$의 항목 몇 개를 검색해야 하는가?\n",
    "    * 특정 값과 동일한 항목의 위치에 따라 다름\n",
    "    * 최악의 경우: $S$의 길이, 즉, 항목의 개수"
   ]
  },
  {
   "cell_type": "markdown",
   "metadata": {
    "slideshow": {
     "slide_type": "fragment"
    }
   },
   "source": [
    "* 좀 더 빨리 찾을 수는 없는가?\n",
    "    * $S$에 있는 항목에 대한 정보가 없는 한 더 빨리 찾을 수 없음."
   ]
  },
  {
   "cell_type": "markdown",
   "metadata": {
    "slideshow": {
     "slide_type": "slide"
    }
   },
   "source": [
    "## 2절 효율적 알고리즘 개발 중요성"
   ]
  },
  {
   "cell_type": "markdown",
   "metadata": {
    "slideshow": {
     "slide_type": "slide"
    }
   },
   "source": [
    "### 효율적 검색 알고리즘 예제: 이분검색\n",
    "\n",
    "* 문제: 항목이 __비내림차순(오름차순)으로 정렬된 리스트__ $S$에 $x$가 항목으로 포함되어 있는가?\n",
    "    * 입력 파라미터: 리스트 $S$와 값 $x$\n",
    "    * 리턴값: \n",
    "        * $x$가 $S$의 항목일 경우: $x$의 위치 인덱스\n",
    "        * 항목이 아닐 경우 -1."
   ]
  },
  {
   "cell_type": "markdown",
   "metadata": {
    "slideshow": {
     "slide_type": "subslide"
    }
   },
   "source": [
    "* 알고리즘 (자연어): \n",
    "    * $S$의 중간에 위치한 항목과 $x$를 비교\n",
    "        * 만일 $x$와 같으면 해당 항목의 인덱스 내주기\n",
    "        * 만일 $x$가 중간에 위치한 값보다 작으면 중간 왼편에 위치한 구간에서 새롭게 검색\n",
    "        * 만일 $x$가 중간에 위치한 값보다 크면 중간 오른편에 위치한 구간에서 새롭게 검색\n",
    "    * $x$와 같은 항목을 찾거나 검색 구간의 크기가 0이 될 때가지 위 절차 반복"
   ]
  },
  {
   "cell_type": "code",
   "execution_count": 8,
   "metadata": {
    "cell_style": "center",
    "slideshow": {
     "slide_type": "subslide"
    }
   },
   "outputs": [],
   "source": [
    "# 이분검색 알고리즘\n",
    "\n",
    "def binsearch(S, x):\n",
    "    low, high = 0, len(S)-1\n",
    "    location = -1\n",
    "\n",
    "    # while 반복문 실행횟수 확인용    \n",
    "    loop_count = 0\n",
    "\n",
    "    while low <= high and location == -1:\n",
    "        loop_count += 1\n",
    "        mid = (low + high)//2\n",
    "\n",
    "        if x == S[mid]:\n",
    "            location = mid\n",
    "        elif x < S[mid]:\n",
    "            high = mid - 1\n",
    "        else:\n",
    "            low = mid + 1\n",
    "    \n",
    "    return (location, loop_count)    "
   ]
  },
  {
   "cell_type": "code",
   "execution_count": 9,
   "metadata": {
    "cell_style": "split",
    "slideshow": {
     "slide_type": "subslide"
    }
   },
   "outputs": [
    {
     "name": "stdout",
     "output_type": "stream",
     "text": [
      "(5, 5)\n"
     ]
    }
   ],
   "source": [
    "seq = list(range(30))\n",
    "val = 5\n",
    "\n",
    "print(binsearch(seq, val))"
   ]
  },
  {
   "cell_type": "code",
   "execution_count": 10,
   "metadata": {
    "cell_style": "split",
    "slideshow": {
     "slide_type": "fragment"
    }
   },
   "outputs": [
    {
     "name": "stdout",
     "output_type": "stream",
     "text": [
      "(10, 3)\n"
     ]
    }
   ],
   "source": [
    "seq = list(range(30))\n",
    "val = 10\n",
    "\n",
    "print(binsearch(seq, val))"
   ]
  },
  {
   "cell_type": "code",
   "execution_count": 11,
   "metadata": {
    "cell_style": "split",
    "slideshow": {
     "slide_type": "fragment"
    }
   },
   "outputs": [
    {
     "name": "stdout",
     "output_type": "stream",
     "text": [
      "(20, 4)\n"
     ]
    }
   ],
   "source": [
    "seq = list(range(30))\n",
    "val = 20\n",
    "\n",
    "print(binsearch(seq, val))"
   ]
  },
  {
   "cell_type": "code",
   "execution_count": 12,
   "metadata": {
    "cell_style": "split",
    "slideshow": {
     "slide_type": "fragment"
    }
   },
   "outputs": [
    {
     "name": "stdout",
     "output_type": "stream",
     "text": [
      "(29, 5)\n"
     ]
    }
   ],
   "source": [
    "seq = list(range(30))\n",
    "val = 29\n",
    "\n",
    "print(binsearch(seq, val))"
   ]
  },
  {
   "cell_type": "code",
   "execution_count": 13,
   "metadata": {
    "cell_style": "split",
    "slideshow": {
     "slide_type": "fragment"
    }
   },
   "outputs": [
    {
     "name": "stdout",
     "output_type": "stream",
     "text": [
      "(-1, 5)\n"
     ]
    }
   ],
   "source": [
    "seq = list(range(30))\n",
    "val = 30\n",
    "\n",
    "print(binsearch(seq, val))"
   ]
  },
  {
   "cell_type": "code",
   "execution_count": 14,
   "metadata": {
    "cell_style": "split",
    "slideshow": {
     "slide_type": "fragment"
    }
   },
   "outputs": [
    {
     "name": "stdout",
     "output_type": "stream",
     "text": [
      "(-1, 5)\n"
     ]
    }
   ],
   "source": [
    "seq = list(range(30))\n",
    "val = 100\n",
    "\n",
    "print(binsearch(seq, val))"
   ]
  },
  {
   "cell_type": "markdown",
   "metadata": {
    "slideshow": {
     "slide_type": "fragment"
    }
   },
   "source": [
    "* 입력값이 달라져도 `while` 반복문의 실행횟수가 거의 변하지 않음."
   ]
  },
  {
   "cell_type": "markdown",
   "metadata": {
    "slideshow": {
     "slide_type": "subslide"
    }
   },
   "source": [
    "#### 파이썬튜터 활용: 이분검색\n",
    "\n",
    "* 위 이분검색 코드를 \n",
    "[PythonTutor: 이분검색](http://pythontutor.com/visualize.html#code=%23%20%EC%9D%B4%EB%B6%84%EA%B2%80%EC%83%89%20%EC%95%8C%EA%B3%A0%EB%A6%AC%EC%A6%98%0A%0Adef%20binsearch%28S,%20x%29%3A%0A%20%20%20%20low,%20high%20%3D%200,%20len%28S%29-1%0A%20%20%20%20location%20%3D%20-1%0A%20%20%20%20%0A%20%20%20%20%23%20while%20%EB%B0%98%EB%B3%B5%EB%AC%B8%20%EC%8B%A4%ED%96%89%ED%9A%9F%EC%88%98%20%ED%99%95%EC%9D%B8%EC%9A%A9%20%20%20%20%0A%20%20%20%20loop_count%20%3D%200%0A%0A%20%20%20%20while%20low%20%3C%3D%20high%20and%20location%20%3D%3D%20-1%3A%0A%20%20%20%20%20%20%20%20loop_count%20%2B%3D%201%0A%20%20%20%20%20%20%20%20mid%20%3D%20%28low%20%2B%20high%29//2%0A%0A%20%20%20%20%20%20%20%20if%20x%20%3D%3D%20S%5Bmid%5D%3A%0A%20%20%20%20%20%20%20%20%20%20%20%20location%20%3D%20mid%0A%20%20%20%20%20%20%20%20elif%20x%20%3C%20S%5Bmid%5D%3A%0A%20%20%20%20%20%20%20%20%20%20%20%20high%20%3D%20mid%20-%201%0A%20%20%20%20%20%20%20%20else%3A%0A%20%20%20%20%20%20%20%20%20%20%20%20low%20%3D%20mid%20%2B%201%0A%20%20%20%20%0A%20%20%20%20return%20%28location,%20loop_count%29%20%20%20%20%0A%20%20%20%20%20%20%20%20%0Aseq%20%3D%20list%28range%2830%29%29%0Aval%20%3D%205%0A%0Aprint%28binsearch%28seq,%20val%29%29&cumulative=false&curInstr=0&heapPrimitives=nevernest&mode=display&origin=opt-frontend.js&py=3&rawInputLstJSON=%5B%5D&textReferences=false)\n",
    "에서 실행하면서 메모리에서의 변화 확인 가능"
   ]
  },
  {
   "cell_type": "markdown",
   "metadata": {
    "slideshow": {
     "slide_type": "subslide"
    }
   },
   "source": [
    "#### 이분검색 분석\n",
    "\n",
    "* 이분검색으로 특정 값의 위치를 확인하기 위해서 \n",
    "    $S$의 항목 몇 개를 검색해야 하는가?\n",
    "    * `while` 반복문이 실행될 때마다 검색 대상의 총 크기가 절반으로 감소됨.\n",
    "    * 따라서 최악의 경우 $(\\lg n + 1)$개의 항목만 검사하면 됨.\n",
    "    * 여기서 $\\lg := \\log_2$."
   ]
  },
  {
   "cell_type": "markdown",
   "metadata": {
    "slideshow": {
     "slide_type": "slide"
    }
   },
   "source": [
    "### 순차검색 vs 이분검색\n",
    "\n",
    "* 최악의 경우 확인 항목수\n",
    "    <br>\n",
    "\n",
    "| <div style=\"width:250px\">배열 크기</div> | <div style=\"width:250px\">순차 검색</div> | <div style=\"width:250px\">이분 검색</div> |\n",
    "|--------:|--------:|--------:|\n",
    "| $n$ | $n$ | $\\lg n + 1$ |\n",
    "| $128$ | $128$ | $8$ |\n",
    "| $1,024$ | $1,024$ | $11$ |\n",
    "| $1,048,576$ | $1,048,576$ | $21$ |\n",
    "| $4,294,967,296$ | $4,294,967,296$ | $33$ |"
   ]
  },
  {
   "cell_type": "markdown",
   "metadata": {
    "slideshow": {
     "slide_type": "subslide"
    }
   },
   "source": [
    "#### 이분검색 활용\n",
    "\n",
    "* 다음, 네이버, 구글, 트위터 등등 수백에서 수천만의 회원을 대상으로 검색을 진행하고자 한다면 어떤 알고리즘 선택?"
   ]
  },
  {
   "cell_type": "markdown",
   "metadata": {
    "slideshow": {
     "slide_type": "fragment"
    }
   },
   "source": [
    "<div align=\"center\"><b>당연히 이분검색!</b></div>"
   ]
  },
  {
   "cell_type": "markdown",
   "metadata": {
    "slideshow": {
     "slide_type": "fragment"
    }
   },
   "source": [
    "* 이분 검색은 검색 속도가 사실상 최고로 빠름"
   ]
  },
  {
   "cell_type": "markdown",
   "metadata": {
    "slideshow": {
     "slide_type": "slide"
    }
   },
   "source": [
    "### 예제: 피보나찌 수 구하기 알고리즘\n",
    "\n",
    "* 피보나치 수열 정의\n",
    "\n",
    "\\begin{align*}\n",
    "f_0 & = 0 \\\\\n",
    "f_1 & = 1 \\\\\n",
    "f_n & = f_{n-1} + f_{n-2} \\quad (n \\ge 2)\n",
    "\\end{align*}"
   ]
  },
  {
   "cell_type": "markdown",
   "metadata": {
    "slideshow": {
     "slide_type": "fragment"
    }
   },
   "source": [
    "* 피보나찌 수 예제\n",
    "\n",
    "$$0, 1, 1, 2, 3, 5, 8, 13, 21, 34, 55, 89, 144, 233, \\dots$$"
   ]
  },
  {
   "cell_type": "markdown",
   "metadata": {
    "slideshow": {
     "slide_type": "slide"
    }
   },
   "source": [
    "#### 피보나찌 수 구하기 알고리즘(재귀)\n",
    "\n",
    "* 문제: 피보나찌 수열에서 $n$번째 수를 구하라.\n",
    "    * 입력: 음이 아닌 정수\n",
    "    * 출력: $n$번째 피보나찌 수"
   ]
  },
  {
   "cell_type": "code",
   "execution_count": 15,
   "metadata": {
    "slideshow": {
     "slide_type": "subslide"
    }
   },
   "outputs": [],
   "source": [
    "# 피보나찌 수 구하기 알고리즘(재귀)\n",
    "\n",
    "def fib(n):\n",
    "    if (n <= 1):\n",
    "        return n\n",
    "    else:\n",
    "        return fib(n-1) + fib(n-2)"
   ]
  },
  {
   "cell_type": "code",
   "execution_count": 16,
   "metadata": {
    "cell_style": "split",
    "slideshow": {
     "slide_type": "fragment"
    }
   },
   "outputs": [
    {
     "data": {
      "text/plain": [
       "2"
      ]
     },
     "execution_count": 16,
     "metadata": {},
     "output_type": "execute_result"
    }
   ],
   "source": [
    "fib(3)"
   ]
  },
  {
   "cell_type": "code",
   "execution_count": 17,
   "metadata": {
    "cell_style": "split",
    "slideshow": {
     "slide_type": "fragment"
    }
   },
   "outputs": [
    {
     "data": {
      "text/plain": [
       "8"
      ]
     },
     "execution_count": 17,
     "metadata": {},
     "output_type": "execute_result"
    }
   ],
   "source": [
    "fib(6)"
   ]
  },
  {
   "cell_type": "code",
   "execution_count": 18,
   "metadata": {
    "cell_style": "split",
    "slideshow": {
     "slide_type": "fragment"
    }
   },
   "outputs": [
    {
     "data": {
      "text/plain": [
       "55"
      ]
     },
     "execution_count": 18,
     "metadata": {},
     "output_type": "execute_result"
    }
   ],
   "source": [
    "fib(10)"
   ]
  },
  {
   "cell_type": "code",
   "execution_count": 19,
   "metadata": {
    "cell_style": "split",
    "slideshow": {
     "slide_type": "fragment"
    }
   },
   "outputs": [
    {
     "data": {
      "text/plain": [
       "233"
      ]
     },
     "execution_count": 19,
     "metadata": {},
     "output_type": "execute_result"
    }
   ],
   "source": [
    "fib(13)"
   ]
  },
  {
   "cell_type": "markdown",
   "metadata": {
    "slideshow": {
     "slide_type": "subslide"
    }
   },
   "source": [
    "#### `fib` 함수 분석\n",
    "\n",
    "* 작성하기도 이해하기도 쉽지만, 매우 비효율적임."
   ]
  },
  {
   "cell_type": "markdown",
   "metadata": {
    "slideshow": {
     "slide_type": "fragment"
    }
   },
   "source": [
    "* 이유는 동일한 값을 반복적으로 계산하기 때문."
   ]
  },
  {
   "cell_type": "markdown",
   "metadata": {
    "slideshow": {
     "slide_type": "subslide"
    }
   },
   "source": [
    "* 예를들어, `fib(5)`를 계산하기 위해 `fib(2)`가 세 번 호출됨. 아래 나무구조 그림 참조."
   ]
  },
  {
   "cell_type": "markdown",
   "metadata": {
    "slideshow": {
     "slide_type": "fragment"
    }
   },
   "source": [
    "<div align=\"center\"><img src=\"images/algo01-03.png\" width=\"700\"/></div>"
   ]
  },
  {
   "cell_type": "markdown",
   "metadata": {
    "slideshow": {
     "slide_type": "subslide"
    }
   },
   "source": [
    "#### `fib` 함수 호출 횟수\n",
    "\n",
    "* $T(n)$ = `fib(n)`을 계산하기 위해 `fib` 함수를 호출한 횟수. \n",
    "    * 즉, `fib(n)`을 위한 재귀 나무구조에 포함된 마디(node)의 개수"
   ]
  },
  {
   "cell_type": "markdown",
   "metadata": {
    "slideshow": {
     "slide_type": "fragment"
    }
   },
   "source": [
    "* 아래 부등식 성립."
   ]
  },
  {
   "cell_type": "markdown",
   "metadata": {
    "slideshow": {
     "slide_type": "fragment"
    }
   },
   "source": [
    "\\begin{align*}\n",
    "T(0) &= 1 \\\\\n",
    "T(1) &= 1 \\\\\n",
    "T(n) &= T(n - 1) + T(n - 2) +1  \\quad (n \\ge 2) \\\\\n",
    "     &> 2 \\times T(n - 2) \t    \\qquad\\qquad\\quad\\; (T(n - 1) > T(n - 2)) \\\\\n",
    "     &> 2^2 \\times T(n - 4)     \\\\\n",
    "     &> 2^3 \\times T(n - 6)     \\\\\n",
    "     &  \\dots                   \\\\\n",
    "     &> 2^{n/2} \\times T(0) = 2^{n/2}\n",
    "\\end{align*}"
   ]
  },
  {
   "cell_type": "markdown",
   "metadata": {
    "slideshow": {
     "slide_type": "subslide"
    }
   },
   "source": [
    "* 증명\n",
    "    * 수학적 귀납법 활용\n",
    "    * 교재 14쪽, 정리 1.1 참조."
   ]
  },
  {
   "cell_type": "markdown",
   "metadata": {
    "slideshow": {
     "slide_type": "subslide"
    }
   },
   "source": [
    "#### 정리 1.1\n",
    "\n",
    "* 재귀적 알고리즘으로 구성한 재귀 나무구조의 마디의 수를 $T(n)$이라고 하면, \n",
    "    $n \\ge 2$인 모든 $n$에 대하여 다음이 성립한다.\n",
    "    \n",
    "    $$T(n) > 2^{n/2}$$"
   ]
  },
  {
   "cell_type": "markdown",
   "metadata": {
    "slideshow": {
     "slide_type": "fragment"
    }
   },
   "source": [
    "* 증명: ($n$에 대한 수학적 귀납법으로 증명)"
   ]
  },
  {
   "cell_type": "markdown",
   "metadata": {
    "slideshow": {
     "slide_type": "subslide"
    }
   },
   "source": [
    "* 귀납시작: \n",
    "    * $T(2) = T(1) + T(0) + 1 = 3 > 2 = 2^{2/2}$\n",
    "    * $T(3) = T(2) + T(1) + 1 = 5 > 2.83 \\approx 2^{3/2}$"
   ]
  },
  {
   "cell_type": "markdown",
   "metadata": {
    "slideshow": {
     "slide_type": "fragment"
    }
   },
   "source": [
    "* 귀납가정(IH): $2 \\le m < n$인 모든 $m$ 에 대해서 $T(m) > 2^{m/2}$이라고 가정."
   ]
  },
  {
   "cell_type": "markdown",
   "metadata": {
    "slideshow": {
     "slide_type": "subslide"
    }
   },
   "source": [
    "* 귀납절차: $T(n) > 2^{n/2}$임을 보이면 됨.\n",
    "\n",
    "\\begin{align*}\n",
    "T(n) &= T(n-1) + T(n-2) + 1              \\\\\n",
    "     &> 2^{(n-1)/2} + 2^{(n-2)/2} + 1 \\quad{\\text{by (IH)}}   \\\\\n",
    "     &> 2^{(n-2)/2} + 2^{(n-2)/2}         \\\\ \n",
    "     &= 2 \\times 2^{(n/2)-1}\\\\\n",
    "     &= 2^{n/2}\n",
    "\\end{align*}"
   ]
  },
  {
   "cell_type": "markdown",
   "metadata": {
    "slideshow": {
     "slide_type": "slide"
    }
   },
   "source": [
    "#### 피보나찌 수 구하기 알고리즘 (반복)\n",
    "\n",
    "* 한 번 계산한 값을 리스트에 저장.\n",
    "* 중복 계산 없음: 필요할 때 저장된 값 활용"
   ]
  },
  {
   "cell_type": "code",
   "execution_count": 20,
   "metadata": {
    "slideshow": {
     "slide_type": "subslide"
    }
   },
   "outputs": [],
   "source": [
    "# 피보나찌 수 구하기 알고리즘 (반복)\n",
    "\n",
    "def fib2(n):\n",
    "    f = []\n",
    "    \n",
    "    f.append(0)\n",
    "    if n > 0:\n",
    "        f.append(1)\n",
    "        for i in range(2, n+1):\n",
    "            fi = f[i-1] + f[i-2]\n",
    "            f.append(fi)\n",
    "    return f[n]"
   ]
  },
  {
   "cell_type": "code",
   "execution_count": 21,
   "metadata": {
    "cell_style": "split",
    "slideshow": {
     "slide_type": "fragment"
    }
   },
   "outputs": [
    {
     "data": {
      "text/plain": [
       "2"
      ]
     },
     "execution_count": 21,
     "metadata": {},
     "output_type": "execute_result"
    }
   ],
   "source": [
    "fib2(3)"
   ]
  },
  {
   "cell_type": "code",
   "execution_count": 22,
   "metadata": {
    "cell_style": "split",
    "slideshow": {
     "slide_type": "fragment"
    }
   },
   "outputs": [
    {
     "data": {
      "text/plain": [
       "8"
      ]
     },
     "execution_count": 22,
     "metadata": {},
     "output_type": "execute_result"
    }
   ],
   "source": [
    "fib2(6)"
   ]
  },
  {
   "cell_type": "code",
   "execution_count": 23,
   "metadata": {
    "cell_style": "split",
    "slideshow": {
     "slide_type": "fragment"
    }
   },
   "outputs": [
    {
     "data": {
      "text/plain": [
       "55"
      ]
     },
     "execution_count": 23,
     "metadata": {},
     "output_type": "execute_result"
    }
   ],
   "source": [
    "fib2(10)"
   ]
  },
  {
   "cell_type": "code",
   "execution_count": 24,
   "metadata": {
    "cell_style": "split",
    "slideshow": {
     "slide_type": "fragment"
    }
   },
   "outputs": [
    {
     "data": {
      "text/plain": [
       "233"
      ]
     },
     "execution_count": 24,
     "metadata": {},
     "output_type": "execute_result"
    }
   ],
   "source": [
    "fib2(13)"
   ]
  },
  {
   "cell_type": "markdown",
   "metadata": {
    "slideshow": {
     "slide_type": "fragment"
    }
   },
   "source": [
    "* 중복 계산이 없는 반복 알고리즘은 수행속도가 훨씬 더 빠름."
   ]
  },
  {
   "cell_type": "markdown",
   "metadata": {
    "slideshow": {
     "slide_type": "subslide"
    }
   },
   "source": [
    "#### `fib2` 함수 분석\n",
    "\n",
    "* `fib2` 함수 호출 횟수 $T(n)$\n",
    "    * $T(n) = n + 1$\n",
    "    * 즉, `f[0]`부터 `f[n]`까지 한 번씩만 계산"
   ]
  },
  {
   "cell_type": "markdown",
   "metadata": {
    "slideshow": {
     "slide_type": "slide"
    }
   },
   "source": [
    "### 두 피보나찌 알고리즘의 비교\n",
    "\n",
    "* 가정: 피보나찌 수 하나를 계산하는 데 걸리는 시간 = 1 ns.\n",
    "    * 1 ns = $10^{-9}$ 초\n",
    "    * 1 $\\mu$s = $10^{-6}$ 초\n",
    "    <br>"
   ]
  },
  {
   "cell_type": "markdown",
   "metadata": {
    "slideshow": {
     "slide_type": "fragment"
    }
   },
   "source": [
    "| <div style=\"width:80px\">$n$</div> | <div style=\"width:110px\">$n+1$</div> | <div style=\"width:140px\">$2^{n/2}$</div> | <div style=\"width:140px\">반복</div> |<div style=\"width:140px\">재귀</div> |\n",
    "|--------:|--------:|--------:|--------:|--------:|\n",
    "| $40$ | $41$ | $1,048,576$ | $41$ ns | $1048$ $\\mu$s |\n",
    "| $60$ | $61$ | $1.1 \\times 10^9$ | $61$ ns | $1$ 초 |\n",
    "| $80$ | $81$ | $1.1 \\times 10^{12}$ | $81$ ns | $18$ 분 |\n",
    "| $100$ | $101$ | $1.1 \\times 10^{15}$ | $101$ ns | $13$ 일 |\n",
    "| $120$ | $121$ | $1.2 \\times 10^{18}$ | $121$ ns | $36$ 년 |\n",
    "| $160$ | $161$ | $1.2 \\times 10^{24}$ | $161$ ns | $3.8 \\times 10^7$ 년 |\n",
    "| $200$ | $201$ | $1.3 \\times 10^{30}$ | $201$ ns | $4 \\times 10^{13}$ 년 |"
   ]
  },
  {
   "cell_type": "markdown",
   "metadata": {
    "slideshow": {
     "slide_type": "slide"
    }
   },
   "source": [
    "## 3절 알고리즘 분석"
   ]
  },
  {
   "cell_type": "markdown",
   "metadata": {
    "slideshow": {
     "slide_type": "subslide"
    }
   },
   "source": [
    "* 설계한 알고리즘의 효율성 분석\n",
    "* 알고리즘 분석에 사용하는 용어와 표준 분석방법 학습"
   ]
  },
  {
   "cell_type": "markdown",
   "metadata": {
    "slideshow": {
     "slide_type": "slide"
    }
   },
   "source": [
    "### 시간복잡도 분석\n",
    "\n",
    "* 알고리즘 효율성 분석 기법\n",
    "* 기준: 입력크기에 대해 __특정 단위연산이 수행되는 횟수__"
   ]
  },
  {
   "cell_type": "markdown",
   "metadata": {
    "slideshow": {
     "slide_type": "subslide"
    }
   },
   "source": [
    "#### 입력크기 : 입력값의 크기\n",
    "\n",
    "* 예제\n",
    "    * 리스트의 길이\n",
    "    * 행렬의 행과 열의 수\n",
    "    * 나무(트리)의 마디와 이음선의 수\n",
    "    * 그래프의 정점과 간선의 수"
   ]
  },
  {
   "cell_type": "markdown",
   "metadata": {
    "slideshow": {
     "slide_type": "fragment"
    }
   },
   "source": [
    "* 주의: 입력과 입력크기는 일반적으로 다름.\n",
    "    * 피보나찌 함수 `fib`에 사용되는 입력값 $n$의 크기는 $n$을 이진법으로 표기했을 때의 길이인 \n",
    "        $(\\lg n + 1)$ 이다.\n",
    "    * 예제: $n = 13$의 입력크기는 $\\lfloor \\lg 13\\rfloor + 1 = 4$."
   ]
  },
  {
   "cell_type": "markdown",
   "metadata": {
    "slideshow": {
     "slide_type": "subslide"
    }
   },
   "source": [
    "#### 단위연산: 명령문 또는 명령문 덩어리(군)\n",
    "\n",
    "* 단위연산의 실행 횟수가 알고리즘의 실행 시간 결정"
   ]
  },
  {
   "cell_type": "markdown",
   "metadata": {
    "slideshow": {
     "slide_type": "fragment"
    }
   },
   "source": [
    "* 예제\n",
    "    * 비교문(comparison)\n",
    "    * 지정문(assignment)\n",
    "    * 반복문\n",
    "    * 모든 기계적 명령문 각각의 실행\n",
    "        * 예제: PythonTutor의 Step 계산"
   ]
  },
  {
   "cell_type": "markdown",
   "metadata": {
    "slideshow": {
     "slide_type": "fragment"
    }
   },
   "source": [
    "* 순차검색과 이분검색 알고리즘의 단위 연산: while 반복문 전체"
   ]
  },
  {
   "cell_type": "markdown",
   "metadata": {
    "slideshow": {
     "slide_type": "fragment"
    }
   },
   "source": [
    "* 피보나찌 함수의 단위 연산: 함수 본체 전체"
   ]
  },
  {
   "cell_type": "markdown",
   "metadata": {
    "slideshow": {
     "slide_type": "subslide"
    }
   },
   "source": [
    "#### 주의사항\n",
    "\n",
    "* 단위연산을 지정하는 일반적인 규칙 없음.\n",
    "* 경우에 따라 두 개의 다른 단위연산을 고려해야 할 수도 있음.\n",
    "    * 예제: 키를 비교하여 정렬하는 경우\n",
    "        * 비교와 지정이 서로 다른 비율로 발생하기에 서로 독립적인 단위연산으로 다룸\n",
    "* 단위연산의 실행횟수가 입력크기뿐만 아니라 입력값에도 의존할 수 있음."
   ]
  },
  {
   "cell_type": "markdown",
   "metadata": {
    "slideshow": {
     "slide_type": "slide"
    }
   },
   "source": [
    "### 알고리즘의 시간복잡도\n",
    "\n",
    "* 입력값의 입력크기 $n$에 대해 지정된 단위연산이 수행되는 횟수 $f(n)$을 계산하는 함수 $f$로 표현\n",
    "* 시간복잡도 함수: 시간복잡도를 표현하는 함수"
   ]
  },
  {
   "cell_type": "markdown",
   "metadata": {
    "slideshow": {
     "slide_type": "subslide"
    }
   },
   "source": [
    "### 시간복잡도 종류\n",
    "\n",
    "* 단위연산 실행횟수가 입력값에 상관없이 입력크기에만 의존하는 경우\n",
    "    * 일정 시간복잡도: $T(n)$"
   ]
  },
  {
   "cell_type": "markdown",
   "metadata": {
    "slideshow": {
     "slide_type": "fragment"
    }
   },
   "source": [
    "* 단위연산 실행횟수가 입력값과 입력크기 모두에 의존하는 경우\n",
    "    * 최악 시간복잡도: $W(n)$\n",
    "    * 평균 시간복잡도: $A(n)$\n",
    "    * 최선 시간복잡도: $B(n)$"
   ]
  },
  {
   "cell_type": "markdown",
   "metadata": {
    "slideshow": {
     "slide_type": "subslide"
    }
   },
   "source": [
    "#### 일정 시간복잡도\n",
    "\n",
    "* 일정 시간복잡도 $T(n)$\n",
    "    * 입력값에 상관없이 입력크기 $n$에만 의존하는 단위연산 실행횟수"
   ]
  },
  {
   "cell_type": "markdown",
   "metadata": {
    "slideshow": {
     "slide_type": "fragment"
    }
   },
   "source": [
    "* 예제\n",
    "    * 리스트의 원소 모두 더하기\n",
    "    * 교환정렬\n",
    "    * 행렬곱셈(2장)"
   ]
  },
  {
   "cell_type": "markdown",
   "metadata": {
    "slideshow": {
     "slide_type": "subslide"
    }
   },
   "source": [
    "#### 최악 시간복잡도\n",
    "\n",
    "* 최악 시간복잡도 $W(n)$: 입력크기 $n$에 대한 단위연산의 최대 실행횟수"
   ]
  },
  {
   "cell_type": "markdown",
   "metadata": {
    "slideshow": {
     "slide_type": "fragment"
    }
   },
   "source": [
    "* 예제\n",
    "    * 핵발전소 시스템의 경우처럼 나쁜 사례에 대한 최악의 반응시간이 중요한 경우 활용"
   ]
  },
  {
   "cell_type": "markdown",
   "metadata": {
    "slideshow": {
     "slide_type": "subslide"
    }
   },
   "source": [
    "#### 평균 시간복잡도\n",
    "\n",
    "* 평균 시간복잡도 $A(n)$: 입력크기 $n$에 대한 단위연산의 실행횟수 기대치(평균)\n",
    "* 평균 단위연산 실행횟수가 중요한 경우 활용\n",
    "* 각 입력값에 대해 확률 할당 가능\n",
    "* 최악의 경우 분석보다 계산이 보다 복잡함"
   ]
  },
  {
   "cell_type": "markdown",
   "metadata": {
    "slideshow": {
     "slide_type": "subslide"
    }
   },
   "source": [
    "#### 최선 시간복잡도\n",
    "\n",
    "* 최선 시간복잡도 $B(n)$: 입력크기 $n$에 대한 단위연산의 최소 실행횟수\n",
    "* 잘 사용되지 않음."
   ]
  },
  {
   "cell_type": "markdown",
   "metadata": {
    "slideshow": {
     "slide_type": "subslide"
    }
   },
   "source": [
    "#### 시간복잡도 특성\n",
    "\n",
    "* $T(n)$이 존재하는 경우:\n",
    "\n",
    "$$T(n) = W(n) = A(n) = B(n)$$"
   ]
  },
  {
   "cell_type": "markdown",
   "metadata": {
    "slideshow": {
     "slide_type": "fragment"
    }
   },
   "source": [
    "* 일반적으로:\n",
    "\n",
    "$$B(n) \\le A(n) \\le W(n)$$"
   ]
  },
  {
   "cell_type": "markdown",
   "metadata": {
    "slideshow": {
     "slide_type": "subslide"
    }
   },
   "source": [
    "#### 일정 시간복잡도를 구할 수 없는 경우\n",
    "\n",
    "* 최선의 경우 보다 최악 또는 평균의 경우 분석을 일반적으로 진행"
   ]
  },
  {
   "cell_type": "markdown",
   "metadata": {
    "slideshow": {
     "slide_type": "fragment"
    }
   },
   "source": [
    "* 평균 시간복잡도 분석\n",
    "    * 다른 입력을 여러 번 사용할 때 평균적으로 걸리는 시간 알려줌.\n",
    "    * 예를 들어, 속도가 느린 정렬 알고리즘이라도 평균적으로 시간이 좋게 나오는 경우\n",
    "        사용 가능."
   ]
  },
  {
   "cell_type": "markdown",
   "metadata": {
    "slideshow": {
     "slide_type": "fragment"
    }
   },
   "source": [
    "* 최악 시간복잡도 분석\n",
    "    * 핵발전소 감시시스템 경우처럼 단 한 번의 사고가 치명적인 경우 활용."
   ]
  },
  {
   "cell_type": "markdown",
   "metadata": {
    "slideshow": {
     "slide_type": "subslide"
    }
   },
   "source": [
    "#### 공간(메모리)복잡도\n",
    "\n",
    "* 알고리즘의 메모리 사용 효율성 분석\n",
    "* 책에서는 시간복잡도에 집중. \n",
    "* 필요한 경우 공간복잡도 분석 활용."
   ]
  },
  {
   "cell_type": "markdown",
   "metadata": {
    "slideshow": {
     "slide_type": "slide"
    }
   },
   "source": [
    "### 예제: 일정 시간복잡도 분석"
   ]
  },
  {
   "cell_type": "markdown",
   "metadata": {
    "slideshow": {
     "slide_type": "slide"
    }
   },
   "source": [
    "#### 알고리즘: 리스트 항목더하기\n",
    "\n",
    "* 문제: 크기가 $n$인 리스트 $S$의 모든 항목을 더하라.\n",
    "* 입력: 리스트 $S$\n",
    "* 출력: 리스트 $S$에 있는 항목의 합"
   ]
  },
  {
   "cell_type": "code",
   "execution_count": 25,
   "metadata": {
    "slideshow": {
     "slide_type": "subslide"
    }
   },
   "outputs": [],
   "source": [
    "# 리스트의 항목 모두 더하기\n",
    "\n",
    "def sum(S):\n",
    "    result = 0\n",
    "\n",
    "    for i in range(len(S)):\n",
    "         result = result + S[i]\n",
    "    return result"
   ]
  },
  {
   "cell_type": "code",
   "execution_count": 26,
   "metadata": {
    "slideshow": {
     "slide_type": "fragment"
    }
   },
   "outputs": [
    {
     "data": {
      "text/plain": [
       "55"
      ]
     },
     "execution_count": 26,
     "metadata": {},
     "output_type": "execute_result"
    }
   ],
   "source": [
    "seq = list(range(11))\n",
    "\n",
    "sum(seq)"
   ]
  },
  {
   "cell_type": "markdown",
   "metadata": {
    "slideshow": {
     "slide_type": "subslide"
    }
   },
   "source": [
    "#### 리스트 항목더하기 알고리즘의 $T(n)$ 구하기: 덧셈 기준\n",
    "\n",
    "* 단위연산: 덧셈\n",
    "* 입력크기: 리스트의 크기 $n$"
   ]
  },
  {
   "cell_type": "markdown",
   "metadata": {
    "slideshow": {
     "slide_type": "subslide"
    }
   },
   "source": [
    "* 모든 경우 분석:\n",
    "    * 리스트의 내용에 상관없이 for-반복문 $n$번 실행.\n",
    "    * 반복마다 덧셈 1회 실행.\n",
    "    * 따라서 $T(n) = n$."
   ]
  },
  {
   "cell_type": "markdown",
   "metadata": {
    "slideshow": {
     "slide_type": "slide"
    }
   },
   "source": [
    "#### 알고리즘: 교환정렬\n",
    "\n",
    "* 문제: 리스트의 항목을 비내림차순(오름차순)으로 정렬하기\n",
    "* 입력: 리스트 $S$\n",
    "* 출력: 비내림차순으로 정렬된 리스트"
   ]
  },
  {
   "cell_type": "code",
   "execution_count": 27,
   "metadata": {
    "slideshow": {
     "slide_type": "subslide"
    }
   },
   "outputs": [],
   "source": [
    "# 교환정렬\n",
    "\n",
    "def exchangesort(S):\n",
    "    for i in range(len(S)):\n",
    "        for j in range(i+1, len(S)):\n",
    "             if (S[j] < S[i]):\n",
    "                    S[i], S[j] = S[j], S[i]"
   ]
  },
  {
   "cell_type": "code",
   "execution_count": 28,
   "metadata": {
    "slideshow": {
     "slide_type": "fragment"
    }
   },
   "outputs": [
    {
     "name": "stdout",
     "output_type": "stream",
     "text": [
      "[1, 2, 4, 4, 5, 7]\n"
     ]
    }
   ],
   "source": [
    "seq = [1, 4, 5, 2, 7, 4]\n",
    "exchangesort(seq)\n",
    "print(seq)"
   ]
  },
  {
   "cell_type": "markdown",
   "metadata": {
    "slideshow": {
     "slide_type": "subslide"
    }
   },
   "source": [
    "#### 교환정렬 알고리즘의 $T(n)$ 구하기 : 조건문 기준\n",
    "\n",
    "* 단위연산: 조건문 (`S[j]`와 `S[i]`의 비교)\n",
    "* 입력크기: 리스트의 길이 $n$"
   ]
  },
  {
   "cell_type": "markdown",
   "metadata": {
    "slideshow": {
     "slide_type": "subslide"
    }
   },
   "source": [
    "#### 교환정렬 알고리즘 일정 시간복잡도 분석\n",
    "\n",
    "* `j`-반복문이 실행할 때마다 조건문 한 번씩 실행"
   ]
  },
  {
   "cell_type": "markdown",
   "metadata": {
    "slideshow": {
     "slide_type": "fragment"
    }
   },
   "source": [
    "* 조건문의 총 실행횟수\n",
    "    * $i=1$인 경우: $(n-1)$ 번\n",
    "    * $i=2$인 경우: $(n-2)$ 번\n",
    "    * $i=3$인 경우: $(n-3)$ 번\n",
    "    * ...\n",
    "    * $i=(n-1)$인 경우: $1$ 번"
   ]
  },
  {
   "cell_type": "markdown",
   "metadata": {
    "slideshow": {
     "slide_type": "fragment"
    }
   },
   "source": [
    "* 그러므로 다음 성립:\n",
    "\n",
    "$$T(n) = (n-1) + (n-2) + \\cdots + 1 = \\frac{(n-1)n}{2}$$"
   ]
  },
  {
   "cell_type": "markdown",
   "metadata": {
    "slideshow": {
     "slide_type": "subslide"
    }
   },
   "source": [
    "* 확인"
   ]
  },
  {
   "cell_type": "code",
   "execution_count": 29,
   "metadata": {
    "slideshow": {
     "slide_type": "fragment"
    }
   },
   "outputs": [],
   "source": [
    "# 교환정렬\n",
    "\n",
    "def exchangesort_1(S):\n",
    "    count = 0\n",
    "    for i in range(len(S)):\n",
    "        for j in range(i+1, len(S)):\n",
    "            count += 1\n",
    "            if (S[j] < S[i]):\n",
    "                S[i], S[j] = S[j], S[i]\n",
    "    return count"
   ]
  },
  {
   "cell_type": "code",
   "execution_count": 30,
   "metadata": {
    "slideshow": {
     "slide_type": "fragment"
    }
   },
   "outputs": [
    {
     "name": "stdout",
     "output_type": "stream",
     "text": [
      "15\n"
     ]
    }
   ],
   "source": [
    "seq = [1, 4, 5, 2, 7, 4]\n",
    "print(exchangesort_1(seq))"
   ]
  },
  {
   "cell_type": "markdown",
   "metadata": {
    "slideshow": {
     "slide_type": "fragment"
    }
   },
   "source": [
    "* 실제로\n",
    "\n",
    "$$15 = \\frac{6\\cdot 5}{2}$$"
   ]
  },
  {
   "cell_type": "markdown",
   "metadata": {
    "slideshow": {
     "slide_type": "slide"
    }
   },
   "source": [
    "### 예제: 최악 시간복잡도 분석"
   ]
  },
  {
   "cell_type": "markdown",
   "metadata": {
    "slideshow": {
     "slide_type": "slide"
    }
   },
   "source": [
    "#### 교환정렬 알고리즘의 $W(n)$ 구하기 : 교환 기준\n",
    "\n",
    "* 단위연산: 교환하는 연산 (`S[i]`와 `S[j]`의 교환)\n",
    "* 입력크기: 정렬할 항목의 수 $n$"
   ]
  },
  {
   "cell_type": "markdown",
   "metadata": {
    "slideshow": {
     "slide_type": "subslide"
    }
   },
   "source": [
    "* 최악의 경우 분석:\n",
    "    * 조건문의 결과에 따라서 교환 연산의 실행여부 결정\n",
    "    * 최악의 경우\n",
    "        * 조건문이 항상 참(true)인 경우\n",
    "        * 즉, 입력 배열이 거꾸로 정렬되어 있는 경우\n",
    "        * 이때, 조건문 실행 횟수와 동일하게 실행됨. 즉, 일정 시간복잡도와 동일.\n",
    "        \n",
    "        $$W(n) = \\frac{(n-1)n}{2}$$"
   ]
  },
  {
   "cell_type": "markdown",
   "metadata": {
    "slideshow": {
     "slide_type": "slide"
    }
   },
   "source": [
    "#### 순차검색 알고리즘의 $W(n)$ 구하기: 항목 비교 연산 기준\n",
    "\n",
    "* 단위연산: 리스트 `S`의 항목과 값 `x`와의 비교연산\n",
    "    * `S[location] != x`\n",
    "* 입력크기: 리스트 크기 $n$"
   ]
  },
  {
   "cell_type": "markdown",
   "metadata": {
    "slideshow": {
     "slide_type": "subslide"
    }
   },
   "source": [
    "* 최악의 경우 분석:\n",
    "    * `x`가 리스트의 마지막 항목이거나, 리스트에 포함되지 않은 경우,\n",
    "        단위연산이 $n$번 수행된다. 즉, \n",
    "    \n",
    "        $$W(n) = n$$"
   ]
  },
  {
   "cell_type": "markdown",
   "metadata": {
    "slideshow": {
     "slide_type": "fragment"
    }
   },
   "source": [
    "* __주의:__ 입력(`S`와 `x`)에 따라서 검색횟수가 달라지므로, \n",
    "    일정 시간복잡도 분석 불가능."
   ]
  },
  {
   "cell_type": "markdown",
   "metadata": {
    "slideshow": {
     "slide_type": "slide"
    }
   },
   "source": [
    "### 예제: 평균 시간복잡도 분석"
   ]
  },
  {
   "cell_type": "markdown",
   "metadata": {
    "slideshow": {
     "slide_type": "slide"
    }
   },
   "source": [
    "#### 순차검색 알고리즘의 $A(n)$ 구하기: 항목 비교 연산 기준\n",
    "\n",
    "* 단위연산: 리스트 `S`의 항목과 값 `x`와의 비교연산\n",
    "    * `S[location] != x`\n",
    "* 입력크기: 리스트 크기 $n$"
   ]
  },
  {
   "cell_type": "markdown",
   "metadata": {
    "cell_style": "split",
    "slideshow": {
     "slide_type": "subslide"
    }
   },
   "source": [
    "* 경우 1\n",
    "    * 가정\n",
    "        * `x`가 리스트 `S`안에 있음\n",
    "        * 리스트의 항목이 모두 다름.\n",
    "        * `x`가 리스트의 특정 위치에 있을 확률 동일, 즉 $1/n$. 단, $n$은 리스트 `S`의 길이.\n",
    "            \n",
    "    * `x`가 리스트의 $k$ 번째 있다면, \n",
    "        `S`를 찾기 위해서 수행하는 단위연산의 횟수는 $k$."
   ]
  },
  {
   "cell_type": "markdown",
   "metadata": {
    "cell_style": "split",
    "slideshow": {
     "slide_type": "fragment"
    }
   },
   "source": [
    "\\begin{align*}\n",
    "A(n) &= \\sum_{k=1}^{n} \\Big( k \\times \\frac{1}{n} \\Big) \\\\\n",
    "    &= \\frac{1}{n} \\times \\sum_{k=1}^{n} k \\\\\n",
    "    &= \\frac{1}{n} \\times \\frac{n(n+1)}{2} \\\\\n",
    "    &= \\frac{n+1}{2}\n",
    "\\end{align*}"
   ]
  },
  {
   "cell_type": "markdown",
   "metadata": {
    "cell_style": "split",
    "slideshow": {
     "slide_type": "subslide"
    }
   },
   "source": [
    "* 경우 2\n",
    "\n",
    "    * 가정\n",
    "        * `x`가 리스트 `S` 안에 없을 수도 있음.\n",
    "        * `x`가 리스트 `S` 안에 있을 확률: $p$\n",
    "    * `x`가 배열에 없을 확률: $1-p$\n",
    "    * `x`가 리스트의 $k$ 번째 항목일 확률: $p/n$"
   ]
  },
  {
   "cell_type": "markdown",
   "metadata": {
    "cell_style": "split",
    "slideshow": {
     "slide_type": "fragment"
    }
   },
   "source": [
    "\\begin{align*}\n",
    "A(n) & = \\sum_{k=1}^{n} \\Big(k\\times \\frac{p}{n} \\Big) + n\\, (1-p) \\\\\n",
    "& = \\frac{p}{n} \\times \\frac{n(n+1)}{2} + n\\, (1-p) \\\\\n",
    "& = n \\Big( 1- \\frac{p}{2} \\Big) + \\frac{p}{2}\n",
    "\\end{align*}"
   ]
  },
  {
   "cell_type": "markdown",
   "metadata": {
    "cell_style": "center",
    "slideshow": {
     "slide_type": "fragment"
    }
   },
   "source": [
    "* $p=1$일 때: $A(n) = \\frac{n+1}{2}$"
   ]
  },
  {
   "cell_type": "markdown",
   "metadata": {
    "cell_style": "center",
    "slideshow": {
     "slide_type": "fragment"
    }
   },
   "source": [
    "* $p=\\frac 1 2$일 때: $A(n) = \\frac{3n+1}{4}$"
   ]
  },
  {
   "cell_type": "markdown",
   "metadata": {
    "slideshow": {
     "slide_type": "slide"
    }
   },
   "source": [
    "### 예제: 최선 시간복잡도 분석"
   ]
  },
  {
   "cell_type": "markdown",
   "metadata": {
    "slideshow": {
     "slide_type": "slide"
    }
   },
   "source": [
    "#### 교환정렬 알고리즘의 $B(n)$ 구하기 : 교환 기준\n",
    "\n",
    "* 단위연산: 교환하는 연산 (`S[i]`와 `S[j]`의 교환)\n",
    "* 입력크기: 정렬할 항목의 수 $n$"
   ]
  },
  {
   "cell_type": "markdown",
   "metadata": {
    "slideshow": {
     "slide_type": "subslide"
    }
   },
   "source": [
    "* 최선의 경우 분석:\n",
    "    * 조건문의 결과에 따라서 교환 연산의 실행여부 결정\n",
    "    * 최선의 경우\n",
    "        * 조건문이 항상 거짓(false)이 되는 경우\n",
    "        * 즉, 입력 배열이 이미 오름차순(비내림차순)으로 정렬되어 있는 경우\n",
    "        * 이때, 교환이 전혀 발생하지 않음.\n",
    "        * 따라서 $B(n) = 0$."
   ]
  },
  {
   "cell_type": "markdown",
   "metadata": {
    "slideshow": {
     "slide_type": "subslide"
    }
   },
   "source": [
    "* 확인"
   ]
  },
  {
   "cell_type": "code",
   "execution_count": 31,
   "metadata": {
    "slideshow": {
     "slide_type": "fragment"
    }
   },
   "outputs": [],
   "source": [
    "# 교환정렬\n",
    "\n",
    "def exchangesort_2(S):\n",
    "    count = 0\n",
    "    for i in range(len(S)):\n",
    "        for j in range(i+1, len(S)):\n",
    "            if (S[j] < S[i]):\n",
    "                count += 1\n",
    "                S[i], S[j] = S[j], S[i]\n",
    "    return count"
   ]
  },
  {
   "cell_type": "code",
   "execution_count": 32,
   "metadata": {
    "slideshow": {
     "slide_type": "fragment"
    }
   },
   "outputs": [
    {
     "name": "stdout",
     "output_type": "stream",
     "text": [
      "0\n"
     ]
    }
   ],
   "source": [
    "seq = [1, 2, 4, 4, 5, 7]\n",
    "print(exchangesort_2(seq))"
   ]
  },
  {
   "cell_type": "markdown",
   "metadata": {
    "slideshow": {
     "slide_type": "slide"
    }
   },
   "source": [
    "#### 순차검색 알고리즘의 $B(n)$ 구하기: 항목 비교 연산 기준\n",
    "\n",
    "* 단위연산: 리스트 `S`의 항목과 값 `x`와의 비교연산\n",
    "    * `S[location] != x`\n",
    "* 입력크기: 리스트 크기 $n$"
   ]
  },
  {
   "cell_type": "markdown",
   "metadata": {
    "slideshow": {
     "slide_type": "subslide"
    }
   },
   "source": [
    "* 최선의 경우 분석:\n",
    "    * `x`가 `S[0]`일 때, 입력의 크기에 상관없이 단위연산이 한 번 수행\n",
    "    * 따라서 $B(n)=1$."
   ]
  },
  {
   "cell_type": "markdown",
   "metadata": {
    "slideshow": {
     "slide_type": "slide"
    }
   },
   "source": [
    "### 복잡도 함수 예제\n",
    "\n",
    "\\begin{align*}\n",
    "f(n) &= 1 \\\\\n",
    "f(n) &= \\lg n \\\\\n",
    "f(n) &= n \\\\\n",
    "f(n) &= 1000n\\\\\n",
    "f(n) &= n^2 \\\\\n",
    "f(n) &= \\frac{n(n-1)}{2} \\\\\n",
    "f(n) &= 3n^2 + 4n^2\n",
    "\\end{align*}"
   ]
  },
  {
   "cell_type": "markdown",
   "metadata": {
    "slideshow": {
     "slide_type": "slide"
    }
   },
   "source": [
    "### 복잡도 함수와 실행시간\n",
    "\n",
    "#### 예제\n",
    "\n",
    "* 아래 두 알고리즘 중에서 어떤 알고리즘 선택? \n",
    "    * 알고리즘 A의 시간복잡도: $1000n$\n",
    "    * 알고리즘 B의 시간복잡도: $n^2$"
   ]
  },
  {
   "cell_type": "markdown",
   "metadata": {
    "slideshow": {
     "slide_type": "fragment"
    }
   },
   "source": [
    "* $n^2$이 $1000n$ 보다 복잡도가 커보임. 하지만..."
   ]
  },
  {
   "cell_type": "markdown",
   "metadata": {
    "slideshow": {
     "slide_type": "fragment"
    }
   },
   "source": [
    "* 정답: $n$의 크기에 따라 달라짐.\n",
    "    * $n \\le 1,000$: 알고리즘 B 선택\n",
    "    * $n > 1,000$: 알고리즘 A 선택    "
   ]
  },
  {
   "cell_type": "markdown",
   "metadata": {
    "slideshow": {
     "slide_type": "fragment"
    }
   },
   "source": [
    "* 이유:\n",
    "\n",
    "\\begin{align*}\n",
    "n^2 > 1000n\\quad &\\Longleftrightarrow \\quad n > 1000\n",
    "\\end{align*}"
   ]
  },
  {
   "cell_type": "markdown",
   "metadata": {
    "slideshow": {
     "slide_type": "slide"
    }
   },
   "source": [
    "## 4절 차수"
   ]
  },
  {
   "cell_type": "markdown",
   "metadata": {
    "slideshow": {
     "slide_type": "slide"
    }
   },
   "source": [
    "* 아래 두 알고리즘 중에서 어떤 알고리즘 선택? \n",
    "    * 알고리즘 A의 시간 복잡도: $100n$\n",
    "    * 알고리즘 B의 시간 복잡도: $0.01 n^2$"
   ]
  },
  {
   "cell_type": "markdown",
   "metadata": {
    "slideshow": {
     "slide_type": "fragment"
    }
   },
   "source": [
    "* $0.01 n^2$과 $100n$ 중에 누구의 복잡도가 더 커보임?"
   ]
  },
  {
   "cell_type": "markdown",
   "metadata": {
    "slideshow": {
     "slide_type": "fragment"
    }
   },
   "source": [
    "* 정답: $n$의 크기에 따라 달라짐.\n",
    "    * $n \\le 10,000$: 알고리즘 B 선택\n",
    "    * $n > 10,000$: 알고리즘 A 선택    "
   ]
  },
  {
   "cell_type": "markdown",
   "metadata": {
    "slideshow": {
     "slide_type": "fragment"
    }
   },
   "source": [
    "* 이유: \n",
    "\n",
    "\\begin{align*}\n",
    "0.01 n^2 > 100n\\quad &\\Longleftrightarrow \\quad n^2 > 10000 n \\\\\n",
    "    &\\Longleftrightarrow \\quad n > 10000\n",
    "\\end{align*}"
   ]
  },
  {
   "cell_type": "markdown",
   "metadata": {
    "slideshow": {
     "slide_type": "slide"
    }
   },
   "source": [
    "### \"궁극적으로 더 빠름\"\n",
    "\n",
    "* '$n>10,000$인 임의의 양의 정수 $n$에 대해 $0.01 n^2$이 $100 n$ 보다 크다'를 다르게 표현하면 다음과 같음.\n",
    "    <br>\n",
    "    \n",
    "    <div style=\"text-align:center\";><span style=\"color:red;\">$0.01 n^2$이 $100 n$ 보다 궁극적으로 크다</span></div>    "
   ]
  },
  {
   "cell_type": "markdown",
   "metadata": {
    "slideshow": {
     "slide_type": "fragment"
    }
   },
   "source": [
    "* 다음 성질을 갖는 정수 $N \\ge 0$이 존재할 때\n",
    "    <span style=\"color:red;\">$f(n)$이 $g(n)$ 보다 궁극적으로 크다</span>고 말함:\n",
    "    <br>\n",
    "    \n",
    "    <div style=\"text-align:center\";>$n>N$인 임의의 양의 정수 $n$에 대해 $f(n) > g(n)$ </div>\n",
    "    "
   ]
  },
  {
   "cell_type": "markdown",
   "metadata": {
    "slideshow": {
     "slide_type": "subslide"
    }
   },
   "source": [
    "* 시간 복잡도의 기준으로 볼 경우:\n",
    "    <br>\n",
    "    <br>\n",
    "    \n",
    "<div style=\"text-align:center\";>$g(n)$이 $f(n)$ 보다 궁극적으로 빠르다 $\\quad\\Longleftrightarrow\\quad$ $f(n)$이 $g(n)$ 보다 궁극적으로 크다</div>"
   ]
  },
  {
   "cell_type": "markdown",
   "metadata": {
    "slideshow": {
     "slide_type": "slide"
    }
   },
   "source": [
    "### 차수($\\Theta$, 쎄타)의 직관적 이해"
   ]
  },
  {
   "cell_type": "markdown",
   "metadata": {
    "cell_style": "split",
    "slideshow": {
     "slide_type": "fragment"
    }
   },
   "source": [
    "* $\\Theta(n)$: 1차 시간 복잡도\n",
    "    * $100 n$\n",
    "    * $0.001 n + 10000$\n",
    "    * 등등"
   ]
  },
  {
   "cell_type": "markdown",
   "metadata": {
    "cell_style": "split",
    "slideshow": {
     "slide_type": "fragment"
    }
   },
   "source": [
    "* $\\Theta(n^2)$: 2차 시간 복잡도\n",
    "    * $5 n^2$\n",
    "    * $0.1 n^2 + n + 100$\n",
    "    * 등등"
   ]
  },
  {
   "cell_type": "markdown",
   "metadata": {
    "cell_style": "center",
    "slideshow": {
     "slide_type": "fragment"
    }
   },
   "source": [
    "* $\\Theta(n^3)$: 3차 시간 복잡도\n",
    "    * $7 n^3$\n",
    "    * $n^3 + 5 n^2 + 100 n + 2$\n",
    "    * 등등"
   ]
  },
  {
   "cell_type": "markdown",
   "metadata": {
    "slideshow": {
     "slide_type": "subslide"
    }
   },
   "source": [
    "#### 고차항의 지배력\n",
    "\n",
    "* 예제: $0.1 n^2 + n + 100$에서 2차 항 $0.1 n^2$이 함수 전체를 지배함\n",
    "\n",
    "| $n$ | <div style=\"width:200px\">$0.1 n^2$</div> | <div style=\"width:250px\">$0.1 n^2 + n + 100$</div> |\n",
    "|--------:|--------:|--------:|\n",
    "| 10 | 10 | 120 |\n",
    "| 20 | 40 | 160 |\n",
    "| 50 | 250 | 400 |\n",
    "| 100 | 1,000 | 1,200 |\n",
    "| 1,000 | 100,000 | 101,100 |"
   ]
  },
  {
   "cell_type": "markdown",
   "metadata": {
    "slideshow": {
     "slide_type": "slide"
    }
   },
   "source": [
    "### 복잡도 카테고리의 직관적 이해\n",
    "\n",
    "* 1차, 2차, 3차 등의 시간복잡도를 갖는 함수들의 집합을 복잡도 카테고리라고 함."
   ]
  },
  {
   "cell_type": "markdown",
   "metadata": {
    "slideshow": {
     "slide_type": "subslide"
    }
   },
   "source": [
    "#### 매우 효율적인 알고리즘의 복잡도 예제"
   ]
  },
  {
   "cell_type": "markdown",
   "metadata": {
    "cell_style": "split",
    "slideshow": {
     "slide_type": "fragment"
    }
   },
   "source": [
    "* $\\Theta(1)$: 상수 복잡도\n",
    "    * 0\n",
    "    * 1\n",
    "    * 1000\n",
    "    * 1억 등등 모든 상수"
   ]
  },
  {
   "cell_type": "markdown",
   "metadata": {
    "cell_style": "split",
    "slideshow": {
     "slide_type": "fragment"
    }
   },
   "source": [
    "* $\\Theta(\\lg n)$: 로그 복잡도\n",
    "    <br>\n",
    "\n",
    "    * $\\lg n$\n",
    "    * $2 \\lg n$\n",
    "    * $1/2 \\cdot \\lg n+ 3$\n",
    "    * ..."
   ]
  },
  {
   "cell_type": "markdown",
   "metadata": {
    "cell_style": "split",
    "slideshow": {
     "slide_type": "fragment"
    }
   },
   "source": [
    "* $\\Theta(n)$: 1차 복잡도\n",
    "    <br>\n",
    "\n",
    "    * $n$\n",
    "    * $100 n$\n",
    "    * $0.001 n + 10000$\n",
    "    * ..."
   ]
  },
  {
   "cell_type": "markdown",
   "metadata": {
    "cell_style": "split",
    "slideshow": {
     "slide_type": "fragment"
    }
   },
   "source": [
    "* $\\Theta(n\\, \\lg n)$: 엔 로그 엔(n log n) 복잡도\n",
    "    <br>\n",
    "\n",
    "    * $n\\, \\lg n$\n",
    "    * $2 n\\, \\lg n$\n",
    "    * $\\frac 1 2 n\\, \\lg n+ \\lg n + 3$\n",
    "    * ..."
   ]
  },
  {
   "cell_type": "markdown",
   "metadata": {
    "slideshow": {
     "slide_type": "subslide"
    }
   },
   "source": [
    "#### 경우에 따라 괜찮은 알고리즘의 복잡도 예제"
   ]
  },
  {
   "cell_type": "markdown",
   "metadata": {
    "cell_style": "split",
    "slideshow": {
     "slide_type": "fragment"
    }
   },
   "source": [
    "* $\\Theta(n^2)$: 2차 복잡도\n",
    "     <br>\n",
    "     \n",
    "    * $n^2$\n",
    "    * $5 n^2$\n",
    "    * $0.1 n^2 + n + 100$\n",
    "    * ..."
   ]
  },
  {
   "cell_type": "markdown",
   "metadata": {
    "cell_style": "split",
    "slideshow": {
     "slide_type": "fragment"
    }
   },
   "source": [
    "* $\\Theta(n^3)$: 3차 복잡도\n",
    "     <br>\n",
    "     \n",
    "    * $n^3$\n",
    "    * $0.001 n^3 + 5 n^2 + 2 n + 7$\n",
    "    * $100 n^3 + n + 100$\n",
    "    * ..."
   ]
  },
  {
   "cell_type": "markdown",
   "metadata": {
    "slideshow": {
     "slide_type": "subslide"
    }
   },
   "source": [
    "#### 사실상 사용할 수 없는 알고리즘의 복잡도 예제"
   ]
  },
  {
   "cell_type": "markdown",
   "metadata": {
    "cell_style": "split",
    "slideshow": {
     "slide_type": "fragment"
    }
   },
   "source": [
    "* $\\Theta(2^n)$: 지수 복잡도\n",
    "     <br>\n",
    "     \n",
    "    * $2^n$\n",
    "    * $0.001\\cdot 2^n + 5 n^3 + 2 n + 7$\n",
    "    * $3\\cdot 2^n + 100 n^3 + n + 100$\n",
    "    * ..."
   ]
  },
  {
   "cell_type": "markdown",
   "metadata": {
    "cell_style": "split",
    "slideshow": {
     "slide_type": "fragment"
    }
   },
   "source": [
    "* $\\Theta(n!)$: 팩토리얼 복잡도\n",
    "     <br>\n",
    "     \n",
    "    * $n!$\n",
    "    * $2\\cdot n! + 5\\cdot 2^n + 5 n^3 + 2 n + 7$\n",
    "    * $0.01 n! + 3\\cdot 2^n + 100 n^3 + n + 100$\n",
    "    * ..."
   ]
  },
  {
   "cell_type": "markdown",
   "metadata": {
    "slideshow": {
     "slide_type": "subslide"
    }
   },
   "source": [
    "#### 복잡도 함수의 증가율\n",
    "<br>\n",
    "\n",
    "<div align=\"center\"><img src=\"images/algo01-06.png\" width=\"500\"/></div>"
   ]
  },
  {
   "cell_type": "markdown",
   "metadata": {
    "slideshow": {
     "slide_type": "subslide"
    }
   },
   "source": [
    "#### 시간복잡도별 실행시간 비교\n",
    "\n",
    "* 가정: 단위연산 실행시간 = 1 ns\n",
    "\n",
    "| <div style=\"width:50px\">$n$</div> | <div style=\"width:100px\">$\\lg n$</div> | <div style=\"width:130px\">$n$</div> | <div style=\"width:130px\">$n\\, \\lg n$</div> | <div style=\"width:130px\">$n^2$</div> | <div style=\"width:130px\">$n^3$</div> | <div style=\"width:130px\">$2^n$</div> |\n",
    "|--------:|--------:|--------:|--------:|--------:|--------:|--------:|\n",
    "| $10$ | $0.003$ $\\mu$s| $0.01$ $\\mu$s | $0.033$ $\\mu$s | $0.10$ $\\mu$s | $1.0$ $\\mu$s | $1$ $\\mu$s |\n",
    "| $20$ | $0.004$ $\\mu$s| $0.02$ $\\mu$s | $0.086$ $\\mu$s | $0.40$ $\\mu$s | $8.0$ $\\mu$s | $1$ ms |\n",
    "| $30$ | $0.005$ $\\mu$s| $0.03$ $\\mu$s | $0.147$ $\\mu$s | $0.90$ $\\mu$s | $27.0$ $\\mu$s | $1$ 초 |\n",
    "| $40$ | $0.005$ $\\mu$s| $0.04$ $\\mu$s | $0.213$ $\\mu$s | $1.60$ $\\mu$s | $64.0$ $\\mu$s | $18.3$ 분 |\n",
    "| $50$ | $0.006$ $\\mu$s| $0.05$ $\\mu$s | $0.282$ $\\mu$s | $2.50$ $\\mu$s | $125.0$ $\\mu$s | $13$ 일 |\n",
    "| $10^2$ | $0.007$ $\\mu$s| $0.10$ $\\mu$s | $0.664$ $\\mu$s | $10.00$ $\\mu$s | $1.0$ ms | $4 \\times 10^{13}$ 년 |\n",
    "| $10^3$ | $0.010$ $\\mu$s| $1.00$ $\\mu$s | $9.966$ $\\mu$s | $1.00$ ms | $1.0$ 초 | |\n",
    "| $10^4$ | $0.013$ $\\mu$s| $10.00$ $\\mu$s | $130.000$ $\\mu$s | $100.00$ ms | $16.7$ 분 | |\n",
    "| $10^5$ | $0.017$ $\\mu$s| $0.10$ ms | $1.670$ ms | $10.00$ 초 | $11.6$ 일 | |\n",
    "| $10^6$ | $0.020$ $\\mu$s| $1.00$ ms | $19.930$ ms | $16.70$ 초 | $31.7$ 년 | |\n",
    "| $10^7$ | $0.023$ $\\mu$s| $0.01$ 초 | <span style=\"color:red;\">$0.230$</span> 초 | $1.16$ 일 | $31,709$ 년 | |\n",
    "| $10^8$ | $0.027$ $\\mu$s| $0.10$ 초 | $2.660$ 초 | $115.70$ 일 | $3.17 \\times 10^7$ 년 | |\n",
    "| $10^9$ | $0.030$ $\\mu$s| $1.00$ 초 | $29.900$ 초 | $31.70$ 년 | | |\n",
    "\n",
    "* 원서 오류 주의: <span style=\"color:red;\">$0.230$</span> 초 (추정치)"
   ]
  },
  {
   "cell_type": "markdown",
   "metadata": {
    "slideshow": {
     "slide_type": "slide"
    }
   },
   "source": [
    "### 차수 정의"
   ]
  },
  {
   "cell_type": "markdown",
   "metadata": {
    "slideshow": {
     "slide_type": "slide"
    }
   },
   "source": [
    "* 차수($\\Theta$)를 엄밀하게 정의하려면 \"큰 $O$(big $O$)\"와 \"$\\Omega$(Omega, 오메가)\" 개념 필요"
   ]
  },
  {
   "cell_type": "markdown",
   "metadata": {
    "slideshow": {
     "slide_type": "slide"
    }
   },
   "source": [
    "### '큰 $O$' 표기법\n",
    "\n",
    "* 다음 성질을 갖는 양의 실수 $c$와 음이 아닌 정수 $N$이 존재할 때 $g(n)\\in O(f(n))$ 성립: \n",
    "    <br>\n",
    "\n",
    "    <div style=\"text-align:center\";>$n \\ge N$인 임의의 정수 $n$에 대해 $g(n) \\le c\\cdot f(n)$</div>\n",
    "    "
   ]
  },
  {
   "cell_type": "markdown",
   "metadata": {
    "slideshow": {
     "slide_type": "fragment"
    }
   },
   "source": [
    "* $g(n) \\in O(f(n))$ 읽는 방법:\n",
    "    * $g(n)$은 $f(n)$의 큰 $O$이다.\n",
    "    * $g(n)$의 점근적 상한은 $f(n)$이다."
   ]
  },
  {
   "cell_type": "markdown",
   "metadata": {
    "slideshow": {
     "slide_type": "subslide"
    }
   },
   "source": [
    "* 의미: 입력크기 $n$에 대해 시간 복잡도 $g(n)$의 수행시간은 궁극적으로 $f(n)$보다 나쁘지는 않다."
   ]
  },
  {
   "cell_type": "markdown",
   "metadata": {
    "slideshow": {
     "slide_type": "fragment"
    }
   },
   "source": [
    "<div align=\"center\"><img src=\"images/algo01-08.png\" width=\"400\"/></div>"
   ]
  },
  {
   "cell_type": "markdown",
   "metadata": {
    "slideshow": {
     "slide_type": "slide"
    }
   },
   "source": [
    "#### '큰 $O$' 표기법 예제\n",
    "\n",
    "* $n^2+10n \\in O(n^2)$\n",
    "    * $n \\ge 10$인 경우: $n^2+10n \\le 2n^2$\n",
    "        * 그러므로 $c=2$와 $N=10$ 선택\n",
    "    * $n \\ge 1$인 경우: $n^2+10n \\le n^2+10n^2 = 11n^2$\n",
    "        * 그러므로 $c=11$와 $N=1$ 선택"
   ]
  },
  {
   "cell_type": "markdown",
   "metadata": {
    "slideshow": {
     "slide_type": "fragment"
    }
   },
   "source": [
    "* $2n^2$과 $n^2 + 10 n$의 비교\n",
    "    <br>\n",
    "\n",
    "<div align=\"center\"><img src=\"images/algo01-09.png\" width=\"400\"/></div>"
   ]
  },
  {
   "cell_type": "markdown",
   "metadata": {
    "cell_style": "split",
    "slideshow": {
     "slide_type": "subslide"
    }
   },
   "source": [
    "* $5n^2 \\in O(n^2)$\n",
    "    * $n\\ge 0$인 경우: $5n^2 \\le 5n^2$\n",
    "    * 그러므로 $c=5$와 $N=0$ 선택"
   ]
  },
  {
   "cell_type": "markdown",
   "metadata": {
    "cell_style": "split",
    "slideshow": {
     "slide_type": "fragment"
    }
   },
   "source": [
    "* $T(n) = n(n-1)/2 \\in O(n^2)$\n",
    "    * $n \\ge 0$인 경우: $n(n-1)/2 \\le n^2/2$\n",
    "    * 그러므로 $c = 1/2$과 $N=0$ 선택"
   ]
  },
  {
   "cell_type": "markdown",
   "metadata": {
    "cell_style": "split",
    "slideshow": {
     "slide_type": "fragment"
    }
   },
   "source": [
    "* $n^2 \\in O(n^2+10n)$\n",
    "    * $n \\ge 0$인 경우: $n^2 \\le 1 \\times (n^2+10n)$\n",
    "    * 그러므로 $c=1$과 $N=0$ 선택"
   ]
  },
  {
   "cell_type": "markdown",
   "metadata": {
    "cell_style": "split",
    "slideshow": {
     "slide_type": "fragment"
    }
   },
   "source": [
    "* $n \\in O(n^2)$\n",
    "    * $n \\ge 1$인 경우: $n \\le 1 \\times n^2$이 성립한다.\n",
    "    * 그러므로 $c=1$과 $N=1$ 선택"
   ]
  },
  {
   "cell_type": "markdown",
   "metadata": {
    "slideshow": {
     "slide_type": "subslide"
    }
   },
   "source": [
    "* $n^3 \\not\\in O(n^2)$\n",
    "    * $c$와 $N$을 아무리 크게 지정하더라도, $N$ 보다 큰 어떤 수 $n$에 대해 $n^3 > c\\cdot n^2$이 성립한다.\n",
    "    * 예를 들어, $n > c$로 잡으면 됨."
   ]
  },
  {
   "cell_type": "markdown",
   "metadata": {
    "slideshow": {
     "slide_type": "fragment"
    }
   },
   "source": [
    "* $O(n^2)$: 특정 양의 실수 $c$에 대해 $c\\, n^2$ 보다 궁극적으로 작은 값을 가지는 함수들의 집합\n",
    "\n",
    "<div align=\"center\"><img src=\"images/algo01-10.png\" width=\"400\"/></div>"
   ]
  },
  {
   "cell_type": "markdown",
   "metadata": {
    "slideshow": {
     "slide_type": "slide"
    }
   },
   "source": [
    "### $\\Omega$ 표기법\n",
    "\n",
    "* 다음 성질을 갖는 양의 실수 $c$와 음이 아닌 정수 $N$이 존재할 때 $g(n)\\in \\Omega(f(n))$ 성립: \n",
    "    <br>\n",
    "\n",
    "    <div style=\"text-align:center\";>$n \\ge N$인 임의의 정수 $n$에 대해 $g(n) \\ge c\\cdot f(n)$</div>\n",
    "    "
   ]
  },
  {
   "cell_type": "markdown",
   "metadata": {
    "slideshow": {
     "slide_type": "fragment"
    }
   },
   "source": [
    "* $g(n) \\in \\Omega(f(n))$ 읽는 방법:\n",
    "    * $g(n)$은 $f(n)$의 오메가이다.\n",
    "    * $g(n)$의 점근적 하한은 $f(n)$이다."
   ]
  },
  {
   "cell_type": "markdown",
   "metadata": {
    "slideshow": {
     "slide_type": "subslide"
    }
   },
   "source": [
    "* 의미: 입력크기 $n$에 대해 시간 복잡도 $g(n)$의 수행시간은 궁극적으로 $f(n)$보다 효율적이지 못하다."
   ]
  },
  {
   "cell_type": "markdown",
   "metadata": {
    "slideshow": {
     "slide_type": "fragment"
    }
   },
   "source": [
    "<div align=\"center\"><img src=\"images/algo01-11.png\" width=\"400\"/></div>"
   ]
  },
  {
   "cell_type": "markdown",
   "metadata": {
    "slideshow": {
     "slide_type": "subslide"
    }
   },
   "source": [
    "#### $\\Omega$ 표기법 예제"
   ]
  },
  {
   "cell_type": "markdown",
   "metadata": {
    "cell_style": "split",
    "slideshow": {
     "slide_type": "fragment"
    }
   },
   "source": [
    "* $n^2 + 10n \\in \\Omega(n^2)$\n",
    "    * $n \\ge 0$인 경우: $n^2+10n \\ge n^2$\n",
    "    * 그러므로 $c = 1$과 $N = 0$ 선택"
   ]
  },
  {
   "cell_type": "markdown",
   "metadata": {
    "cell_style": "split",
    "slideshow": {
     "slide_type": "fragment"
    }
   },
   "source": [
    "* $5n^2 \\in \\Omega(n^2)$\n",
    "    * $n \\ge 0$인 경우: $5n^2 \\ge 1\\cdot n^2$\n",
    "    * 그러므로, $c=1$과 $N=0$ 선택"
   ]
  },
  {
   "cell_type": "markdown",
   "metadata": {
    "cell_style": "split",
    "slideshow": {
     "slide_type": "fragment"
    }
   },
   "source": [
    "* $T(n) = n(n-1)/2 \\in \\Omega(n^2)$\n",
    "\n",
    "    * $n \\ge 2$인 경우: $\\frac{n(n-1)}{2} \\ge \\frac{1}{4} n^2$\n",
    "    * 그러므로 $c = 1/4$과 $N = 2$ 선택\n",
    "    "
   ]
  },
  {
   "cell_type": "markdown",
   "metadata": {
    "cell_style": "split",
    "slideshow": {
     "slide_type": "fragment"
    }
   },
   "source": [
    "* $n^3 \\in \\Omega(n^2)$\n",
    "\n",
    "    * $n \\ge 1$인 경우: $n^3 \\ge 1 \\cdot n^2$\n",
    "    * 그러므로, $c = 1$과 $N = 1$ 선택        "
   ]
  },
  {
   "cell_type": "markdown",
   "metadata": {
    "slideshow": {
     "slide_type": "subslide"
    }
   },
   "source": [
    "* $n \\not\\in \\Omega(n^2)$\n",
    "    * $c$를 아무리 작게, $N$을 아무리 크게 지정하더라도, $n \\le c\\cdot n^2$을 만족시키는 $n\\ge N$이 존재.\n",
    "    * 예를 들어, $n \\ge 1/c$로 잡으면 됨."
   ]
  },
  {
   "cell_type": "markdown",
   "metadata": {
    "slideshow": {
     "slide_type": "fragment"
    }
   },
   "source": [
    "* $\\Omega(n^2)$:  특정 양의 실수 $c$에 대해 $c\\, n^2$ 보다 궁극적으로 큰 값을 가지는 함수들의 집합\n",
    "\n",
    "<div align=\"center\"><img src=\"images/algo01-12.png\" width=\"400\"/></div>"
   ]
  },
  {
   "cell_type": "markdown",
   "metadata": {
    "slideshow": {
     "slide_type": "slide"
    }
   },
   "source": [
    "### $\\Theta$ 표기법\n",
    "\n",
    "* $\\Theta(f(n)) = O(f(n)) \\cap \\Omega(f(n))$."
   ]
  },
  {
   "cell_type": "markdown",
   "metadata": {
    "slideshow": {
     "slide_type": "fragment"
    }
   },
   "source": [
    "* 즉, 다음 성질을 갖는 양의 실수 $c$와 $d$, 그리고 음이 아닌 정수 $N$이 존재할 때 $g(n)\\in \\Theta(f(n))$ 성립: \n",
    "    <br>\n",
    "\n",
    "    <div style=\"text-align:center\";>$n \\ge N$인 임의의 정수 $n$에 대해 $c\\cdot f(n) \\le g(n) \\le d\\cdot f(n)$</div>\n",
    "    "
   ]
  },
  {
   "cell_type": "markdown",
   "metadata": {
    "slideshow": {
     "slide_type": "subslide"
    }
   },
   "source": [
    "* $g(n) \\in \\Theta(f(n))$ 읽는 방법:\n",
    "    * $g(n)$의 $f(n)$의 __차수__이다."
   ]
  },
  {
   "cell_type": "markdown",
   "metadata": {
    "slideshow": {
     "slide_type": "fragment"
    }
   },
   "source": [
    "<div align=\"center\"><img src=\"images/algo01-13.png\" width=\"400\"/></div>"
   ]
  },
  {
   "cell_type": "markdown",
   "metadata": {
    "slideshow": {
     "slide_type": "subslide"
    }
   },
   "source": [
    "#### $\\Theta$ 표기법 예제\n",
    "\n",
    "* $T(n)  = n (n-1) /2 \\in \\Theta(n^2)$:\n",
    "    * $n\\ge 2$인 경우: $n (n-1) /2 \\ge \\frac 1 4 n^2$\n",
    "    * $n \\ge 0$인 경우: $n (n-1) /2 \\le \\frac 1 2 n^2$\n",
    "    * 그러므로, $c = \\frac 1 4$, $d = \\frac 1 2$, $N = 2$."
   ]
  },
  {
   "cell_type": "markdown",
   "metadata": {
    "slideshow": {
     "slide_type": "fragment"
    }
   },
   "source": [
    "<div align=\"center\"><img src=\"images/algo01-14.png\" width=\"400\"/></div>"
   ]
  },
  {
   "cell_type": "markdown",
   "metadata": {
    "slideshow": {
     "slide_type": "slide"
    }
   },
   "source": [
    "### 작은 $o$(small $o$) 표기법\n",
    "\n",
    "* 임의의 양의 실수 $c$에 대해 다음 성질을 갖는 음이 아닌 정수 $N$이 존재할 때 $g(n)\\in o(f(n))$ 성립: \n",
    "    <br>\n",
    "\n",
    "    <div style=\"text-align:center\";>$n \\ge N$인 임의의 정수 $n$에 대해 $g(n) \\le c\\cdot f(n)$</div>\n",
    "    "
   ]
  },
  {
   "cell_type": "markdown",
   "metadata": {
    "slideshow": {
     "slide_type": "fragment"
    }
   },
   "source": [
    "* $g(n) \\in o(f(n))$ 읽는 방법:\n",
    "    * $g(n)$은 $f(n)$의 '작은 오(small $o$)이다."
   ]
  },
  {
   "cell_type": "markdown",
   "metadata": {
    "slideshow": {
     "slide_type": "subslide"
    }
   },
   "source": [
    "* 의미\n",
    "    * $g(n)$이 $f(n)$에 비해 궁극적으로 하찮을 만큼 작다.\n",
    "    * 알고리즘 분석적 측면: 복잡도 $g(n)$이 복잡도 $f(n)$ 보다 궁극적으로 훨씬 좋다.\n",
    "        * 이유: $c>0$이 아무리 작더라도, $n$이 충분히 크면 $g(n) < f(n)$ 성립하기 때문."
   ]
  },
  {
   "cell_type": "markdown",
   "metadata": {
    "slideshow": {
     "slide_type": "subslide"
    }
   },
   "source": [
    "#### 큰 $O$  vs 작은 $o$\n",
    "\n",
    "* 큰 $O$: 하나의 양의 실수 $c$에 대해서 부등식 성립\n",
    "* 작은 $o$: 모든 양의 실수 $c$에 대해서 부등식 성립"
   ]
  },
  {
   "cell_type": "markdown",
   "metadata": {
    "slideshow": {
     "slide_type": "subslide"
    }
   },
   "source": [
    "#### 작은 $o$ 표기법 예제"
   ]
  },
  {
   "cell_type": "markdown",
   "metadata": {
    "slideshow": {
     "slide_type": "fragment"
    }
   },
   "source": [
    "* $n \\in o(n^2)$\n",
    "    * $c > 0$가 주어졌을 때, $n \\ge 1/c$인 모든 $n$에 대해 $n \\le c\\cdot n^2$ 성립."
   ]
  },
  {
   "cell_type": "markdown",
   "metadata": {
    "slideshow": {
     "slide_type": "fragment"
    }
   },
   "source": [
    "* $n \\not\\in o(5n)$\n",
    "    * $c < 1/5$인 경우, 임의의 음이 아닌 정수 $n$에 대해 $n > c\\cdot 5n$ 성립."
   ]
  },
  {
   "cell_type": "markdown",
   "metadata": {
    "slideshow": {
     "slide_type": "fragment"
    }
   },
   "source": [
    "* $n^2 \\not\\in o(5n)$\n",
    "    * $n \\not\\in o(5n)$이기 때문."
   ]
  },
  {
   "cell_type": "markdown",
   "metadata": {
    "slideshow": {
     "slide_type": "subslide"
    }
   },
   "source": [
    "#### 작은 $o$ 특성\n",
    "\n",
    "* $g(n) \\in o(f(n))$이면 다음도 성립:\n",
    "\n",
    "$$\n",
    "g(n) \\in O(f(n)) - \\Omega(f(n))\n",
    "$$\n",
    "\n",
    "* 증명: 생략."
   ]
  },
  {
   "cell_type": "markdown",
   "metadata": {
    "slideshow": {
     "slide_type": "fragment"
    }
   },
   "source": [
    "* __주의__\n",
    "    * $g(n) \\in o(f(n)) \\neq O(f(n)) - \\Omega(f(n))$\n",
    "\n",
    "    * 예제\n",
    "\n",
    "$$\n",
    "g(n) = \n",
    "\\begin{cases}\n",
    "n & \\text{if }n \\%2 = 0 \\\\\n",
    "1 & \\text{if }n \\%2 = 1 \\\\\n",
    "\\end{cases}\n",
    "$$"
   ]
  },
  {
   "cell_type": "markdown",
   "metadata": {
    "slideshow": {
     "slide_type": "slide"
    }
   },
   "source": [
    "### 차수의 특성"
   ]
  },
  {
   "cell_type": "markdown",
   "metadata": {
    "cell_style": "center",
    "slideshow": {
     "slide_type": "fragment"
    }
   },
   "source": [
    "* $g(n) \\in O(f(n)) \\quad\\Longleftrightarrow\\quad f(n) \\in \\Omega(g(n))$"
   ]
  },
  {
   "cell_type": "markdown",
   "metadata": {
    "cell_style": "center",
    "slideshow": {
     "slide_type": "fragment"
    }
   },
   "source": [
    "* $g(n) \\in \\Theta(f(n)) \\quad\\Longleftrightarrow\\quad f(n) \\in \\Theta(g(n))$"
   ]
  },
  {
   "cell_type": "markdown",
   "metadata": {
    "cell_style": "center",
    "slideshow": {
     "slide_type": "fragment"
    }
   },
   "source": [
    "* 임의의 $a, b > 1$에 대해 \n",
    "\n",
    "    $$\\log_a n \\in \\Theta(\\log_b n)$$\n",
    "\n",
    "    즉, 로그 함수는 모두 동일한 복잡도 카테고리에 속함.\n",
    "    "
   ]
  },
  {
   "cell_type": "markdown",
   "metadata": {
    "cell_style": "center",
    "slideshow": {
     "slide_type": "subslide"
    }
   },
   "source": [
    "* $b > a > 0$이면 다음 성립:\n",
    "\n",
    "    $$a^n \\in o(b^n)$$\n",
    "    \n",
    "    즉, 지수 함수는 밑수가 다르면 다른 복잡도 카테고리에 속함.\n",
    "    "
   ]
  },
  {
   "cell_type": "markdown",
   "metadata": {
    "cell_style": "center",
    "slideshow": {
     "slide_type": "fragment"
    }
   },
   "source": [
    "* 임의의 양의 실수 $a$에 대해 다음 성립: \n",
    "\n",
    "    $$a^n \\in o(n!)$$\n",
    "    \n",
    "    즉, $n!$은 어떠한 지수 복잡도함수보다 더 나쁘다(느리다).\n",
    "    "
   ]
  },
  {
   "cell_type": "markdown",
   "metadata": {
    "slideshow": {
     "slide_type": "subslide"
    }
   },
   "source": [
    "* 많이 언급되는 복잡도 카테고리를 순서대로 나열하면 다음과 같음:\n",
    "\n",
    "    $$\\Theta(\\lg n)\\quad \\Theta(n)\\quad \\Theta(n\\, \\lg n)\\quad \\Theta(n^2)\\quad \\Theta(n^j)\\quad \\Theta(n^k)\\quad \\Theta(a^n)\\quad \\Theta(b^n)\\quad \\Theta(n!)$$\n",
    "    \n",
    "    * 단, $k > j > 2$이고 $b > a > 1$임.\n",
    "    * $g(n)$이 $f(n)$의 카테고리 보다 왼편에 위치한 카테고리에 속한 경우 다음 성립:\n",
    "    \n",
    "        $$g(n) \\in o(f(n))$$\n",
    "        "
   ]
  },
  {
   "cell_type": "markdown",
   "metadata": {
    "slideshow": {
     "slide_type": "subslide"
    }
   },
   "source": [
    "* $c\\ge 0$, $d>0$, $g(n) \\in O(f(n))$, $h(n) \\in \\Theta(f(n))$ 인 경우 다음 성립:\n",
    "\n",
    "    $$c \\cdot g(n) + d\\cdot h(n) \\in \\Theta(f(n))$$"
   ]
  },
  {
   "cell_type": "markdown",
   "metadata": {
    "slideshow": {
     "slide_type": "subslide"
    }
   },
   "source": [
    "#### 예제"
   ]
  },
  {
   "cell_type": "markdown",
   "metadata": {
    "slideshow": {
     "slide_type": "fragment"
    }
   },
   "source": [
    "* $\\Theta(\\log_4 n) \\in \\Theta(\\lg n)$\n",
    "\n",
    "* $\\lg n \\in o(n)$\n",
    "\n",
    "* $n^{10} \\in o(2^n)$\n",
    "\n",
    "* $2^n \\in o(n!)$ \n",
    "\n",
    "* $7 n^2 \\in \\Theta(n^2)$\n",
    "\n",
    "* $10 n\\, \\lg n + 7 n^2 \\in \\Theta(n^2)$\n",
    "\n",
    "* $3\\, \\lg n + 10 n\\, \\lg n + 7 n^2 \\in \\Theta(n^2)$\n",
    "\n",
    "* $5n + 3\\, \\lg n + 10 n\\, \\lg n + 7 n^2 \\in \\Theta(n^2)$"
   ]
  },
  {
   "cell_type": "markdown",
   "metadata": {
    "slideshow": {
     "slide_type": "slide"
    }
   },
   "source": [
    "### 극한(limit)을 이용하여 차수를 구하는 방법"
   ]
  },
  {
   "cell_type": "markdown",
   "metadata": {
    "slideshow": {
     "slide_type": "slide"
    }
   },
   "source": [
    "#### 정리\n",
    "\n",
    "* $\\lim_{n\\to \\infty} \\frac{g(n)}{f(n)}$의 값이\n",
    "    * 만약 $c > 0$이면, $g(n) \\in \\Theta(f(n))$,\n",
    "    * 만약 $0$ 이면, $g(n) \\in o(f(n))$,\n",
    "    * 만약 $\\infty$, 즉, 발산하면,  $f(n) \\in o(g(n))$."
   ]
  },
  {
   "cell_type": "markdown",
   "metadata": {
    "slideshow": {
     "slide_type": "slide"
    }
   },
   "source": [
    "#### 예제"
   ]
  },
  {
   "cell_type": "markdown",
   "metadata": {
    "cell_style": "split",
    "slideshow": {
     "slide_type": "fragment"
    }
   },
   "source": [
    "* $\\frac{n^2}{2} \\in o(n^3)$:\n",
    "\n",
    "$$\\lim_{n\\to \\infty} \\frac{n^2/2}{n^3} = \\lim_{n\\to \\infty} \\frac{1}{2n} = 0$$"
   ]
  },
  {
   "cell_type": "markdown",
   "metadata": {
    "cell_style": "split",
    "slideshow": {
     "slide_type": "fragment"
    }
   },
   "source": [
    "* $b>a>0$일 때, $a^n \\in o(b^n)$:\n",
    "\n",
    "$$\\lim_{n\\to \\infty} \\frac{a^n}{b^n} = \\lim_{n\\to \\infty} \\Big( \\frac{a}{b}\\Big)^n = 0$$"
   ]
  },
  {
   "cell_type": "markdown",
   "metadata": {
    "slideshow": {
     "slide_type": "fragment"
    }
   },
   "source": [
    "* $a>0$일 때, $a^n \\in o(n!)$ \n",
    "\n",
    "    * 증명 생략."
   ]
  },
  {
   "cell_type": "markdown",
   "metadata": {
    "slideshow": {
     "slide_type": "slide"
    }
   },
   "source": [
    "#### 로피탈(L'Hopital)의 법칙\n",
    "\n",
    "* $\\lim_{n\\to \\infty} f(n) = \\lim_{n\\to \\infty} g(n) = \\infty$이 성립하면:\n",
    "\n",
    "$$\\lim_{n\\to \\infty} \\frac{g(n)}{f(n)} = \\lim_{n\\to \\infty} \\frac{g'(n)}{f'(n)}$$"
   ]
  },
  {
   "cell_type": "markdown",
   "metadata": {
    "slideshow": {
     "slide_type": "subslide"
    }
   },
   "source": [
    "#### 예제"
   ]
  },
  {
   "cell_type": "markdown",
   "metadata": {
    "cell_style": "split",
    "slideshow": {
     "slide_type": "fragment"
    }
   },
   "source": [
    "* $\\lg n \\in o(n)$:\n",
    "\n",
    "$$\n",
    "\\lim_{n\\to \\infty} \\frac{\\lg n}{n} =\n",
    "\\lim_{n\\to \\infty} \\Big( \\frac{\\frac{1}{n\\, \\ln 2}}{1} \\Big) = 0\n",
    "$$"
   ]
  },
  {
   "cell_type": "markdown",
   "metadata": {
    "cell_style": "split",
    "slideshow": {
     "slide_type": "fragment"
    }
   },
   "source": [
    "* $\\log_a n \\in \\Theta(\\log_b n)$:\n",
    "\n",
    "$$\n",
    "\\lim_{n\\to \\infty} \\frac{\\log_a n}{\\log_b n} =\n",
    "\\lim_{n\\to \\infty} \\Big( \\frac{\\frac{1}{n\\, \\ln a}}{\\frac{1}{n \\cdot \\ln b}} \\Big) =\n",
    "\\frac{\\log b}{\\log a} > 0\n",
    "$$        "
   ]
  }
 ],
 "metadata": {
  "celltoolbar": "Slideshow",
  "kernelspec": {
   "display_name": "Python 3",
   "language": "python",
   "name": "python3"
  },
  "language_info": {
   "codemirror_mode": {
    "name": "ipython",
    "version": 3
   },
   "file_extension": ".py",
   "mimetype": "text/x-python",
   "name": "python",
   "nbconvert_exporter": "python",
   "pygments_lexer": "ipython3",
   "version": "3.7.6"
  }
 },
 "nbformat": 4,
 "nbformat_minor": 4
}
