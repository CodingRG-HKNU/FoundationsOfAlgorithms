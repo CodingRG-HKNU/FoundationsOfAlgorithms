{
 "cells": [
  {
   "cell_type": "markdown",
   "metadata": {
    "slideshow": {
     "slide_type": "slide"
    }
   },
   "source": [
    "# 1장 알고리즘: 효율, 분석, 차수"
   ]
  },
  {
   "cell_type": "markdown",
   "metadata": {
    "slideshow": {
     "slide_type": "slide"
    }
   },
   "source": [
    "## 주요 내용\n",
    "\n",
    "1. Algorithms\n",
    "1. The Importance of Developing Efficient Algorithms\n",
    "1. Analysis of Algorithms\n",
    "1. Order"
   ]
  },
  {
   "cell_type": "markdown",
   "metadata": {
    "slideshow": {
     "slide_type": "slide"
    }
   },
   "source": [
    "## Overview\n",
    "\n",
    "* What is an algorithm ?\n",
    "    * Techniques for solving problems using a computer\n",
    "        * Technique – not a programming style or a programming language,\n",
    "            but the approach or methodology used to solve a problem\n",
    "    * Applying a technique to a problem results \n",
    "        in a step-by-step procedure\n",
    "* Important characteristics - efficiency, analysis, and order\n",
    "\n",
    "* 프로그램 설계 과정\n",
    "\n",
    "<img src=\"images/algo01-1.png\" width=\"400\"/>"
   ]
  },
  {
   "attachments": {},
   "cell_type": "markdown",
   "metadata": {
    "slideshow": {
     "slide_type": "slide"
    }
   },
   "source": [
    "## Overview\n",
    "\n",
    "* Algorithm\n",
    "    * An algorithm is a step-by-step procedure to solve a problem\n",
    "    * But making sure the developer is using the most efficient\n",
    "        algorithm is very crucial no matter how fast computers\n",
    "        become or how cheap memory gets\n",
    "    * How efficiently an algorithm solves a problem?\n",
    "        => Need to analyze the algorithm\n",
    "\n",
    "* Analysis => Computational Complexity (Order)\n",
    "    * How efficiently an algorithm solves a problem \n",
    "    * Order helps group algorithms according to their eventual behavior\n",
    "    * Time/storage complexity\n",
    "        * Time – how many times some operation(s) are performed\n",
    "        * Storage – how much of memories are needed "
   ]
  },
  {
   "attachments": {},
   "cell_type": "markdown",
   "metadata": {
    "slideshow": {
     "slide_type": "slide"
    }
   },
   "source": [
    "## 강의 내용\n",
    "\n",
    "* 2장 Divide-and-Conquer (분할정복법)\n",
    "    * Binary Search\n",
    "    1. Mergesort\n",
    "    1. The Divide-and-Conquer Approach\n",
    "    1. Quicksort (Partition Exchange Sort)\n",
    "    1. Strassen’s Matrix Multiplication Algorithm\n",
    "    1. When Not to Use Divide-and-Conquer\n",
    "\n",
    "\n",
    "* 3장 Dynamic programming (동적계획법)\n",
    "    * The Binomial Coefficient\n",
    "    1. Ch4.4 The Knapsack Problem\n",
    "    1. Chained Matrix Multiplication\n",
    "    1. Dynamic Programming & Optimization Problems\n",
    "    1. Floyd’s Algorithm for Shortest Paths\n",
    "    1. Optimal Binary Search Trees\n",
    "    1. The Traveling Salesperson Problem"
   ]
  },
  {
   "attachments": {},
   "cell_type": "markdown",
   "metadata": {
    "slideshow": {
     "slide_type": "slide"
    }
   },
   "source": [
    "## 강의 내용\n",
    "\n",
    "* 4장 Greedy Approach (탐욕적 방법)\n",
    "    * Minimum Spanning Trees\n",
    "    1. Dijkstra’s Algorithm for Single-Source Shortest Paths\n",
    "    1. Scheduling\n",
    "\n",
    "\n",
    "* 5장 Backtracking (되추적)\n",
    "    * The Backtracking Technique\n",
    "    1. The n-Queens Problems\n",
    "    1. Graph Coloring\n",
    "    1. The Hamiltonian Circuits Problem\n",
    "    1. The Sum-of-Subsets Problem\n",
    "    1. The 0-1 Knapsack Problem\n",
    "    1. Using a Monte Carlo Algorithm"
   ]
  },
  {
   "attachments": {},
   "cell_type": "markdown",
   "metadata": {
    "slideshow": {
     "slide_type": "slide"
    }
   },
   "source": [
    "## 강의 내용\n",
    "\n",
    "* 6장 Branch-and-Bound (분기한정법)\n",
    "    * Illustrating Branch-and-Bound with the 0-1 Knapsack Problem\n",
    "    * The Traveling Salesperson Problem\n",
    "\n",
    "\n",
    "* 7장 The sorting problem \n",
    "    * Heapsort\n",
    "    * Sorting by Distribution (Radix Sort)"
   ]
  },
  {
   "attachments": {},
   "cell_type": "markdown",
   "metadata": {
    "slideshow": {
     "slide_type": "slide"
    }
   },
   "source": [
    "## 강의 내용\n",
    "\n",
    "* 8장 The searching problem\n",
    "    * Lower Bounds for Searching by Comparisons of Keys\n",
    "    * Interpolation Search\n",
    "    * Hashing\n",
    "\n",
    "* 9장 The theory of P/NP \n",
    "    * The Three General Categories of Problems\n",
    "    * The Theory of NP\n",
    "    * Handling NP-Hard Problems"
   ]
  },
  {
   "attachments": {},
   "cell_type": "markdown",
   "metadata": {
    "slideshow": {
     "slide_type": "slide"
    }
   },
   "source": [
    "## 알고리즘의 예\n",
    "\n",
    "* 문제: 전화번호부에서 '홍길동'의 전화번호 찾기\n",
    "\n",
    "* 알고리즘\n",
    "    * Sequential Search (순차검색)\n",
    "    * 첫 쪽부터 '홍길동'이라는 이름이 나올 때까지 순서대로 찾는다.\n",
    "\n",
    "* Modified Binary Search (수정된 이분검색)\n",
    "    * 전화번호부는 '가나다'순으로 되어있으므로\n",
    "        먼저 'ㅎ'이 있을 만한 곳으로 넘겨본 후\n",
    "        앞뒤로 뒤적여가며 찾는다.\n",
    "\n",
    "* 분석: 어떤 알고리즘이 더 좋은가?"
   ]
  },
  {
   "attachments": {},
   "cell_type": "markdown",
   "metadata": {
    "slideshow": {
     "slide_type": "slide"
    }
   },
   "source": [
    "## 알고리즘의 표기\n",
    "\n",
    "* 자연어: 한글 또는 영어\n",
    "    * Drawback 1 : difficult to write a complex problem\n",
    "    * Drawback 2 : difficult to understand the algorithm\n",
    "    * Drawback 3 : not clear how to create a computer language\n",
    "\n",
    "* 프로그래밍언어: C, C++, Java 등\n",
    "\n",
    "* 의사코드 (Pseudo-code)\n",
    "    * 직접 실행할 수 있는 프로그래밍언어는 아니지만,\n",
    "        거의 실제 프로그램에 가깝게 계산과정을 표현할 수 있는 언어\n",
    "\n",
    "* 알고리즘은 보통 의사코드로 표현한다.\n",
    "* 이 강의/교재에서는 C++에 가까운 의사코드를 사용한다."
   ]
  },
  {
   "attachments": {},
   "cell_type": "markdown",
   "metadata": {
    "slideshow": {
     "slide_type": "slide"
    }
   },
   "source": [
    "## 의사코드 유의사항(1)\n",
    "\n",
    "* 배열 인덱스의 범위에 제한 없음\n",
    "    * C++는 반드시 0부터 시작\n",
    "    * 의사코드는 임의의 값 사용 가능\n",
    "\n",
    "* 프로시저의 파라미터에 2차원 배열 크기의 가변성 허용\n",
    "    * 예: void pname(A[][]) { … }\n",
    "\n",
    "* 지역배열에 변수 인덱스 허용\n",
    "    * 예: keytype S[low..high];"
   ]
  },
  {
   "attachments": {},
   "cell_type": "markdown",
   "metadata": {
    "slideshow": {
     "slide_type": "slide"
    }
   },
   "source": [
    "## 의사코드 유의사항(2)\n",
    "\n",
    "* 수학적 표현식 허용 \n",
    "    * low <= x && x <= high     =>   low $\\le$ x $\\le$ high\n",
    "    * temp = x; x = y; y = temp =>   exchange x and y\n",
    "\n",
    "* C++에 없는 타입 사용 가능\n",
    "    * index: \t첨자로 사용되는 정수 변수\n",
    "    * number: \t정수(int) 또는 실수(float) 모두 사용 가능"
   ]
  },
  {
   "attachments": {},
   "cell_type": "markdown",
   "metadata": {
    "slideshow": {
     "slide_type": "slide"
    }
   },
   "source": [
    "## 의사코드 유의사항(3)\n",
    "\n",
    "* 제어 구조\n",
    "    * repeat (n times) { … }\n",
    "\n",
    "* 프로시저와 함수\n",
    "    * 프로시저: void pname(…) {…}\n",
    "    * 함수: returntype fname (…) {… return x;}\n",
    "\n",
    "* 참조 파라미터(reference parameter)를 사용하여 프로시저의 결과값 전달\n",
    "    * 배열: 참조 파라미터로 전달\n",
    "    * 기타: 데이터타입 이름 뒤에 &를 붙임\n",
    "    * const 배열: 전달되는 배열의 값이 불변"
   ]
  },
  {
   "cell_type": "markdown",
   "metadata": {
    "slideshow": {
     "slide_type": "slide"
    }
   },
   "source": [
    "## Basic Structure\n",
    "\n",
    "* Definition part\n",
    "    * Problem, Input, Output에 관한 설명 기술: \n",
    "\n",
    "* Procedure part\n",
    "\n",
    "```\n",
    "ReturnType procedureName(parameters) {\n",
    "                \n",
    "             Body;\n",
    " \n",
    "    }\n",
    "```\n",
    "\n",
    "* See Algorithm 1.1, 1.2, 1.3, 1.4"
   ]
  },
  {
   "cell_type": "markdown",
   "metadata": {
    "slideshow": {
     "slide_type": "slide"
    }
   },
   "source": [
    "## Sequential Search (순차검색)\n",
    "\n",
    "* 문제: 크기가 n인 배열 S에 x가 있는가?\n",
    "    * 입력 (파라미터): (1) 양수 n, (2) 배열 S[1..n], (3) 키 x\n",
    "    * 출력: x가 S의 어디에 있는지의 위치. 만약 없으면 0.\n",
    "\n",
    "* 알고리즘 (자연어): \n",
    "    * x와 같은 아이템을 찾을 때까지 S에 있는 모든 아이템을 차례로 검사한다. \n",
    "    * 만일 x와 같은 아이템을 찾으면 S 안의 위치 값을 전달하고\n",
    "        S를 모두 검사하고도 찾지 못하면 0을 전달한다."
   ]
  },
  {
   "cell_type": "markdown",
   "metadata": {
    "slideshow": {
     "slide_type": "slide"
    }
   },
   "source": [
    "## Sequential Search Algorithm\n",
    "\n",
    "```\n",
    "void seqsearch(int n,               // 입력(1)\n",
    "                const keytype S[]   //    (2)\n",
    "                keytype x,          //    (3)\n",
    "                index& location) {   // 출력\n",
    "    location = 1;\n",
    "    while (location <= n && S[location] != x)\n",
    "        location++;\n",
    "    if (location > n)\n",
    "        location = 0;\n",
    "    }\n",
    "```\n",
    "\n",
    "* while-루프: 아직 검사할 항목이 있고, x를 찾지 못했나?\n",
    "* if-문: 모두 검사하였으나, x를 찾지 못했나?"
   ]
  },
  {
   "cell_type": "markdown",
   "metadata": {
    "slideshow": {
     "slide_type": "slide"
    }
   },
   "source": [
    "## 분석\n",
    "\n",
    "* 순차검색 알고리즘으로 키를 찾기 위해서 S에 있는 항목을  몇 개나 검색해야 하는가?\n",
    "    * 키와 같은 항목의 위치에 따라 다름\n",
    "    * 최악의 경우: n\n",
    "\n",
    "* 좀 더 빨리 찾을 수는 없는가?\n",
    "    * S에 있는 항목에 대한 정보가 없는 한 더 빨리 찾을 수 없다."
   ]
  },
  {
   "cell_type": "markdown",
   "metadata": {
    "slideshow": {
     "slide_type": "slide"
    }
   },
   "source": [
    "## Binary Search (이분검색)\n",
    "\n",
    "* 문제: 크기가 n인 정렬된 배열 S에 x가 있는가?\n",
    "    * 입력: (1) 양수 n, (2) 배열 S[1..n], (3) 키 x\n",
    "    * 출력: x가 S의 어디에 있는지의 위치. 만약 없으면 0. "
   ]
  },
  {
   "cell_type": "markdown",
   "metadata": {
    "slideshow": {
     "slide_type": "slide"
    }
   },
   "source": [
    "## Binary Search Algorithm\n",
    "\n",
    "```\n",
    "void binsearch(int n,                 // 입력(1)\n",
    "                const keytype S[],    //    (2)\n",
    "                keytype x,            //    (3)\n",
    "                index& location) {    // 출력\n",
    "    index low, high, mid;\n",
    "    low = 1; high = n;\n",
    "    location = 0;\n",
    "    \n",
    "    while (low <= high && location == n0) {\n",
    "        mid = (low + high)/2;          // 정수나눗셈\n",
    "        if (x == S[mid]) high = mid - 1;\n",
    "        else if (x < S[mid]) high = mid -1;\n",
    "        else low = mid + 1;\n",
    "        }\n",
    "    }        \n",
    "```\n",
    "\n",
    "* while-루프: 아직 검사할 항목이 있고, x를 찾지 못했나?"
   ]
  },
  {
   "cell_type": "markdown",
   "metadata": {
    "slideshow": {
     "slide_type": "slide"
    }
   },
   "source": [
    "## 분석\n",
    "\n",
    "* 이분검색 알고리즘으로 키를 찾기 위해서\n",
    "    S에 있는 항목을 몇 개나 검색해야 하는가?\n",
    "    * while 문을 수행할 때마다 검색 대상의 총 크기가\n",
    "        반씩 감소하기 때문에 최악의 경우라도 \n",
    "        lg n + 1개만 검사하면 된다.  (lg = log2)"
   ]
  },
  {
   "cell_type": "markdown",
   "metadata": {
    "slideshow": {
     "slide_type": "slide"
    }
   },
   "source": [
    "## 순차검색 vs 이분검색\n",
    "\n",
    "<img src=\"images/algo01-2.png\" width=\"400\"/>\n",
    "\n",
    "* 응용\n",
    "    * 은행에서 고객에 관한 정보를 효과적으로 저장하고 검색하는 방법은?"
   ]
  },
  {
   "attachments": {},
   "cell_type": "markdown",
   "metadata": {
    "slideshow": {
     "slide_type": "slide"
    }
   },
   "source": [
    "## Fibonacci Sequence\n",
    "\n",
    "* Definition of Fibonacci Sequence\n",
    "\n",
    "```\n",
    "f_0 = 0\n",
    "f_1 = 1\n",
    "f_n = f_{n-1} + f_{n-2}\t\tfor n >= 2\n",
    "```\n",
    "\n",
    "* 예: 0, 1, 1, 2, 3, 5, 8, 13, 21, 34, 55, 89, 144, 233, …"
   ]
  },
  {
   "attachments": {},
   "cell_type": "markdown",
   "metadata": {
    "slideshow": {
     "slide_type": "slide"
    }
   },
   "source": [
    "## 피보나찌 수 구하기 알고리즘 (Recursive)\n",
    "\n",
    "* 문제: Find n-th term of the Fibonacci sequence\n",
    "    * 입력: nonnegative integer n\n",
    "    * 출력: n-th term of the Fibonacci sequence\n",
    "\n",
    "* 알고리즘 :\n",
    "\n",
    "```\n",
    "int fib (int n) {\n",
    "     if (n <= 1)\n",
    "          return n;\n",
    "     else\n",
    "          return fib(n-1) + fib(n-2);\n",
    "    }\n",
    "```\n",
    "\n",
    "\n",
    "\n",
    "\n",
    "\n",
    "\n",
    "* How does a computer to execute a recursive program?"
   ]
  },
  {
   "cell_type": "markdown",
   "metadata": {
    "slideshow": {
     "slide_type": "slide"
    }
   },
   "source": [
    "## 분석\n",
    "\n",
    "* 피보나찌 수 구하기 재귀 알고리즘\n",
    "    * Easy to create and understandable, but extremely inefficient\n",
    "\n",
    "    * 이유: values are computed over and over again\n",
    "\n",
    "    * 예: fib(2) is computed  3 times to compute fib(5) \n",
    "        * fib(5) = fib(4) + fib(3)\n",
    "        * fib(4) = fib(3) + fib(2); fib(3) = fib(2) + fib(1)\n",
    "        * fib(3) = fib(2) + fib(1);"
   ]
  },
  {
   "cell_type": "markdown",
   "metadata": {
    "slideshow": {
     "slide_type": "slide"
    }
   },
   "source": [
    "## fib(5)의 재귀 트리\n",
    "\n",
    "<img src=\"images/algo01-3.png\" width=\"400\"/>"
   ]
  },
  {
   "attachments": {},
   "cell_type": "markdown",
   "metadata": {
    "slideshow": {
     "slide_type": "slide"
    }
   },
   "source": [
    "## fib(n)의 함수 호출 횟수 계산\n",
    "\n",
    "* T(n) = fib(n)을 계산하기 위하여 fib 함수를 호출하는 횟수\n",
    "    즉, 재귀 트리 상의 마디(node)의 개수\n",
    "\n",
    "```\n",
    "T(0) = 1\n",
    "T(1) = 1\n",
    "T(n) = T(n - 1) + T(n - 2) +1\t\tfor n >= 2\n",
    "        > 2 \\times T(n - 2) \t    왜냐하면 T(n - 1) > T(n - 2)\n",
    "        > 2^2 \\times T(n - 4)\n",
    "        > 2^3 \\times T(n - 6)\n",
    "          \\dots\n",
    "        > 2^{n/2} \\times T(0)\n",
    "        = 2^{n/2}\n",
    "```"
   ]
  },
  {
   "attachments": {},
   "cell_type": "markdown",
   "metadata": {
    "slideshow": {
     "slide_type": "slide"
    }
   },
   "source": [
    "## 계산한 호출 횟수의 검증\n",
    "\n",
    "* 정리: 재귀적 알고리즘으로 구성한 재귀 트리의 마디의 수를\n",
    "    $T(n)$이라고 하면, $n \\ge 2$인 모든 $n$에 대하여 \n",
    "    $T(n) > 2^{n/2}$이다.\n",
    "    \n",
    "* 증명: ($n$에 대한 수학적 귀납법으로 증명)\n",
    "\n",
    "    * 귀납출발점: \n",
    "        * $T(2) = T(1) + T(0) + 1 = 3 > 2 = 2^{2/2}$\n",
    "        * $T(3) = T(2) + T(1) + 1 = 5 > 2.83 \\approx 2^{3/2}$\n",
    "    * 귀납가정: $2 \\le m < n$인 모든 $m$ 에 대해서 $T(m) > 2^{m/2}$이라 가정\n",
    "    * 귀납절차: $T(n) > 2^{n/2}$임을 보이면 된다.\n",
    "\n",
    "```\n",
    "    T(n) = T(n - 1) + T(n - 2) + 1\n",
    "\t        > 2^{(n - 1)/2} + 2^{(n - 2)/2} + 1     [귀납가정에 의하여]\n",
    "\t        > 2^{(n - 2)/2} + 2^(n - 2)/2}\n",
    "\t        = 2 \\times 2^{(n / 2)-1}\n",
    "\t        = 2^{n/2}\n",
    "```"
   ]
  },
  {
   "cell_type": "code",
   "execution_count": null,
   "metadata": {},
   "outputs": [],
   "source": []
  },
  {
   "cell_type": "markdown",
   "metadata": {
    "slideshow": {
     "slide_type": "slide"
    }
   },
   "source": [
    "## 피보나찌 수 구하기 알고리즘 (Iterative)\n",
    "분석\n",
    "반복 알고리즘은 수행속도가 훨씬 더 빠르다.\n",
    "이유: 중복 계산이 없음\n",
    "\n",
    "계산하는 항의 총 개수\n",
    "T(n) = n + 1\n",
    "즉, f[0]부터 f[n]까지 한번씩만 계산\n",
    "두 피보나찌 알고리즘의 비교\n",
    "Analysis of Algorithms\n",
    "시간복잡도(Time Complexity) 분석\n",
    "Analyze the algorithm’s efficiency \t\t\t\t\tby determining the number of times some basic operation is done \tas a function of the size of the input\n",
    "\n",
    "표현 척도\n",
    "Input size (입력크기)\n",
    "배열의 크기, 리스트의 길이, 행렬에서 행과 열의 크기,                  트리에서 마디와 이음선의 수, 그래프에서는 정점과 간선의 수\n",
    "\n",
    "Basic operation (단위연산)\n",
    "비교 (comparison), 지정 (assignment)\n",
    "분석 방법의 종류\n",
    "Worst-case time complexity analysis (최악의 경우 분석)\n",
    "W(n) – the maximum number of times the algorithm will ever do \t\t\tits basic operation for an input size of n\n",
    "입력크기와 입력 값 모두에 종속\n",
    "단위연산이 수행되는 횟수가 최대인 경우 \n",
    "(Ex) Sequential search\n",
    "Best-case time complexity analysis (최선의 경우 분석 )\n",
    "B(n) – the minimum number of times the algorithm will ever do \t\t\tits basic operation for an input size of n \n",
    "입력크기와 입력 값 모두에 종속\n",
    "단위연산이 수행되는 횟수가 최소인 경우\n",
    "(Ex) Sequential search\n",
    "분석 방법의 종류\n",
    "Every-case time complexity analysis (모든 경우 분석)\n",
    "T(n) – the number of times the algorithm does the basic operation \t\t\tfor an instance of size n \n",
    "입력크기에만 종속\n",
    "입력과는 무관하게 수행횟수 항상 일정\n",
    "(Ex) Add array members, Exchange sort, Matrix multiplication\n",
    "Average-case time complexity analysis (평균의 경우 분석)\n",
    "A(n) - the average number of times the algorithm does \t\t\t\tthe basic operation for an input size of n \n",
    "입력크기와 입력 값 모두에 종속\n",
    "모든 입력에 대해서 단위연산이 수행되는 기대치(평균)\n",
    "각 입력에 대해서 확률 할당 가능\n",
    "일반적으로 최악의 경우보다 계산이 복잡\n",
    "(Ex) Sequential search\n",
    "\n",
    "알고리즘: 순차검색 시간복잡도 분석 (최악)\n",
    "단위연산: 배열의 아이템과 키 x와 비교연산               (S[location] != x)\n",
    "\n",
    "입력크기: 배열 안에 있는 아이템의 수 n\n",
    "\n",
    "최악의 경우 분석:\n",
    "x가 배열의 마지막 아이템이거나, \t\t\t\t  x가 배열에 없는 경우,\t\t\t\t\t\t      단위연산이 n번 수행된다.\n",
    "따라서, \n",
    "알고리즘: 순차검색 시간복잡도 분석 (최선)\n",
    "단위연산: 배열의 아이템과 키 x와 비교 연산 (S[location] != x)\n",
    "\n",
    "입력크기: 배열 안에 있는 아이템의 수 n\n",
    "\n",
    "최선의 경우 분석:\n",
    "x가 S[1]일 때, 입력의 크기에 상관없이 단위연산이 1번만 수행된다.\n",
    "따라서, \n",
    "알고리즘: 배열 덧셈\n",
    "문제: 크기가 n인 배열 S의 모든 수를 더하라\n",
    "입력: 양수 n, 배열 S[1..n]\n",
    "출력: 배열 S에 있는 모든 수의 합\n",
    "\n",
    "알고리즘:\n",
    "배열 덧셈 알고리즘의 시간복잡도 분석\n",
    "단위연산: 덧셈\n",
    "\n",
    "입력크기: 배열의 크기 n\n",
    "\n",
    "모든 경우 분석:\n",
    "배열 내용에 상관없이 for-루프가 n번 반복된다.\n",
    "각 루프마다 덧셈이 1회 수행된다.\n",
    "따라서 n에 대해서 덧셈이 수행되는 총 횟수는 T(n) = n이다.\n",
    "알고리즘: 교환정렬\n",
    "문제: 비내림차순(오름차순)으로 n개의 키를 정렬\n",
    "입력: 양수 n, 배열 S[1..n]\n",
    "출력: 비내림차순으로 정렬된 배열\n",
    "\n",
    "알고리즘:\n",
    "알고리즘: 교환정렬 시간복잡도 분석 I\n",
    "단위연산: 조건문 (S[j]와 S[i]의 비교)\n",
    "\n",
    "입력크기: 정렬할 항목의 수 n\n",
    "\n",
    "모든 경우 분석:\n",
    "j-루프가 수행될 때마다 조건문 1번씩 수행\n",
    "조건문의 총 수행횟수\n",
    " i = 1:     j-루프 n-1 번 수행 \n",
    " i = 2:     j-루프 n-2 번 수행\n",
    " i = 3:     j-루프 n-3 번 수행\n",
    " i = n-1: j-루프     1 번 수행\n",
    "따라서\n",
    "\n",
    "알고리즘: 순차검색 시간복잡도 분석 (평균)\n",
    "단위연산: 배열의 아이템과 키 x와 비교 연산 (S[location] != x)\n",
    "\n",
    "입력크기: 배열 안에 있는 아이템의 수 n\n",
    "\n",
    "평균의 경우 분석:\n",
    "배열의 아이템이 모두 다르다고 가정한다.\n",
    "경우 1: x가 배열 S안에 있는 경우만 고려\n",
    "1<k<n에 대해서 x가 배열의 k 번째 있을 확률 = 1/n\n",
    "x가 배열의 k 번째 있다면, \t\t\t\t\t \n",
    "   S를 찾기 위해서 수행하는 단위연산의 횟수 =k\n",
    "따라서,\n",
    "알고리즘: 순차검색 시간복잡도 분석 (평균)\n",
    "경우2: x가 배열 S안에 없는 경우도 고려\n",
    "x가 배열 S안에 있을 확률을 p라고 하면,\n",
    "x가 배열의 k번째 있을 확률 \n",
    "x가 배열에 없을 확률 \n",
    "\n",
    "따라서,\t\t\t\t\t\t\t\t\t\t\t\t\t\t\t\t\t\t\t\t\t\t\t\t\t\t\t\t\t\t\t\t\t\t\n",
    "\n",
    "\n",
    " \n",
    "Discussion\n",
    "최악, 평균, 최선의 경우 분석 방법 중에서  \n",
    "    어떤 분석이 가장 정확한가?\n",
    "최악, 평균, 최선의 경우 분석 방법 중에서 \t\t\t\n",
    "    어떤 분석을 사용할 것인가?\n",
    "The best : every-case time complexity\n",
    "     But, all algorithms don’t have the case.\n",
    "Useful case\n",
    "Average-case : 일반적인 경우 \n",
    "Worst-case : 단 한번의 사고가 중요한 경우\n",
    "복잡도의 표기법\n",
    " O\n",
    "Big O,  asymptotic upper bound\n",
    "\n",
    " \n",
    "Omega,  asymptotic lower bound\n",
    "\n",
    "  \n",
    "Theta, order, asymptotic tight bound (O  )\n",
    "\n",
    "대표적인 복잡도 카테고리\n",
    "(lg n)\n",
    "\n",
    "(n) : 1차 (linear time algorithm)\n",
    "\n",
    "(n lg n)\n",
    "\n",
    "(n2) : 2차 (quadratic time)\n",
    "\n",
    "(n3) : 3차 (cubic time)\n",
    "\n",
    "(2n) : 지수 (exponential time)\n",
    "\n",
    "(n!)\n",
    "최고차 항이 궁극적으로 지배한다\n",
    "복잡도 함수의 증가율\n",
    "\n",
    "Big  표기법\n",
    "정의 : 점근적 상한 (Asymptotic Upper Bound)\n",
    "\n",
    "분석된 복잡도함수 g(n)이 어떤 함수  f(n)에 대해서 \n",
    "g(n)(f(n)) \n",
    "n  N인 모든 정수 n에 대해서 g(n)  c  f(n)이 성립하는 \t\t실수 c  0와 음이 아닌 정수 N이 존재한다.\n",
    "g(n)   (f(n)) 읽는 방법:\n",
    "g(n)의 점근적 상한은  f(n)이다.\n",
    "Asymptotic upper bound of g(n) is f(n).\n",
    "의미:\n",
    "입력 크기 n에 대해서 이 알고리즘의 수행시간은 \n",
    "     궁극적으로  f(n)보다 나쁘지는 않다.\n",
    "\n",
    "\n",
    "\n",
    "어떤 함수 g(n)이(n2)에 속한다는 말은\n",
    "함수g(n)은 궁극에 가서는 (즉, 어떤 N값 이후부터는) \n",
    "   어떤 2차 함수 cn2 보다는 작은 값을 가지게 된다는 것을 뜻한다.   \n",
    "   (그래프 상에서는 아래에 위치)\n",
    "n2+10n  (n2) ?\n",
    "(1) n  10인 모든 정수 n에 대해서 n2+10n   2n2 이 성립한다.               그러므로 c = 2와 N = 10을 선택하면, “Big  ”의 정의에 의해서 n2+10n  (n2)이라고 결론지을 수 있다.\n",
    "(2) n  1인 모든 정수 n에 대해서 n2+10n   n2+10n2 = 11n2  이 성립한다. 그러므로 c = 11와 N = 1을 선택하면, “큰  ”의 정의에 의해서 n2+10n  (n2)이라고 결론지을 수 있다.\n",
    "\n",
    "\n",
    "5n2  (n2) ?\n",
    "c=5와 N=0을 선택하면, n  0인 모든 정수 n에 대해서 5n2  5n2이 \n",
    "성립한다.\n",
    "\n",
    "T(n) = n(n-1) / 2 ?\n",
    "\n",
    "n  0인 모든 정수 n에 대해서 n(n-1)/2  n2/2이 성립한다. 그러므로\n",
    "c = ½과 N=0을 선택하면, T(n) (n2)이라고 결론지을 수 있다.\n",
    "\n",
    "n2  (n2+10n) ?\n",
    "n  0인 모든 정수 n에 대해서, n2  1 (n2+10n)이 성립한다. 그러므로,\n",
    "c=1와 N=0을 선택하면, n2  (n2+10n)이라고 결론지을 수 있다.\n",
    "\n",
    "n  (n2) ?\n",
    "n  1인 모든 정수 n에 대해서, n  1n2 이 성립한다.\n",
    "그러므로, c=1와 N=1을 선택하면, n (n2)이라고 결론지을 수 있다.\n",
    "\n",
    "n3  (n2) ?\n",
    "n  N인 모든 n에 대해서 n3  cn2 이 성립하는 c와 N값은 \n",
    "존재하지 않는다. 즉, 양변을 n2으로 나누면, n  c 가 되는데,\n",
    "c를 아무리 크게 잡더라도 그 보다 더 큰 n이 존재한다.\n",
    "(성립하지 않음)\n",
    "\n",
    "\n",
    " 표기법\n",
    "정의 : 점근적 하한 (Asymptotic Lower Bound)\n",
    "\n",
    "    분석된 복잡도함수 g(n)이 어떤 함수  f(n)에 대해서 \n",
    "    g(n)  (f(n)) \n",
    "n  N인 모든 정수 n에 대해서 g(n)  c  f(n)이 성립하는 \n",
    "\t실수 c  0와 음이 아닌 정수 N이 존재한다.\n",
    "g(n)  (f(n)) 읽는 방법: \n",
    "g(n)의 점근적 하한은  f(n)이다.\n",
    "Asymptotic lower bound of g(n) is f(n).\n",
    "의미:\n",
    "입력 크기 n에 대해서 이 알고리즘의 수행시간은 \n",
    "     궁극적으로  f(n)보다 효율적이지는 못하다.\n",
    "\n",
    "\n",
    " 표기법 : 예\n",
    "어떤 함수 g(n)이 (n2)에 속한다는 말은\n",
    "그 함수는 궁극에 가서는 (즉 어떤 N 값 이후부터는) \n",
    "   어떤 2차 함수cn2 의 값보다는 큰 값을 가지게 된다는 것을 뜻한다 \t         (그래프 상에서는 위에 위치).\n",
    "n2 + 10n   (n2) ?\n",
    "n  0인 모든 정수 n에 대해서 n2+10n  n2 이 성립한다. \t\n",
    "그러므로 c = 1와 N = 0을 선택하면, n2 +10n  (n2)이라고 \n",
    "결론지을 수 있다.\n",
    "\n",
    "5n2   (n2) ?\n",
    "n  0인 모든 정수 n에 대해서, 5n2  1n2 이 성립한다. \n",
    "그러므로, c=1와 N=0을 선택하면, 5n2  (n2)이라고 \n",
    "결론지을 수 있다.\n",
    " 표기법 : 예 (계속)\n",
    " T(n) = n(n-1)/2 ?\n",
    "\n",
    "n  2인 모든 n에 대해서 n-1   n/2이 성립한다. 그러므로,\n",
    "n  2인 모든 n에 대해서  n(n-1)/2   n/2× n/2 = ¼ n2 이 성립한다.\n",
    "따라서 c = ¼ 과 N = 2를 선택하면,  T(n)   (n2) 이라고\n",
    "결론지을 수 있다.\n",
    "\n",
    "n3   (n2) ?\n",
    "\n",
    "n  1인 모든 정수 n에 대해서, n3   1× n2 이 성립한다.\n",
    "그러므로, c = 1와 N = 1을 선택하면, n3   (n2) 이라고 \n",
    "결론지을 수 있다. \n",
    " 표기법 : 예 (계속)\n",
    "n   (n2) ?    모순유도에 의한 증명(Proof by contradiction)\n",
    "               \n",
    "n    (n2) 이라고 가정. \n",
    "\n",
    "그러면 n  N인 모든 정수 n에 대해서, n  c × n2 이 성립하는           \n",
    "\n",
    "실수 c > 0, 그리고 음이 아닌 정수 N이 존재한다. \n",
    "\n",
    "위의 부등식의 양변을 cn으로 나누면   1/c   n 이 된다. \n",
    "\n",
    "그러나 이 부등식은 절대로 성립할 수 없다. \n",
    "따라서 위의 가정은 모순이다.\n",
    "\n",
    " 표기법\n",
    "정의 : Asymptotic Tight Bound\n",
    "\n",
    " 분석된 복잡도함수 g(n)이 어떤 함수  f(n)에 대해서 \n",
    "    (f(n)) = O(f(n))  (f(n))\n",
    "\n",
    " n  N 인 모든 정수 n 에 대해서 c  f(n)  g(n)  d  f(n)이\n",
    "\t 성립하는 실수 c  0와 d  0, 그리고 음이 아닌 정수 N이 존재한다. \n",
    "\n",
    "g(n)  (f(n)) 읽는 방법: \n",
    "g(n)의 차수(order=asymptotic tight bound)는 f(n)이다.\n",
    "Asymptotic tight bound of g(n) is f(n).\n",
    "\n",
    "예 : T(n) = n (n-1) /2은  O(n2) 이면서  (n2) 이다.\n",
    "            따라서 T(n) = (n2) \n",
    "\n",
    "\n",
    "작은(Small)  표기법\n",
    "정의 : 작은 \n",
    "\n",
    "    분석된 복잡도 함수 g(n)이 어떤 함수  f(n)에 대해서 \n",
    "    g(n) ∈  (f(n)) \n",
    "어떤 N값 이후부터는 모든 실수 c > 0에 대해서 g(n)   c  f(n)\n",
    "\n",
    "참고: g(n)   (f(n))은 “g(n)은 f(n)의 작은 오()”라고 한다. \n",
    "큰   vs 작은  \n",
    "큰 와의 차이점\n",
    "큰  : 실수 c >0 중에서 하나만 성립하여도 됨\n",
    "작은  : 모든 실수 c >0에 대해서 성립하여야 함\n",
    "\n",
    "g(n)   (f(n))은 쉽게 설명하자면\n",
    "\n",
    "\t g(n)이 궁극적으로 f(n)보다 “훨씬” 낫다(좋다)는 의미이다. \n",
    "작은  표기법 : 예\n",
    "n  o(n2) ?\n",
    "\n",
    "증명:\n",
    " c > 0이라고 하자.  n > N인 모든 n에 대해서 n < c n2이 성립하는      \n",
    " \n",
    " N을 찾아야 한다. 이 부등식의 양변을 c n으로 나누면 1/c  n을 얻는다. \n",
    "\n",
    " 따라서  N   1/c 가 되는 어떤 N을 찾으면 된다. \n",
    "\n",
    " 여기서 N의 값은 c에 의해 좌우된다. \n",
    "\n",
    "\n",
    " 예를 들어 만약 c=0.0001이라고 하면, N의 값은 최소한 10,000이 되어야\n",
    "\n",
    " 한다. 즉 n > 10,000인 모든 n에 대해서 n < 0.0001 n2이 성립한다. \n",
    "작은  표기법 : 예 (계속)\n",
    "n이 o(5n) ?\n",
    "\n",
    "모순 유도에 의한 증명:  c = 1/6이라고 하자.\n",
    "\n",
    "n   (5n) 이라고 가정하면, n > N인 모든 정수 n에 대해서,   \n",
    "\n",
    "n < 1/6  5n < 5/6 n이 성립하는 음이 아닌 정수 N이 존재해야 한다. \n",
    "\n",
    "그러나 그런 N은 절대로 있을 수 없다. \n",
    "\n",
    "따라서 위의 가정은 모순이다.\n",
    "극한(limit)를 이용하여 차수를 구하는 방법\n",
    "정의 :\n",
    "\t\n",
    "\n",
    "\n",
    "예 : 다음이 성립함을 보이시오.\n",
    "\n",
    " \n",
    "\n",
    "b>a>0일 때, an  o(bn) \n",
    "\t                                      \n",
    "왜냐하면, \n",
    "\n",
    "                                                         \n",
    "\n",
    "정리 : 로피탈(L’Hopital)의 법칙\n",
    "\n",
    "\n",
    "\n",
    "\n",
    "예 : 다음이 성립함을 보이시오.\n",
    "차수의 주요 성질  I\n",
    "1. g(n)  (f(n)) iff  f(n)   (g(n)) \n",
    "\n",
    "2. g(n)   (f(n)) iff  f(n)   (g(n)) \n",
    "\n",
    "3. b > 1이고 a > 1이면, loga n  (logb n)은 항상 성립. \n",
    "\n",
    "\t다시 말하면 로그(logarithm) 복잡도 함수는 모두 같은          카테고리에 속한다. 따라서 통상 (lg n)으로 표시한다.\n",
    "\n",
    "4. b > a > 0이면, an  o(bn). 다시 말하면, 지수(exponential)    복잡도 함수가 모두 같은 카테고리 안에 있는 것은 아니다."
   ]
  },
  {
   "cell_type": "code",
   "execution_count": null,
   "metadata": {},
   "outputs": [],
   "source": []
  },
  {
   "cell_type": "code",
   "execution_count": null,
   "metadata": {},
   "outputs": [],
   "source": []
  },
  {
   "cell_type": "code",
   "execution_count": null,
   "metadata": {},
   "outputs": [],
   "source": []
  },
  {
   "cell_type": "code",
   "execution_count": null,
   "metadata": {},
   "outputs": [],
   "source": []
  }
 ],
 "metadata": {
  "celltoolbar": "Slideshow",
  "kernelspec": {
   "display_name": "Python 3",
   "language": "python",
   "name": "python3"
  },
  "language_info": {
   "codemirror_mode": {
    "name": "ipython",
    "version": 3
   },
   "file_extension": ".py",
   "mimetype": "text/x-python",
   "name": "python",
   "nbconvert_exporter": "python",
   "pygments_lexer": "ipython3",
   "version": "3.7.6"
  }
 },
 "nbformat": 4,
 "nbformat_minor": 4
}
