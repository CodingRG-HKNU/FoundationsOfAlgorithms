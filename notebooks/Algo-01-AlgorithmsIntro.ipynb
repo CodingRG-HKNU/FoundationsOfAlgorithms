{
 "cells": [
  {
   "cell_type": "markdown",
   "metadata": {
    "slideshow": {
     "slide_type": "slide"
    }
   },
   "source": [
    "# 1장 알고리즘: 효율, 분석, 차수"
   ]
  },
  {
   "cell_type": "markdown",
   "metadata": {
    "slideshow": {
     "slide_type": "slide"
    }
   },
   "source": [
    "## 주요 내용\n",
    "\n",
    "1. Algorithms\n",
    "1. The Importance of Developing Efficient Algorithms\n",
    "1. Analysis of Algorithms\n",
    "1. Order"
   ]
  },
  {
   "cell_type": "markdown",
   "metadata": {
    "slideshow": {
     "slide_type": "slide"
    }
   },
   "source": [
    "## Overview\n",
    "\n",
    "* What is an algorithm ?\n",
    "    * Techniques for solving problems using a computer\n",
    "        * Technique – not a programming style or a programming language,\n",
    "            but the approach or methodology used to solve a problem\n",
    "    * Applying a technique to a problem results \n",
    "        in a step-by-step procedure\n",
    "* Important characteristics - efficiency, analysis, and order\n",
    "\n",
    "* 프로그램 설계 과정\n",
    "\n",
    "<img src=\"images/algo01-01.png\" width=\"400\"/>"
   ]
  },
  {
   "cell_type": "markdown",
   "metadata": {
    "slideshow": {
     "slide_type": "slide"
    }
   },
   "source": [
    "## Overview\n",
    "\n",
    "* Algorithm\n",
    "    * An algorithm is a step-by-step procedure to solve a problem\n",
    "    * But making sure the developer is using the most efficient\n",
    "        algorithm is very crucial no matter how fast computers\n",
    "        become or how cheap memory gets\n",
    "    * How efficiently an algorithm solves a problem?\n",
    "        => Need to analyze the algorithm\n",
    "\n",
    "* Analysis => Computational Complexity (Order)\n",
    "    * How efficiently an algorithm solves a problem \n",
    "    * Order helps group algorithms according to their eventual behavior\n",
    "    * Time/storage complexity\n",
    "        * Time – how many times some operation(s) are performed\n",
    "        * Storage – how much of memories are needed "
   ]
  },
  {
   "cell_type": "markdown",
   "metadata": {
    "slideshow": {
     "slide_type": "slide"
    }
   },
   "source": [
    "## 강의 내용\n",
    "\n",
    "* 2장 Divide-and-Conquer (분할정복법)\n",
    "    * Binary Search\n",
    "    1. Mergesort\n",
    "    1. The Divide-and-Conquer Approach\n",
    "    1. Quicksort (Partition Exchange Sort)\n",
    "    1. Strassen’s Matrix Multiplication Algorithm\n",
    "    1. When Not to Use Divide-and-Conquer\n",
    "\n",
    "\n",
    "* 3장 Dynamic programming (동적계획법)\n",
    "    * The Binomial Coefficient\n",
    "    1. Ch4.4 The Knapsack Problem\n",
    "    1. Chained Matrix Multiplication\n",
    "    1. Dynamic Programming & Optimization Problems\n",
    "    1. Floyd’s Algorithm for Shortest Paths\n",
    "    1. Optimal Binary Search Trees\n",
    "    1. The Traveling Salesperson Problem"
   ]
  },
  {
   "cell_type": "markdown",
   "metadata": {
    "slideshow": {
     "slide_type": "slide"
    }
   },
   "source": [
    "## 강의 내용\n",
    "\n",
    "* 4장 Greedy Approach (탐욕적 방법)\n",
    "    * Minimum Spanning Trees\n",
    "    1. Dijkstra’s Algorithm for Single-Source Shortest Paths\n",
    "    1. Scheduling\n",
    "\n",
    "\n",
    "* 5장 Backtracking (되추적)\n",
    "    * The Backtracking Technique\n",
    "    1. The n-Queens Problems\n",
    "    1. Graph Coloring\n",
    "    1. The Hamiltonian Circuits Problem\n",
    "    1. The Sum-of-Subsets Problem\n",
    "    1. The 0-1 Knapsack Problem\n",
    "    1. Using a Monte Carlo Algorithm"
   ]
  },
  {
   "cell_type": "markdown",
   "metadata": {
    "slideshow": {
     "slide_type": "slide"
    }
   },
   "source": [
    "## 강의 내용\n",
    "\n",
    "* 6장 Branch-and-Bound (분기한정법)\n",
    "    * Illustrating Branch-and-Bound with the 0-1 Knapsack Problem\n",
    "    * The Traveling Salesperson Problem\n",
    "\n",
    "\n",
    "* 7장 The sorting problem \n",
    "    * Heapsort\n",
    "    * Sorting by Distribution (Radix Sort)"
   ]
  },
  {
   "cell_type": "markdown",
   "metadata": {
    "slideshow": {
     "slide_type": "slide"
    }
   },
   "source": [
    "## 강의 내용\n",
    "\n",
    "* 8장 The searching problem\n",
    "    * Lower Bounds for Searching by Comparisons of Keys\n",
    "    * Interpolation Search\n",
    "    * Hashing\n",
    "\n",
    "* 9장 The theory of P/NP \n",
    "    * The Three General Categories of Problems\n",
    "    * The Theory of NP\n",
    "    * Handling NP-Hard Problems"
   ]
  },
  {
   "cell_type": "markdown",
   "metadata": {
    "slideshow": {
     "slide_type": "slide"
    }
   },
   "source": [
    "## 알고리즘의 예\n",
    "\n",
    "* 문제: 전화번호부에서 '홍길동'의 전화번호 찾기\n",
    "\n",
    "* 알고리즘\n",
    "    * Sequential Search (순차검색)\n",
    "    * 첫 쪽부터 '홍길동'이라는 이름이 나올 때까지 순서대로 찾는다.\n",
    "\n",
    "* Modified Binary Search (수정된 이분검색)\n",
    "    * 전화번호부는 '가나다'순으로 되어있으므로\n",
    "        먼저 'ㅎ'이 있을 만한 곳으로 넘겨본 후\n",
    "        앞뒤로 뒤적여가며 찾는다.\n",
    "\n",
    "* 분석: 어떤 알고리즘이 더 좋은가?"
   ]
  },
  {
   "cell_type": "markdown",
   "metadata": {
    "slideshow": {
     "slide_type": "slide"
    }
   },
   "source": [
    "## 알고리즘의 표기\n",
    "\n",
    "* 자연어: 한글 또는 영어\n",
    "    * Drawback 1 : difficult to write a complex problem\n",
    "    * Drawback 2 : difficult to understand the algorithm\n",
    "    * Drawback 3 : not clear how to create a computer language\n",
    "\n",
    "* 프로그래밍언어: C, C++, Java 등\n",
    "\n",
    "* 의사코드 (Pseudo-code)\n",
    "    * 직접 실행할 수 있는 프로그래밍언어는 아니지만,\n",
    "        거의 실제 프로그램에 가깝게 계산과정을 표현할 수 있는 언어\n",
    "\n",
    "* 알고리즘은 보통 의사코드로 표현한다.\n",
    "* 이 강의/교재에서는 C++에 가까운 의사코드를 사용한다."
   ]
  },
  {
   "cell_type": "markdown",
   "metadata": {
    "slideshow": {
     "slide_type": "slide"
    }
   },
   "source": [
    "## 의사코드 유의사항(1)\n",
    "\n",
    "* 배열 인덱스의 범위에 제한 없음\n",
    "    * C++는 반드시 0부터 시작\n",
    "    * 의사코드는 임의의 값 사용 가능\n",
    "\n",
    "* 프로시저의 파라미터에 2차원 배열 크기의 가변성 허용\n",
    "    * 예: void pname(A[][]) { … }\n",
    "\n",
    "* 지역배열에 변수 인덱스 허용\n",
    "    * 예: keytype S[low..high];"
   ]
  },
  {
   "cell_type": "markdown",
   "metadata": {
    "slideshow": {
     "slide_type": "slide"
    }
   },
   "source": [
    "## 의사코드 유의사항(2)\n",
    "\n",
    "* 수학적 표현식 허용 \n",
    "    * low <= x && x <= high     =>   low $\\le$ x $\\le$ high\n",
    "    * temp = x; x = y; y = temp =>   exchange x and y\n",
    "\n",
    "* C++에 없는 타입 사용 가능\n",
    "    * index: \t첨자로 사용되는 정수 변수\n",
    "    * number: \t정수(int) 또는 실수(float) 모두 사용 가능"
   ]
  },
  {
   "cell_type": "markdown",
   "metadata": {
    "slideshow": {
     "slide_type": "slide"
    }
   },
   "source": [
    "## 의사코드 유의사항(3)\n",
    "\n",
    "* 제어 구조\n",
    "    * repeat (n times) { … }\n",
    "\n",
    "* 프로시저와 함수\n",
    "    * 프로시저: void pname(…) {…}\n",
    "    * 함수: returntype fname (…) {… return x;}\n",
    "\n",
    "* 참조 파라미터(reference parameter)를 사용하여 프로시저의 결과값 전달\n",
    "    * 배열: 참조 파라미터로 전달\n",
    "    * 기타: 데이터타입 이름 뒤에 &를 붙임\n",
    "    * const 배열: 전달되는 배열의 값이 불변"
   ]
  },
  {
   "cell_type": "markdown",
   "metadata": {
    "slideshow": {
     "slide_type": "slide"
    }
   },
   "source": [
    "## Basic Structure\n",
    "\n",
    "* Definition part\n",
    "    * Problem, Input, Output에 관한 설명 기술: \n",
    "\n",
    "* Procedure part\n",
    "\n",
    "```\n",
    "ReturnType procedureName(parameters) {\n",
    "                \n",
    "             Body;\n",
    " \n",
    "    }\n",
    "```\n",
    "\n",
    "* See Algorithm 1.1, 1.2, 1.3, 1.4"
   ]
  },
  {
   "cell_type": "markdown",
   "metadata": {
    "slideshow": {
     "slide_type": "slide"
    }
   },
   "source": [
    "## Sequential Search (순차검색)\n",
    "\n",
    "* 문제: 크기가 n인 배열 S에 x가 있는가?\n",
    "    * 입력 (파라미터): (1) 양수 n, (2) 배열 S[1..n], (3) 키 x\n",
    "    * 출력: x가 S의 어디에 있는지의 위치. 만약 없으면 0.\n",
    "\n",
    "* 알고리즘 (자연어): \n",
    "    * x와 같은 아이템을 찾을 때까지 S에 있는 모든 아이템을 차례로 검사한다. \n",
    "    * 만일 x와 같은 아이템을 찾으면 S 안의 위치 값을 전달하고\n",
    "        S를 모두 검사하고도 찾지 못하면 0을 전달한다."
   ]
  },
  {
   "cell_type": "markdown",
   "metadata": {
    "slideshow": {
     "slide_type": "slide"
    }
   },
   "source": [
    "## Sequential Search Algorithm\n",
    "\n",
    "```\n",
    "void seqsearch(int n,               // 입력(1)\n",
    "                const keytype S[]   //    (2)\n",
    "                keytype x,          //    (3)\n",
    "                index& location) {   // 출력\n",
    "    location = 1;\n",
    "    while (location <= n && S[location] != x)\n",
    "        location++;\n",
    "    if (location > n)\n",
    "        location = 0;\n",
    "    }\n",
    "```\n",
    "\n",
    "* while-루프: 아직 검사할 항목이 있고, x를 찾지 못했나?\n",
    "* if-문: 모두 검사하였으나, x를 찾지 못했나?"
   ]
  },
  {
   "cell_type": "markdown",
   "metadata": {
    "slideshow": {
     "slide_type": "slide"
    }
   },
   "source": [
    "## 분석\n",
    "\n",
    "* 순차검색 알고리즘으로 키를 찾기 위해서 S에 있는 항목을  몇 개나 검색해야 하는가?\n",
    "    * 키와 같은 항목의 위치에 따라 다름\n",
    "    * 최악의 경우: n\n",
    "\n",
    "* 좀 더 빨리 찾을 수는 없는가?\n",
    "    * S에 있는 항목에 대한 정보가 없는 한 더 빨리 찾을 수 없다."
   ]
  },
  {
   "cell_type": "markdown",
   "metadata": {
    "slideshow": {
     "slide_type": "slide"
    }
   },
   "source": [
    "## Binary Search (이분검색)\n",
    "\n",
    "* 문제: 크기가 n인 정렬된 배열 S에 x가 있는가?\n",
    "    * 입력: (1) 양수 n, (2) 배열 S[1..n], (3) 키 x\n",
    "    * 출력: x가 S의 어디에 있는지의 위치. 만약 없으면 0. "
   ]
  },
  {
   "cell_type": "markdown",
   "metadata": {
    "slideshow": {
     "slide_type": "slide"
    }
   },
   "source": [
    "## Binary Search Algorithm\n",
    "\n",
    "```\n",
    "void binsearch(int n,                 // 입력(1)\n",
    "                const keytype S[],    //    (2)\n",
    "                keytype x,            //    (3)\n",
    "                index& location) {    // 출력\n",
    "    index low, high, mid;\n",
    "    low = 1; high = n;\n",
    "    location = 0;\n",
    "    \n",
    "    while (low <= high && location == n0) {\n",
    "        mid = (low + high)/2;          // 정수나눗셈\n",
    "        if (x == S[mid]) high = mid - 1;\n",
    "        else if (x < S[mid]) high = mid -1;\n",
    "        else low = mid + 1;\n",
    "        }\n",
    "    }        \n",
    "```\n",
    "\n",
    "* while-루프: 아직 검사할 항목이 있고, x를 찾지 못했나?"
   ]
  },
  {
   "cell_type": "markdown",
   "metadata": {
    "slideshow": {
     "slide_type": "slide"
    }
   },
   "source": [
    "## 분석\n",
    "\n",
    "* 이분검색 알고리즘으로 키를 찾기 위해서\n",
    "    S에 있는 항목을 몇 개나 검색해야 하는가?\n",
    "    * while 문을 수행할 때마다 검색 대상의 총 크기가\n",
    "        반씩 감소하기 때문에 최악의 경우라도 \n",
    "        lg n + 1개만 검사하면 된다.  (lg = log2)"
   ]
  },
  {
   "cell_type": "markdown",
   "metadata": {
    "slideshow": {
     "slide_type": "slide"
    }
   },
   "source": [
    "## 순차검색 vs 이분검색\n",
    "\n",
    "<img src=\"images/algo01-02.png\" width=\"400\"/>\n",
    "\n",
    "* 응용\n",
    "    * 은행에서 고객에 관한 정보를 효과적으로 저장하고 검색하는 방법은?"
   ]
  },
  {
   "cell_type": "markdown",
   "metadata": {
    "slideshow": {
     "slide_type": "slide"
    }
   },
   "source": [
    "## Fibonacci Sequence\n",
    "\n",
    "* Definition of Fibonacci Sequence\n",
    "\n",
    "```\n",
    "f_0 = 0\n",
    "f_1 = 1\n",
    "f_n = f_{n-1} + f_{n-2}\t\tfor n >= 2\n",
    "```\n",
    "\n",
    "* 예: 0, 1, 1, 2, 3, 5, 8, 13, 21, 34, 55, 89, 144, 233, …"
   ]
  },
  {
   "cell_type": "markdown",
   "metadata": {
    "slideshow": {
     "slide_type": "slide"
    }
   },
   "source": [
    "## 피보나찌 수 구하기 알고리즘 (Recursive)\n",
    "\n",
    "* 문제: Find n-th term of the Fibonacci sequence\n",
    "    * 입력: nonnegative integer n\n",
    "    * 출력: n-th term of the Fibonacci sequence\n",
    "\n",
    "* 알고리즘 :\n",
    "\n",
    "```\n",
    "int fib (int n) {\n",
    "     if (n <= 1)\n",
    "          return n;\n",
    "     else\n",
    "          return fib(n-1) + fib(n-2);\n",
    "    }\n",
    "```\n",
    "\n",
    "\n",
    "\n",
    "\n",
    "\n",
    "\n",
    "* How does a computer to execute a recursive program?"
   ]
  },
  {
   "cell_type": "markdown",
   "metadata": {
    "slideshow": {
     "slide_type": "slide"
    }
   },
   "source": [
    "## 분석\n",
    "\n",
    "* 피보나찌 수 구하기 재귀 알고리즘\n",
    "    * Easy to create and understandable, but extremely inefficient\n",
    "\n",
    "    * 이유: values are computed over and over again\n",
    "\n",
    "    * 예: fib(2) is computed  3 times to compute fib(5) \n",
    "        * fib(5) = fib(4) + fib(3)\n",
    "        * fib(4) = fib(3) + fib(2); fib(3) = fib(2) + fib(1)\n",
    "        * fib(3) = fib(2) + fib(1);"
   ]
  },
  {
   "cell_type": "markdown",
   "metadata": {
    "slideshow": {
     "slide_type": "slide"
    }
   },
   "source": [
    "## fib(5)의 재귀 트리\n",
    "\n",
    "<img src=\"images/algo01-03.png\" width=\"400\"/>"
   ]
  },
  {
   "cell_type": "markdown",
   "metadata": {
    "slideshow": {
     "slide_type": "slide"
    }
   },
   "source": [
    "## fib(n)의 함수 호출 횟수 계산\n",
    "\n",
    "* T(n) = fib(n)을 계산하기 위하여 fib 함수를 호출하는 횟수\n",
    "    즉, 재귀 트리 상의 마디(node)의 개수\n",
    "\n",
    "```\n",
    "T(0) = 1\n",
    "T(1) = 1\n",
    "T(n) = T(n - 1) + T(n - 2) +1\t\tfor n >= 2\n",
    "        > 2 \\times T(n - 2) \t    왜냐하면 T(n - 1) > T(n - 2)\n",
    "        > 2^2 \\times T(n - 4)\n",
    "        > 2^3 \\times T(n - 6)\n",
    "          \\dots\n",
    "        > 2^{n/2} \\times T(0)\n",
    "        = 2^{n/2}\n",
    "```"
   ]
  },
  {
   "cell_type": "markdown",
   "metadata": {
    "slideshow": {
     "slide_type": "slide"
    }
   },
   "source": [
    "## 계산한 호출 횟수의 검증\n",
    "\n",
    "* 정리: 재귀적 알고리즘으로 구성한 재귀 트리의 마디의 수를\n",
    "    $T(n)$이라고 하면, $n \\ge 2$인 모든 $n$에 대하여 \n",
    "    $T(n) > 2^{n/2}$이다.\n",
    "    \n",
    "* 증명: ($n$에 대한 수학적 귀납법으로 증명)\n",
    "\n",
    "    * 귀납출발점: \n",
    "        * $T(2) = T(1) + T(0) + 1 = 3 > 2 = 2^{2/2}$\n",
    "        * $T(3) = T(2) + T(1) + 1 = 5 > 2.83 \\approx 2^{3/2}$\n",
    "    * 귀납가정: $2 \\le m < n$인 모든 $m$ 에 대해서 $T(m) > 2^{m/2}$이라 가정\n",
    "    * 귀납절차: $T(n) > 2^{n/2}$임을 보이면 된다.\n",
    "\n",
    "```\n",
    "    T(n) = T(n - 1) + T(n - 2) + 1\n",
    "\t        > 2^{(n - 1)/2} + 2^{(n - 2)/2} + 1     [귀납가정에 의하여]\n",
    "\t        > 2^{(n - 2)/2} + 2^(n - 2)/2}\n",
    "\t        = 2 \\times 2^{(n / 2)-1}\n",
    "\t        = 2^{n/2}\n",
    "```"
   ]
  },
  {
   "cell_type": "markdown",
   "metadata": {
    "slideshow": {
     "slide_type": "slide"
    }
   },
   "source": [
    "## 피보나찌 수 구하기 알고리즘 (Iterative)\n",
    "\n",
    "```\n",
    "int fib2 (int n) {\n",
    "    index i;\n",
    "    int f[0..n];\n",
    "\n",
    "    f[0] = 0;\n",
    "    if (n > 0) {\n",
    "         f[1] = 1;\n",
    "         for (i = 2; i <= n; i++)\n",
    "           f[i] = f[i-1] + f[i-2];\n",
    "    }\n",
    "    return f[n];\n",
    "}\n",
    "```"
   ]
  },
  {
   "cell_type": "markdown",
   "metadata": {
    "slideshow": {
     "slide_type": "slide"
    }
   },
   "source": [
    "## 분석\n",
    "\n",
    "* 반복 알고리즘은 수행속도가 훨씬 더 빠르다.\n",
    "    * 이유: 중복 계산이 없음\n",
    "\n",
    "* 계산하는 항의 총 개수\n",
    "    * $T(n) = n + 1$\n",
    "    * 즉, f[0]부터 f[n]까지 한번씩만 계산"
   ]
  },
  {
   "cell_type": "markdown",
   "metadata": {
    "slideshow": {
     "slide_type": "slide"
    }
   },
   "source": [
    "## 두 피보나찌 알고리즘의 비교\n",
    "\n",
    "<img src=\"images/algo01-04.png\" width=\"400\"/>\n",
    "\n",
    "* 1 ns = $10^{-9}$ 초\n",
    "* 1 $\\mu$s = $10^{-6}$ 초\n",
    "* 1 term can be computed in 1 ns."
   ]
  },
  {
   "cell_type": "markdown",
   "metadata": {
    "slideshow": {
     "slide_type": "slide"
    }
   },
   "source": [
    "## Analysis of Algorithms\n",
    "\n",
    "* 시간복잡도(Time Complexity) 분석\n",
    "    * Analyze the algorithm’s efficiency by determining \n",
    "        the number of times some basic operation is done\n",
    "        as a function of the size of the input.\n",
    "\n",
    "* 표현 척도\n",
    "    * Input size (입력크기)\n",
    "        * 배열의 크기, 리스트의 길이, 행렬에서 행과 열의 크기,\n",
    "            트리에서 마디와 이음선의 수, 그래프에서는 정점과 간선의 수\n",
    "\n",
    "    * Basic operation (단위연산)\n",
    "        * 비교 (comparison), 지정 (assignment)"
   ]
  },
  {
   "cell_type": "markdown",
   "metadata": {
    "slideshow": {
     "slide_type": "slide"
    }
   },
   "source": [
    "## 분석 방법의 종류\n",
    "\n",
    "* Worst-case time complexity analysis (최악의 경우 분석)\n",
    "    * W(n) – the maximum number of times the algorithm will ever do \n",
    "        its basic operation for an input size of n.\n",
    "    * 입력크기와 입력 값 모두에 종속\n",
    "    * 단위연산이 <span style=\"color:red\">수행되는 횟수가 최대인 경우</span>\n",
    "    * (Ex) Sequential search\n",
    "\n",
    "* <span style=\"color:blue\">Best-case time complexity analysis (최선의 경우 분석)</span>\n",
    "    * B(n) – the minimum number of times the algorithm will ever do \n",
    "        its basic operation for an input size of n.\n",
    "    * 입력크기와 입력 값 모두에 종속\n",
    "    * 단위연산이 수행되는 횟수가 최소인 경우\n",
    "    * (Ex) Sequential search"
   ]
  },
  {
   "cell_type": "markdown",
   "metadata": {
    "slideshow": {
     "slide_type": "slide"
    }
   },
   "source": [
    "## 분석 방법의 종류\n",
    "\n",
    "* Every-case time complexity analysis (모든 경우 분석)\n",
    "    * T(n) – the number of times the algorithm does the basic operation \n",
    "        for an instance of size n\n",
    "    * 입력크기에만 종속\n",
    "    * 입력과는 무관하게 수행횟수 항상 일정\n",
    "    * (Ex) Add array members, Exchange sort, Matrix multiplication\n",
    "\n",
    "* Average-case time complexity analysis (평균의 경우 분석)\n",
    "    * A(n) - the average number of times the algorithm does \n",
    "        the basic operation for an input size of n\n",
    "    * 입력크기와 입력 값 모두에 종속\n",
    "    * 모든 입력에 대해서 단위연산이 수행되는 기대치(평균)\n",
    "    * 각 입력에 대해서 확률 할당 가능\n",
    "    * 일반적으로 최악의 경우보다 계산이 복잡\n",
    "    * (Ex) Sequential search"
   ]
  },
  {
   "cell_type": "markdown",
   "metadata": {
    "slideshow": {
     "slide_type": "slide"
    }
   },
   "source": [
    "## 알고리즘: 순차검색 시간복잡도 분석 (최악)\n",
    "\n",
    "* 단위연산: 배열의 아이템과 키 x와 비교연산\n",
    "    (S[location] != x)\n",
    "\n",
    "* 입력크기: 배열 안에 있는 아이템의 수 n\n",
    "\n",
    "* 최악의 경우 분석:\n",
    "    * x가 배열의 마지막 아이템이거나, x가 배열에 없는 경우,\n",
    "        단위연산이 n번 수행된다.\n",
    "    * 따라서, $W(n) = n$.\n",
    "* 순차검색 알고리즘의 경우, 입력(배열 S와 키x)에 따라서 검색하는 횟수가 달라지므로,\n",
    "    Every-case 복잡도 분석은 불가능."
   ]
  },
  {
   "cell_type": "markdown",
   "metadata": {
    "slideshow": {
     "slide_type": "slide"
    }
   },
   "source": [
    "## 알고리즘: 순차검색 시간복잡도 분석 (최선)\n",
    "\n",
    "* 단위연산: 배열의 아이템과 키 x와 비교 연산 (S[location] != x)\n",
    "\n",
    "* 입력크기: 배열 안에 있는 아이템의 수 n\n",
    "\n",
    "* 최선의 경우 분석:\n",
    "    * x가 S[1]일 때, 입력의 크기에 상관없이 단위연산이 1번만 수행된다.\n",
    "    * 따라서, $B(n)=1$."
   ]
  },
  {
   "cell_type": "markdown",
   "metadata": {
    "slideshow": {
     "slide_type": "slide"
    }
   },
   "source": [
    "## 알고리즘: 배열 덧셈\n",
    "\n",
    "* 문제: 크기가 n인 배열 S의 모든 수를 더하라\n",
    "    * 입력: 양수 n, 배열 S[1..n]\n",
    "    * 출력: 배열 S에 있는 모든 수의 합\n",
    "\n",
    "* 알고리즘:\n",
    "\n",
    "```\n",
    "number sum (int n, const number S[]) {\n",
    "    index i;\n",
    "    number result;\n",
    "\n",
    "    result = 0;\n",
    "    for (i = 1; i <= n; i++) \n",
    "         result = result + S[i];\n",
    "    return result;\n",
    "}\n",
    "```"
   ]
  },
  {
   "cell_type": "markdown",
   "metadata": {
    "slideshow": {
     "slide_type": "slide"
    }
   },
   "source": [
    "## 배열 덧셈 알고리즘의 시간복잡도 분석\n",
    "\n",
    "* 단위연산: 덧셈\n",
    "\n",
    "* 입력크기: 배열의 크기 n\n",
    "\n",
    "* 모든 경우 분석:\n",
    "    * 배열 내용에 상관없이 for-루프가 n번 반복된다.\n",
    "    * 각 루프마다 덧셈이 1회 수행된다.\n",
    "    * 따라서 n에 대해서 덧셈이 수행되는 총 횟수는 T(n) = n이다."
   ]
  },
  {
   "cell_type": "markdown",
   "metadata": {
    "slideshow": {
     "slide_type": "slide"
    }
   },
   "source": [
    "## 알고리즘: 교환정렬\n",
    "\n",
    "* 문제: 비내림차순(오름차순)으로 n개의 키를 정렬\n",
    "    * 입력: 양수 n, 배열 S[1..n]\n",
    "    * 출력: 비내림차순으로 정렬된 배열\n",
    "\n",
    "* 알고리즘:\n",
    "\n",
    "```\n",
    "void exchangesort (int n, keytype S[]) {\n",
    "    index i, j;\n",
    "\n",
    "    for (i = 1; i <= n-1; i++) \n",
    "        for (j = i+1; j <= n; j++) \n",
    "             if (S[j] < S[i])\n",
    "                    exchange S[i] and S[j];\n",
    "}\n",
    "```"
   ]
  },
  {
   "cell_type": "markdown",
   "metadata": {
    "slideshow": {
     "slide_type": "slide"
    }
   },
   "source": [
    "## 알고리즘: 교환정렬 시간복잡도 분석 I\n",
    "\n",
    "* 단위연산: 조건문 (S[j]와 S[i]의 비교)\n",
    "\n",
    "* 입력크기: 정렬할 항목의 수 n\n",
    "\n",
    "* 모든 경우 분석:\n",
    "    * j-루프가 수행될 때마다 조건문 1번씩 수행\n",
    "    * 조건문의 총 수행횟수\n",
    "        * i = 1:     j-루프 n-1 번 수행 \n",
    "        * i = 2:     j-루프 n-2 번 수행\n",
    "        * i = 3:     j-루프 n-3 번 수행\n",
    "        * ...\n",
    "        * i = n-1: j-루프     1 번 수행\n",
    "        * 따라서\n",
    "            $$T(n) = (n-1) + (n-2) + \\cdots + 1 = \\frac{(n-1)n}{2}$$"
   ]
  },
  {
   "cell_type": "markdown",
   "metadata": {
    "slideshow": {
     "slide_type": "slide"
    }
   },
   "source": [
    "## 알고리즘: 교환정렬 시간복잡도 분석 II\n",
    "\n",
    "* 단위연산: 교환하는 연산 (exchange S[j] and S[i])\n",
    "\n",
    "* 입력크기: 정렬할 항목의 수 n\n",
    "\n",
    "* 최악의 경우 분석:\n",
    "    * 조건문의 결과에 따라서 교환 연산의 수행여부가 결정된다.\n",
    "    * 최악의 경우 = 조건문이 항상 참(true)이 되는 경우\n",
    "        = 입력 배열이 꺼꾸로 정렬되어 있는 경우\n",
    "        \n",
    "        $$T(n) = \\frac{(n-1)n}{2}$$"
   ]
  },
  {
   "cell_type": "markdown",
   "metadata": {
    "slideshow": {
     "slide_type": "slide"
    }
   },
   "source": [
    "## 알고리즘: 순차검색 시간복잡도 분석 (평균)\n",
    "\n",
    "* 단위연산: 배열의 아이템과 키 x와 비교 연산 (S[location] != x)\n",
    "\n",
    "* 입력크기: 배열 안에 있는 아이템의 수 n\n",
    "\n",
    "* 평균의 경우 분석:\n",
    "    * 배열의 아이템이 모두 다르다고 가정한다.\n",
    "    * 경우 1: x가 배열 S안에 있는 경우만 고려\n",
    "    * $1\\le k \\le n$에 대해서 x가 배열의 k 번째 있을 확률 = 1/n\n",
    "    * x가 배열의 k 번째 있다면, \t\t\t\t\t \n",
    "       S를 찾기 위해서 수행하는 단위연산의 횟수 =k\n",
    "    * 따라서,\n",
    "    \n",
    "    $$A(n) = \\sum_{k=1}^{n} k \\times \\frac{1}{n}\n",
    "    = \\frac{1}{n} \\times \\sum_{k=1}^{n} k\n",
    "    = \\frac{1}{n} \\times \\frac{n(n+1)}{2} \n",
    "    = \\frac{n+1}{2}$$"
   ]
  },
  {
   "cell_type": "markdown",
   "metadata": {
    "slideshow": {
     "slide_type": "slide"
    }
   },
   "source": [
    "## 알고리즘: 순차검색 시간복잡도 분석 (평균)\n",
    "\n",
    "* 경우2: x가 배열 S안에 없는 경우도 고려\n",
    "    * x가 배열 S안에 있을 확률을 p라고 하면,\n",
    "        * x가 배열의 k번째 있을 확률 = $p/n$\n",
    "        * x가 배열에 없을 확률 = $1-p$\n",
    "\n",
    "    * 따라서,\n",
    "    \n",
    "    $$\n",
    "    \\begin{align*}\n",
    "    A(n) & = \\sum_{k=1}^{n} \\Big(k\\times \\frac{p}{n} \\Big) + n (1-p) \\\\\n",
    "        & = \\frac{p}{n} \\times \\frac{n(n+1)}{2} + n (1-p) \\\\\n",
    "        & = n \\Big( 1- \\frac{p}{2} \\Big) + \\frac{p}{2}\n",
    "    \\end{align*}\n",
    "    $$\n",
    "    \n",
    "        * $p=1$: $A(n) = (n+1)/2$\n",
    "        * $p=1/2$: $A(n) = 3n/4 +  1/4$        "
   ]
  },
  {
   "cell_type": "markdown",
   "metadata": {
    "slideshow": {
     "slide_type": "slide"
    }
   },
   "source": [
    "## Discussion\n",
    "\n",
    "* 최악, 평균, 최선의 경우 분석 방법 중에서 어떤 분석이 가장 정확한가?\n",
    "* 최악, 평균, 최선의 경우 분석 방법 중에서 어떤 분석을 사용할 것인가?\n",
    "* The best : every-case time complexity. \n",
    "    But, all algorithms don’t have the case.\n",
    "* Useful case\n",
    "    * Average-case : 일반적인 경우 \n",
    "    * Worst-case : 단 한번의 사고가 중요한 경우"
   ]
  },
  {
   "cell_type": "markdown",
   "metadata": {
    "slideshow": {
     "slide_type": "slide"
    }
   },
   "source": [
    "## 복잡도의 표기법\n",
    "* $O$\n",
    "    * Big $O$,  asymptotic upper bound\n",
    "\n",
    "* $\\Omega$\n",
    "    * Omega,  asymptotic lower bound\n",
    "\n",
    "* $\\Theta$\n",
    "    * Theta, order, asymptotic tight bound ($O \\cap \\Omega$)"
   ]
  },
  {
   "cell_type": "markdown",
   "metadata": {
    "slideshow": {
     "slide_type": "slide"
    }
   },
   "source": [
    "## 대표적인 복잡도 카테고리\n",
    "\n",
    "* $\\Theta(\\lg n)$\n",
    "\n",
    "* $\\Theta(n)$ : 1차 (linear time algorithm)\n",
    "\n",
    "* $\\Theta(n \\lg n)$\n",
    "\n",
    "* $\\Theta(n^2)$ : 2차 (quadratic time)\n",
    "\n",
    "* $\\Theta(n^3)$ : 3차 (cubic time)\n",
    "\n",
    "* $\\Theta(2^n)$ : 지수 (exponential time)\n",
    "\n",
    "* $\\Theta(n!)$"
   ]
  },
  {
   "cell_type": "markdown",
   "metadata": {
    "slideshow": {
     "slide_type": "slide"
    }
   },
   "source": [
    "## 최고차 항이 궁극적으로 지배한다\n",
    "\n",
    "<img src=\"images/algo01-05.png\" width=\"400\"/>\n",
    "\n",
    "* $g(n) = 5 n^2 + 100 n + 20 \\in \\theta(n^2) \\equiv$ order of $n^2$"
   ]
  },
  {
   "cell_type": "markdown",
   "metadata": {
    "slideshow": {
     "slide_type": "slide"
    }
   },
   "source": [
    "## 복잡도 함수의 증가율\n",
    "\n",
    "<img src=\"images/algo01-06.png\" width=\"300\"/>"
   ]
  },
  {
   "cell_type": "markdown",
   "metadata": {
    "slideshow": {
     "slide_type": "slide"
    }
   },
   "source": [
    "## 시간복잡도별 실행시간 비교\n",
    "\n",
    "<img src=\"images/algo01-07.png\" width=\"500\"/>"
   ]
  },
  {
   "cell_type": "markdown",
   "metadata": {
    "slideshow": {
     "slide_type": "slide"
    }
   },
   "source": [
    "## Big $O$ 표기법\n",
    "\n",
    "* 정의 : 점근적 상한 (Asymptotic Upper Bound)\n",
    "\n",
    "    * 분석된 복잡도함수 g(n)이 어떤 함수  f(n)에 대해서 $g(n)\\in O(f(n))$.\n",
    "    * $n \\ge N$인 모든 정수 $n$에 대해서 $g(n) \\le c \\times f(n)$이 \n",
    "        성립하는 실수 $c > 0$와 음이 아닌 정수 $N$이 존재한다.\n",
    "\n",
    "* $g(n) \\in O(f(n))$ 읽는 방법:\n",
    "    * $g(n)$의 점근적 상한은  $f(n)$이다.\n",
    "    * Asymptotic upper bound of g(n) is f(n).\n",
    "\n",
    "* 의미:\n",
    "    * 입력 크기 n에 대해서 이 알고리즘의 수행시간은 \n",
    "        궁극적으로  f(n)보다 나쁘지는 않다."
   ]
  },
  {
   "cell_type": "markdown",
   "metadata": {
    "slideshow": {
     "slide_type": "slide"
    }
   },
   "source": [
    "## Big $O$ 표기법 (Cont)\n",
    "\n",
    "<img src=\"images/algo01-08.png\" width=\"300\"/>"
   ]
  },
  {
   "cell_type": "markdown",
   "metadata": {
    "slideshow": {
     "slide_type": "slide"
    }
   },
   "source": [
    "## Big $O$ 표기법 (예)\n",
    "\n",
    "* 어떤 함수 g(n)이 $O(n^2)$에 속한다는 말은\n",
    "    * 함수g(n)은 궁극에 가서는 (즉, 어떤 N값 이후부터는) \n",
    "        어떤 2차 함수 cn2 보다는 작은 값을 가지게 된다는 것을 뜻한다.\n",
    "        (그래프 상에서는 아래에 위치)\n",
    "* $n^2+10n \\in O(n^2)$?\n",
    "    * $n \\ge 10$인 모든 정수 $n$에 대해서 $n^2+10n \\le 2n^2$이 성립한다. \n",
    "        그러므로 $c = 2$와 $N = 10$을 선택하면, 'Big $O$'의 정의에 의해서\n",
    "        $n^2+10n \\in O(n^2)$이라고 결론지을 수 있다.\n",
    "    * $n \\ge 1$인 모든 정수 $n$에 대해서 $n^2+10n \\le n^2+10n^2 = 11n^2$이\n",
    "        성립한다. 그러므로 $c = 11$와 $N = 1$을 선택하면, \n",
    "        '큰 $O$'의 정의에 의해서 $n^2+10n \\in O(n^2)$이라고 결론지을 수 있다."
   ]
  },
  {
   "cell_type": "markdown",
   "metadata": {
    "slideshow": {
     "slide_type": "slide"
    }
   },
   "source": [
    "## Big $O$ 표기법 (예) (Cont)\n",
    "\n",
    "* $2n^2$과 $n^2 + 10 n$의 비교\n",
    "\n",
    "<img src=\"images/algo01-09.png\" width=\"300\"/>"
   ]
  },
  {
   "cell_type": "markdown",
   "metadata": {
    "slideshow": {
     "slide_type": "slide"
    }
   },
   "source": [
    "## Big $O$ 표기법 (예) (Cont)\n",
    "\n",
    "* $5n^2 \\in O(n^2)$ ?\n",
    "    * $c=5$와 $N=0$을 선택하면, $n \\ge 0$인 모든 정수 $n$에 대해서 \n",
    "        $5n^2 \\le 5n^2$이 성립한다.\n",
    "\n",
    "* $T(n) = n(n-1)/2$ ?\n",
    "    * $n \\ge 0$인 모든 정수 $n$에 대해서 $n(n-1)/2 \\le n^2/2$이 성립한다.\n",
    "        그러므로 $c = 1/2$과 $N=0$을 선택하면, \n",
    "        $T(n) \\in O(n^2)$이라고 결론지을 수 있다.\n",
    "\n",
    "* $n^2 \\in O(n^2+10n)$ ?\n",
    "    * $n \\ge 0$인 모든 정수 $n$에 대해서, $n^2 \\le 1 \\times (n^2+10n)$이 \n",
    "        성립한다. 그러므로, $c=1$와 $N=0$을 선택하면, \n",
    "        $n^2 \\in O(n^2+10n)$이라고 결론지을 수 있다."
   ]
  },
  {
   "cell_type": "markdown",
   "metadata": {
    "slideshow": {
     "slide_type": "slide"
    }
   },
   "source": [
    "## Big $O$ 표기법 (예) (Cont)\n",
    "\n",
    "* $n \\in O(n^2)$ ?\n",
    "    * $n \\ge 1$인 모든 정수 $n$에 대해서, $n \\le 1 \\times n^2$이 성립한다.\n",
    "        그러므로, $c=1$와 $N=1$을 선택하면, \n",
    "        $n \\in O(n^2)$이라고 결론지을 수 있다.\n",
    "\n",
    "* $n^3 \\in O(n^2)$ ?\n",
    "    * $n \\ge N$인 모든 $n$에 대해서 $n^3 \\le c\\cdot n^2$이 \n",
    "    성립하는 $c$와 $N$값은 존재하지 않는다. \n",
    "    즉, 양변을 $n^2$으로 나누면, $n \\le c$가 되는데,\n",
    "    $c$를 아무리 크게 잡더라도 그 보다 더 큰 $n$이 존재한다.\n",
    "    (성립하지 않음)"
   ]
  },
  {
   "cell_type": "markdown",
   "metadata": {
    "slideshow": {
     "slide_type": "slide"
    }
   },
   "source": [
    "## Big  $O$ 표기법 (예) (Cont)\n",
    "\n",
    "* $O(n^2)$: $cn^2$ 보다 작은 값을 가지는 모든 함수.\n",
    "\n",
    "<img src=\"images/algo01-10.png\" width=\"300\"/>"
   ]
  },
  {
   "cell_type": "markdown",
   "metadata": {
    "slideshow": {
     "slide_type": "slide"
    }
   },
   "source": [
    "## $\\Omega$ 표기법\n",
    "\n",
    "* 정의: 점근적 하한 (Asymptotic Lower Bound)\n",
    "    * 분석된 복잡도함수 g(n)이 어떤 함수  f(n)에 대해서 $g(n)\\in \\Omega(f(n))$\n",
    "    * $n \\ge N$인 모든 정수 $n$에 대해서 $g(n) \\ge c\\cdot f(n)$이 성립하는 \n",
    "        실수 $c > 0$와 음이 아닌 정수 $N$이 존재한다.\n",
    "\n",
    "* $g(n) \\in \\Omega(f(n))$ 읽는 방법: \n",
    "    * $g(n)$의 점근적 하한은 $f(n)$이다.\n",
    "    * Asymptotic lower bound of $g(n)$ is $f(n)$.\n",
    "\n",
    "* 의미:\n",
    "    * 입력 크기 n에 대해서 이 알고리즘의 수행시간은 궁극적으로 \n",
    "        $f(n)$보다 효율적이지는 못하다."
   ]
  },
  {
   "cell_type": "markdown",
   "metadata": {
    "slideshow": {
     "slide_type": "slide"
    }
   },
   "source": [
    "## $\\Omega$ 표기법\n",
    "\n",
    "<img src=\"images/algo01-11.png\" width=\"300\"/>"
   ]
  },
  {
   "cell_type": "markdown",
   "metadata": {
    "slideshow": {
     "slide_type": "slide"
    }
   },
   "source": [
    "## $\\Omega$ 표기법 : 예\n",
    "\n",
    "* 어떤 함수 $g(n)$이 $\\Omega(n^2)$에 속한다는 말은\n",
    "    * 그 함수는 궁극에 가서는 (즉 어떤 $N$ 값 이후부터는) \n",
    "        어떤 2차 함수 $c\\cdot n^2$의 값보다는 큰 값을 가지게 된다는 것을 \n",
    "        뜻한다(그래프 상에서는 위에 위치).\n",
    "\n",
    "* $n^2 + 10n \\in \\Omega(n^2)$ ?\n",
    "    * $n \\ge 0$인 모든 정수 $n$에 대해서 $n^2+10n \\ge n^2$이 성립한다. \n",
    "        그러므로 $c = 1$와 $N = 0$을 선택하면, $n^2 +10n \\in \\Omega(n^2)$이라고 \n",
    "        결론지을 수 있다.\n",
    "\n",
    "* $5n^2 \\in \\Omega(n^2)$ ?\n",
    "    * $n \\ge 0$인 모든 정수 $n$에 대해서, $5n^2 \\ge 1\\cdot n^2$이 성립한다. \n",
    "        그러므로, $c=1$와 $N=0$을 선택하면, $5n^2 \\in \\Omega(n^2)$이라고 \n",
    "        결론지을 수 있다."
   ]
  },
  {
   "cell_type": "markdown",
   "metadata": {
    "slideshow": {
     "slide_type": "slide"
    }
   },
   "source": [
    "## $\\Omega$ 표기법 : 예 (계속)\n",
    "\n",
    "* $T(n) = n(n-1)/2$ ?\n",
    "\n",
    "    * $n \\ge 2$인 모든 $n$에 대해서 $n-1 \\ge  n/2$이 성립한다. \n",
    "        그러므로, $n \\ge 2$인 모든 $n$에 대해서 \n",
    "        $n(n-1)/2 \\ge n/2 \\cdot n/2 = 1/4 n^2$이 성립한다.\n",
    "        따라서 $c = 1/4$과 $N = 2$를 선택하면,\n",
    "        $T(n) \\in \\Omega(n^2)$이라고 결론지을 수 있다.\n",
    "\n",
    "* $n^3 \\in \\Omega(n^2)$ ?\n",
    "\n",
    "    * $n \\ge 1$인 모든 정수 $n$에 대해서, $n^3 \\ge 1 \\cdot n^2$ 이 성립한다.\n",
    "        그러므로, $c = 1$과 $N = 1$을 선택하면, \n",
    "        $n^3 \\in \\Omega(n^2)$이라고 결론지을 수 있다. \n",
    "        "
   ]
  },
  {
   "cell_type": "markdown",
   "metadata": {
    "slideshow": {
     "slide_type": "slide"
    }
   },
   "source": [
    "## $\\Omega$ 표기법 : 예 (계속)\n",
    "\n",
    "* $n \\in \\Omega(n^2)$ ? \n",
    "    * 모순유도에 의한 증명(Proof by contradiction)\n",
    "    * $n \\in \\Omega(n^2)$ 이라고 가정. \n",
    "        그러면 $n \\ge N$인 모든 정수 $n$에 대해서, \n",
    "        $n \\ge c \\cdot n^2$이 성립하는 실수 $c > 0$, 그리고 음이 아닌 정수 $N$이 존재한다. \n",
    "        위의 부등식의 양변을 $c\\cdot n$으로 나누면 $1/c \\ge n$이 된다. \n",
    "        그러나 이 부등식은 절대로 성립할 수 없다. \n",
    "        따라서 위의 가정은 모순이다."
   ]
  },
  {
   "cell_type": "markdown",
   "metadata": {
    "slideshow": {
     "slide_type": "slide"
    }
   },
   "source": [
    "## $\\Omega$ 표기법: 예 (Cont)\n",
    "\n",
    "* $\\Omega(n^2)$\n",
    "\n",
    "<img src=\"images/algo01-12.png\" width=\"300\"/>"
   ]
  },
  {
   "cell_type": "markdown",
   "metadata": {
    "slideshow": {
     "slide_type": "slide"
    }
   },
   "source": [
    "## $\\Theta$ 표기법\n",
    "\n",
    "* 정의 : Asymptotic Tight Bound\n",
    "\n",
    "    * 분석된 복잡도함수 $g(n)$이 어떤 함수 $f(n)$에 대해서 \n",
    "        $\\Theta(f(n)) = O(f(n)) \\cap \\Omega(f(n))$.\n",
    "\n",
    "    * $n \\ge N$인 모든 정수 $n$에 대해서 $c \\cdot f(n) \\ge g(n) \\le d \\cdot f(n)$이\n",
    "        성립하는 실수 $c > 0$와 $d > 0$, 그리고 음이 아닌 정수 $N$이 존재한다. \n",
    "\n",
    "* $g(n) \\in \\Theta(f(n))$ 읽는 방법: \n",
    "    * $g(n)$의 차수(order=asymptotic tight bound)는 $f(n)$이다.\n",
    "    * Asymptotic tight bound of g(n) is f(n).\n",
    "\n",
    "* 예 : $T(n) = n (n-1) /2$은  $O(n^2)$이면서 $\\Omega(n^2)$이다.\n",
    "    따라서 $T(n) = \\Theta(n^2)$."
   ]
  },
  {
   "cell_type": "markdown",
   "metadata": {
    "slideshow": {
     "slide_type": "slide"
    }
   },
   "source": [
    "## $\\Theta$ 표기법\n",
    "\n",
    "<img src=\"images/algo01-13.png\" width=\"300\"/>"
   ]
  },
  {
   "cell_type": "markdown",
   "metadata": {
    "slideshow": {
     "slide_type": "slide"
    }
   },
   "source": [
    "## $\\Theta(n^2)$\n",
    "\n",
    "<img src=\"images/algo01-14.png\" width=\"300\"/>"
   ]
  },
  {
   "cell_type": "markdown",
   "metadata": {
    "slideshow": {
     "slide_type": "slide"
    }
   },
   "source": [
    "## 작은(Small) $o$ 표기법\n",
    "\n",
    "* 정의 : 작은 $o$\n",
    "\n",
    "    * 분석된 복잡도 함수 $g(n)$이 어떤 함수 $f(n)$에 대해서 \n",
    "        $g(n) \\in o(f(n))$\n",
    "    * 어떤 $N$값 이후부터는 모든 실수 $c > 0$에 대해서 $g(n) \\le c \\cdot f(n)$\n",
    "\n",
    "* 참고: $g(n) \\in o(f(n))$은 \"$g(n)$은 $f(n)$의 작은 오($o$)\"라고 한다. "
   ]
  },
  {
   "cell_type": "markdown",
   "metadata": {
    "slideshow": {
     "slide_type": "slide"
    }
   },
   "source": [
    "## 큰 $O$  vs 작은 $o$\n",
    "\n",
    "* 큰 $O$와의 차이점\n",
    "    * 큰 $O$: 실수 $c >0$ 중에서 하나만 성립하여도 됨\n",
    "    * 작은 $o$: 모든 실수 $c >0$에 대해서 성립하여야 함\n",
    "\n",
    "* $g(n) \\in o(f(n))$은 쉽게 설명하자면\n",
    "    * $g(n)$이 궁극적으로 $f(n)$보다 '훨씬' 낫다(좋다)는 의미이다. "
   ]
  },
  {
   "cell_type": "markdown",
   "metadata": {
    "slideshow": {
     "slide_type": "slide"
    }
   },
   "source": [
    "## 작은 $o$ 표기법 : 예\n",
    "\n",
    "* $n \\in o(n^2)$ ?\n",
    "\n",
    "* 증명: \n",
    "\n",
    "    $c > 0$이라고 하자. $n \\ge N$인 모든 $n$에 대해서 $n \\le c \\cdot n^2$이 성립하는\n",
    "    $N$을 찾아야 한다. \n",
    "    이 부등식의 양변을 $c c\\dot n$으로 나누면 $1/c \\le n$을 얻는다. \n",
    "    따라서 $N \\ge 1/c$가 되는 어떤 $N$을 찾으면 된다. \n",
    "    여기서 $N$의 값은 $c$에 의해 좌우된다. \n",
    "\n",
    "    예를 들어 만약 $c=0.0001$이라고 하면, $N$의 값은 최소한 $10,000$이 되어야 한다. \n",
    "    즉, $n \\ge 10,000$인 모든 $n$에 대해서 $n \\le 0.0001 \\cdot n^2$이 성립한다. "
   ]
  },
  {
   "cell_type": "markdown",
   "metadata": {
    "slideshow": {
     "slide_type": "slide"
    }
   },
   "source": [
    "## 작은 $o$ 표기법 : 예 (계속)\n",
    "\n",
    "* $n$이 $o(5n)$ ?\n",
    "\n",
    "* 모순 유도에 의한 증명: $c = 1/6$이라고 하자.\n",
    "\n",
    "    $n \\in o(5n)$이라고 가정하면, \n",
    "    $n \\ge N$인 모든 정수 $n$에 대해서,\n",
    "    $ n \\le 1/6 \\cdot 5\\cdot n \\le 5/6 \\cdot n$이 \n",
    "    성립하는 음이 아닌 정수 $N$이 존재해야 한다. \n",
    "\n",
    "    그러나 그런 $N$은 절대로 있을 수 없다. \n",
    "    따라서 위의 가정은 모순이다."
   ]
  },
  {
   "cell_type": "markdown",
   "metadata": {
    "slideshow": {
     "slide_type": "slide"
    }
   },
   "source": [
    "## 극한(limit)을 이용하여 차수를 구하는 방법\n",
    "\n",
    "\n",
    "* 정의 :\n",
    "\n",
    "    $$\n",
    "    \\lim_{n\\to \\infty} \\frac{g(n)}{f(n)} =\n",
    "    \\begin{cases}\n",
    "    c & \\text{for some $c>0$ if } g(n) \\in \\Theta(f(n))\\,, \\\\\n",
    "    0 & \\text{if } g(n) \\in o(f(n)) = O(f(n)) \\backslash \\Theta(f(n))\\,,\\\\\n",
    "    \\infty & \\text{if } g(n) \\in \\Omega(f(n)) \\backslash \\Theta(f(n))\\,.\n",
    "    \\end{cases}\n",
    "    $$\n",
    "\n",
    "* 예 : 다음이 성립함을 보이시오.\n",
    "    * $\\frac{n^2}{2} \\in o(n^3)$\n",
    "        * 이유: $\\lim_{n\\to \\infty} \\frac{n^2/2}{n^3} = \\lim_{n\\to \\infty} \\frac{1}{2n} = 0$\n",
    "    * $b>a>0$일 때, $a^n \\in o(b^n)$ \n",
    "        * 이유: $0 < \\frac a b < 1$.\n",
    "            따라서\n",
    "            $\\lim_{n\\to \\infty} \\frac{a^n}{b^n} = \\lim_{n\\to \\infty} \\big( \\frac{a}{b}\\big)^n = 0$.\n",
    "\t                                      "
   ]
  },
  {
   "cell_type": "markdown",
   "metadata": {
    "slideshow": {
     "slide_type": "slide"
    }
   },
   "source": [
    "## 로피탈(L'Hopital)의 법칙\n",
    "\n",
    "* 정리: 로피탈(L'Hopital)의 법칙:\n",
    "\n",
    "    $\\lim_{n\\to \\infty} f(n) = \\lim_{n\\to \\infty} g(n) = \\infty$ 이면\n",
    "    $\\lim_{n\\to \\infty} \\frac{g(n)}{f(n)} = \\lim_{n\\to \\infty} \\frac{g'(n)}{f'(n)}$이다.\n",
    "\n",
    "* 예 : 다음이 성립함을 보이시오.\n",
    "    * $\\lg n \\in o(n)$, 이유는\n",
    "        $$\n",
    "        \\lim_{n\\to \\infty} \\frac{\\lg n}{n} =\n",
    "        \\lim_{n\\to \\infty} \\Big( \\frac{\\frac{1}{n\\, \\ln 2}}{1} \\Big) = 0\n",
    "        $$\n",
    "    * $\\log_a n \\in \\Theta(\\log_b n)$, 이유는\n",
    "        $$\n",
    "        \\lim_{n\\to \\infty} \\frac{\\log_a n}{\\log_b n} =\n",
    "        \\lim_{n\\to \\infty} \\Big( \\frac{\\frac{1}{n\\, \\ln a}}{\\frac{1}{n \\cdot \\ln b}} \\Big) =\n",
    "        \\frac{\\log b}{\\log a} > 0\n",
    "        $$        "
   ]
  },
  {
   "cell_type": "markdown",
   "metadata": {
    "slideshow": {
     "slide_type": "slide"
    }
   },
   "source": [
    "## 차수의 주요 성질  I\n",
    "\n",
    "1. $g(n) \\in O(f(n))$ iff $f(n) \\in \\Omega(g(n))$.\n",
    "* $g(n) \\in \\Theta(f(n))$ iff $f(n) \\in \\Theta(g(n))$.\n",
    "* $b > 1$이고 $a > 1$이면, $\\log_a n \\in \\Theta(\\log_b n)$은 항상 성립. \n",
    "    다시 말하면 로그(logarithm) 복잡도 함수는 모두 같은\n",
    "    카테고리에 속한다. 따라서 통상 $\\Theta(\\lg n)$으로 표시한다.\n",
    "* $b > a > 0$이면, $a^n \\in o(b^n)$. \n",
    "    다시 말하면, 지수(exponential) 복잡도 함수가 모두 같은 카테고리 안에 있는 것은 아니다."
   ]
  },
  {
   "attachments": {},
   "cell_type": "markdown",
   "metadata": {
    "slideshow": {
     "slide_type": "slide"
    }
   },
   "source": [
    "## 차수의 주요 성질  II\n",
    "\n",
    "5. $a > 0$인 모든 $a$에 대해서, $a^n \\in o(n!)$. \n",
    "\t다시 말하면, $n!$은 어떤 지수 복잡도 함수보다도 나쁘다.\n",
    "\n",
    "6. 복잡도 함수를 다음 순으로 나열해 보자.\n",
    "\t\n",
    "   $$\n",
    "   \\Theta(\\lg n), \\Theta(n), \\Theta(n\\, \\lg n), \\Theta(n^2), \n",
    "   \\Theta(n^j), \\Theta(n^k), \\Theta(a^n), \\Theta(b^n), \\Theta(n!) \n",
    "   $$\n",
    "\t\n",
    "    여기서 $k>j>2$이고 $b>a>1$이다. \n",
    "    \n",
    "    복잡도 함수 $g(n)$이 $f(n)$을 포함한 카테고리의 왼쪽에 위치하면, $g(n) \\in o(f(n))$.\n",
    "                        \n",
    "7. $c \\ge 0$, $d > 0$, $g(n) \\in O(f(n))$, 그리고 $h(n) \\in \\Theta(f(n))$ 이면, \n",
    "    \n",
    "    $$\n",
    "    c \\cdot g(n) + d \\cdot h(n) \\in \\Theta(f(n))\n",
    "    $$\n",
    " \n",
    "    * ex) $5 n + 3 \\lg n + 10 n\\, \\lg n + 7 n^2 \\in \\Theta(n^2)$."
   ]
  },
  {
   "cell_type": "code",
   "execution_count": null,
   "metadata": {},
   "outputs": [],
   "source": []
  },
  {
   "cell_type": "code",
   "execution_count": null,
   "metadata": {},
   "outputs": [],
   "source": []
  },
  {
   "cell_type": "code",
   "execution_count": null,
   "metadata": {},
   "outputs": [],
   "source": []
  },
  {
   "cell_type": "code",
   "execution_count": null,
   "metadata": {},
   "outputs": [],
   "source": []
  }
 ],
 "metadata": {
  "celltoolbar": "Slideshow",
  "kernelspec": {
   "display_name": "Python 3",
   "language": "python",
   "name": "python3"
  },
  "language_info": {
   "codemirror_mode": {
    "name": "ipython",
    "version": 3
   },
   "file_extension": ".py",
   "mimetype": "text/x-python",
   "name": "python",
   "nbconvert_exporter": "python",
   "pygments_lexer": "ipython3",
   "version": "3.7.6"
  }
 },
 "nbformat": 4,
 "nbformat_minor": 4
}
