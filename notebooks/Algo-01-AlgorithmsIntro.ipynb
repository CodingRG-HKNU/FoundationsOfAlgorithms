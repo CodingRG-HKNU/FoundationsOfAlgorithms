{
 "cells": [
  {
   "cell_type": "markdown",
   "metadata": {
    "slideshow": {
     "slide_type": "slide"
    }
   },
   "source": [
    "# 1장 알고리즘: 효율성, 분석, 차수"
   ]
  },
  {
   "cell_type": "markdown",
   "metadata": {
    "slideshow": {
     "slide_type": "slide"
    }
   },
   "source": [
    "## 책 소개\n",
    "\n",
    "- __알고리즘 기초(Foundations of Algorithms)__"
   ]
  },
  {
   "cell_type": "markdown",
   "metadata": {
    "slideshow": {
     "slide_type": "fragment"
    }
   },
   "source": [
    "- 리차드 네아폴리탄 저, 도경구 역\n",
    "- 홍릉과학출판사"
   ]
  },
  {
   "cell_type": "markdown",
   "metadata": {
    "slideshow": {
     "slide_type": "fragment"
    }
   },
   "source": [
    "- 주요 내용: 컴퓨터로 문제 푸는 기법 배우기"
   ]
  },
  {
   "cell_type": "markdown",
   "metadata": {
    "slideshow": {
     "slide_type": "slide"
    }
   },
   "source": [
    "### 목차\n",
    "\n",
    "* 1장: 알고리즘: 효율성, 분석, 차수"
   ]
  },
  {
   "cell_type": "markdown",
   "metadata": {
    "slideshow": {
     "slide_type": "subslide"
    }
   },
   "source": [
    "* 2장 - 6장: 다양한 문제풀이 기법 및 적용 예제\n",
    "    * 2장 분할정복\n",
    "    * 3장 동적계획\n",
    "    * 4장 탐욕 알고리즘\n",
    "    * 5장 되추적\n",
    "    * 6장 분기한정법   "
   ]
  },
  {
   "cell_type": "markdown",
   "metadata": {
    "slideshow": {
     "slide_type": "subslide"
    }
   },
   "source": [
    "* 7장 계산복잡도 소개: 정렬문제\n",
    "* 8장 계산복잡도: 검색문제\n",
    "* 9장 계산복잡도와 문제 난이도: NP 이론 소개"
   ]
  },
  {
   "cell_type": "markdown",
   "metadata": {
    "slideshow": {
     "slide_type": "slide"
    }
   },
   "source": [
    "## 1장 주요 내용\n",
    "\n",
    "1. 알고리즘"
   ]
  },
  {
   "cell_type": "markdown",
   "metadata": {
    "slideshow": {
     "slide_type": "fragment"
    }
   },
   "source": [
    "2. 효율적인 알고리즘 개발 중요성"
   ]
  },
  {
   "cell_type": "markdown",
   "metadata": {
    "slideshow": {
     "slide_type": "fragment"
    }
   },
   "source": [
    "3. 알고리즘 분석"
   ]
  },
  {
   "cell_type": "markdown",
   "metadata": {
    "slideshow": {
     "slide_type": "fragment"
    }
   },
   "source": [
    "4. 차수"
   ]
  },
  {
   "cell_type": "markdown",
   "metadata": {
    "slideshow": {
     "slide_type": "slide"
    }
   },
   "source": [
    "## 1절 알고리즘"
   ]
  },
  {
   "cell_type": "markdown",
   "metadata": {
    "slideshow": {
     "slide_type": "slide"
    }
   },
   "source": [
    "### 알고리즘이란?\n",
    "\n",
    "* 컴퓨터를 이용하여 주어진 문제를 해결하는 기법\n",
    "* 프로그래밍 언어, 프로그래밍 스타일과 무관\n",
    "* 컴퓨터 프로그램은 여러 방법 중에서 한 가지 방법을 선택하여 구현\n",
    "* 절차: 문제해결 알고리즘 적용 순서"
   ]
  },
  {
   "cell_type": "markdown",
   "metadata": {
    "slideshow": {
     "slide_type": "subslide"
    }
   },
   "source": [
    "#### 알고리즘과 절차\n",
    "\n",
    "* 절차: 문제해결 알고리즘 적용 순서"
   ]
  },
  {
   "cell_type": "markdown",
   "metadata": {
    "slideshow": {
     "slide_type": "subslide"
    }
   },
   "source": [
    "#### 프로그램 설계 과정\n",
    "\n",
    "<div align=\"center\"><img src=\"images/algo01-01.png\" width=\"600\"/></div>"
   ]
  },
  {
   "cell_type": "markdown",
   "metadata": {
    "slideshow": {
     "slide_type": "slide"
    }
   },
   "source": [
    "### 알고리즘 효율성 분석\n",
    "\n",
    "* 효율성: 문제해결을 위한 필수 요소\n",
    "    * 컴퓨터 속도, 메모리 가격과 무관\n",
    "    * 수천년, 수만년 동안 실행되어야 끝나는 비효율적 알고리즘이 일반적임."
   ]
  },
  {
   "cell_type": "markdown",
   "metadata": {
    "slideshow": {
     "slide_type": "subslide"
    }
   },
   "source": [
    "* 분석: 알고리즘의 효율성 판단\n",
    "    * 효율성 판단 기준: 계산복잡도\n",
    "    * 계산복잡도\n",
    "        * 시간복잡도: 특정 연산의 실행 횟수\n",
    "        * 공간복잡도: 메모리 공간 사용 정도"
   ]
  },
  {
   "cell_type": "markdown",
   "metadata": {
    "slideshow": {
     "slide_type": "subslide"
    }
   },
   "source": [
    "* 차수: 계산복잡도 판단 기준\n",
    "    * 계산복잡도 함수의 차수(order) 기준\n",
    "    * 차수를 이용하여 알고리즘을 계산복잡도별로 분류 가능"
   ]
  },
  {
   "cell_type": "markdown",
   "metadata": {
    "slideshow": {
     "slide_type": "slide"
    }
   },
   "source": [
    "#### 알고리즘 효율성 비교 예제\n",
    "\n",
    "* 문제: 전화번호부에서 '홍길동'의 전화번호 찾기"
   ]
  },
  {
   "cell_type": "markdown",
   "metadata": {
    "slideshow": {
     "slide_type": "fragment"
    }
   },
   "source": [
    "* 알고리즘 1: 순차검색\n",
    "    * 첫 쪽부터 '홍길동'이라는 이름이 나올 때까지 순서대로 찾는다."
   ]
  },
  {
   "cell_type": "markdown",
   "metadata": {
    "slideshow": {
     "slide_type": "fragment"
    }
   },
   "source": [
    "* 알고리즘 2: 이분검색\n",
    "    * 전화번호부는 '가나다'순\n",
    "    * 먼저 'ㅎ'이 있을 만한 곳을 적당히 확인\n",
    "    * 이후 앞뒤로 뒤적여가며 검색"
   ]
  },
  {
   "cell_type": "markdown",
   "metadata": {
    "slideshow": {
     "slide_type": "subslide"
    }
   },
   "source": [
    "#### 분석: 어떤 알고리즘이 더 효율적인가?\n",
    "\n",
    "* 이분검색이 보다 효율적임."
   ]
  },
  {
   "cell_type": "markdown",
   "metadata": {
    "slideshow": {
     "slide_type": "slide"
    }
   },
   "source": [
    "### 알고리즘 표기법\n",
    "\n",
    "* 자연어: 한글 또는 영어\n",
    "    * 단점 1: 복잡한 알고리즘 설명과 전달 어려움\n",
    "    * 단점 2: 실제로 구현하기 어려움"
   ]
  },
  {
   "cell_type": "markdown",
   "metadata": {
    "slideshow": {
     "slide_type": "subslide"
    }
   },
   "source": [
    "* 의사코드(Pseudo-code)\n",
    "    * 실제 프로그래밍 언어와 유사한 언어로 작성된 코드\n",
    "    * 자연어 사용의 단점 해결\n",
    "    * 하지만 직접 실행할 수 없음.\n",
    "    * 교재: C++에 가까운 의사코드 사용"
   ]
  },
  {
   "cell_type": "markdown",
   "metadata": {
    "slideshow": {
     "slide_type": "subslide"
    }
   },
   "source": [
    "#### 강의에 사용되는 언어: 파이썬3\n",
    "\n",
    "* 설치: 아나콘다(Anaconda) 패키지 설치 추천\n",
    "* 주피터 노트북 활용\n",
    "* 파이썬은 기본패키지만 사용"
   ]
  },
  {
   "cell_type": "markdown",
   "metadata": {
    "slideshow": {
     "slide_type": "subslide"
    }
   },
   "source": [
    "#### 파이썬 활용의 장점\n",
    "\n",
    "* 의사코드 수준의 프로그래밍 작성 가능\n",
    "* 책의 의사코드와 매우 유사하게 구현하여 실행 가능"
   ]
  },
  {
   "cell_type": "markdown",
   "metadata": {
    "slideshow": {
     "slide_type": "slide"
    }
   },
   "source": [
    "### 예제: 순차검색\n",
    "\n",
    "* 문제: 리스트(배열) $S$에 $x$가 항목으로 포함되어 있는가?\n",
    "    * 입력 파라미터: 리스트(배열) $S$와 값 $x$\n",
    "    * 리턴값: $x$가 $S$의 항목일 경우 인덱스, 항목이 아닐 경우 -1."
   ]
  },
  {
   "cell_type": "markdown",
   "metadata": {
    "slideshow": {
     "slide_type": "subslide"
    }
   },
   "source": [
    "* 알고리즘 (자연어): \n",
    "    * $x$와 같은 항목을 찾을 때까지 $S$에 있는 모든 항목을 차례로 검사\n",
    "    * 만일 $x$와 같은 항목을 찾으면 항목의 인덱스 내주기\n",
    "    * $S$를 모두 검사하고도 찾지 못하면 -1 내주기"
   ]
  },
  {
   "cell_type": "code",
   "execution_count": 2,
   "metadata": {
    "slideshow": {
     "slide_type": "subslide"
    }
   },
   "outputs": [],
   "source": [
    "# 순차검색 알고리즘\n",
    "\n",
    "def seqsearch(S, x):\n",
    "    location = 0\n",
    "    \n",
    "    # while 반복문 실행횟수 확인용\n",
    "    loop_count = 0\n",
    "\n",
    "    while location < len(S) and S[location] != x:\n",
    "        loop_count += 1\n",
    "        location += 1\n",
    "\n",
    "    if location < len(S):\n",
    "        return (location, loop_count)\n",
    "    else:\n",
    "        return (-1, loop_count)"
   ]
  },
  {
   "cell_type": "code",
   "execution_count": 77,
   "metadata": {
    "cell_style": "split",
    "slideshow": {
     "slide_type": "subslide"
    }
   },
   "outputs": [
    {
     "name": "stdout",
     "output_type": "stream",
     "text": [
      "(5, 5)\n"
     ]
    }
   ],
   "source": [
    "seq = list(range(30))\n",
    "val = 5\n",
    "\n",
    "print(seqsearch(seq, val))"
   ]
  },
  {
   "cell_type": "code",
   "execution_count": 78,
   "metadata": {
    "cell_style": "split",
    "slideshow": {
     "slide_type": "fragment"
    }
   },
   "outputs": [
    {
     "name": "stdout",
     "output_type": "stream",
     "text": [
      "(10, 10)\n"
     ]
    }
   ],
   "source": [
    "seq = list(range(30))\n",
    "val = 10\n",
    "\n",
    "print(seqsearch(seq, val))"
   ]
  },
  {
   "cell_type": "code",
   "execution_count": 79,
   "metadata": {
    "cell_style": "split",
    "slideshow": {
     "slide_type": "fragment"
    }
   },
   "outputs": [
    {
     "name": "stdout",
     "output_type": "stream",
     "text": [
      "(20, 20)\n"
     ]
    }
   ],
   "source": [
    "seq = list(range(30))\n",
    "val = 20\n",
    "\n",
    "print(seqsearch(seq, val))"
   ]
  },
  {
   "cell_type": "code",
   "execution_count": 80,
   "metadata": {
    "cell_style": "split",
    "slideshow": {
     "slide_type": "fragment"
    }
   },
   "outputs": [
    {
     "name": "stdout",
     "output_type": "stream",
     "text": [
      "(29, 29)\n"
     ]
    }
   ],
   "source": [
    "seq = list(range(30))\n",
    "val = 29\n",
    "\n",
    "print(seqsearch(seq, val))"
   ]
  },
  {
   "cell_type": "code",
   "execution_count": 81,
   "metadata": {
    "cell_style": "split",
    "slideshow": {
     "slide_type": "fragment"
    }
   },
   "outputs": [
    {
     "name": "stdout",
     "output_type": "stream",
     "text": [
      "(-1, 30)\n"
     ]
    }
   ],
   "source": [
    "seq = list(range(30))\n",
    "val = 30\n",
    "\n",
    "print(seqsearch(seq, val))"
   ]
  },
  {
   "cell_type": "code",
   "execution_count": 82,
   "metadata": {
    "cell_style": "split",
    "slideshow": {
     "slide_type": "fragment"
    }
   },
   "outputs": [
    {
     "name": "stdout",
     "output_type": "stream",
     "text": [
      "(-1, 30)\n"
     ]
    }
   ],
   "source": [
    "seq = list(range(30))\n",
    "val = 100\n",
    "\n",
    "print(seqsearch(seq, val))"
   ]
  },
  {
   "cell_type": "markdown",
   "metadata": {
    "slideshow": {
     "slide_type": "fragment"
    }
   },
   "source": [
    "* 입력값의 위치에 따라 `while` 반복문의 실행횟수가 선형적 달라짐."
   ]
  },
  {
   "cell_type": "markdown",
   "metadata": {
    "slideshow": {
     "slide_type": "subslide"
    }
   },
   "source": [
    "#### 파이썬튜터 활용: 순차검색\n",
    "\n",
    "* 위 순차검색 코드를 \n",
    "[PythonTutor: 순차검색](http://pythontutor.com/visualize.html#code=%23%20%EC%88%9C%EC%B0%A8%EA%B2%80%EC%83%89%20%EC%95%8C%EA%B3%A0%EB%A6%AC%EC%A6%98%0A%0Adef%20seqsearch%28S,%20x%29%3A%0A%20%20%20%20location%20%3D%200%0A%0A%20%20%20%20%23%20while%20%EB%B0%98%EB%B3%B5%EB%AC%B8%20%EC%8B%A4%ED%96%89%ED%9A%9F%EC%88%98%20%ED%99%95%EC%9D%B8%EC%9A%A9%0A%20%20%20%20loop_count%20%3D%200%0A%0A%20%20%20%20while%20location%20%3C%20len%28S%29%20and%20S%5Blocation%5D%20!%3D%20x%3A%0A%20%20%20%20%20%20%20%20loop_count%20%2B%3D%201%0A%20%20%20%20%20%20%20%20location%20%2B%3D%201%0A%0A%20%20%20%20if%20location%20%3C%20len%28S%29%3A%0A%20%20%20%20%20%20%20%20return%20%28location,%20loop_count%29%0A%20%20%20%20else%3A%0A%20%20%20%20%20%20%20%20return%20%28-1,%20loop_count%29%0A%0Aseq%20%3D%20list%28range%2830%29%29%0Aval%20%3D%205%0A%0Aprint%28seqsearch%28seq,%20val%29%29&cumulative=false&curInstr=0&heapPrimitives=nevernest&mode=display&origin=opt-frontend.js&py=3&rawInputLstJSON=%5B%5D&textReferences=false)\n",
    "에서 실행하면서 메모리에서의 변화 확인 가능"
   ]
  },
  {
   "cell_type": "markdown",
   "metadata": {
    "slideshow": {
     "slide_type": "subslide"
    }
   },
   "source": [
    "#### 순차검색 분석\n",
    "\n",
    "* 특정 값의 위치를 확인하기 위해서 $S$의 항목 몇 개를 검색해야 하는가?\n",
    "    * 특정 값과 동일한 항목의 위치에 따라 다름\n",
    "    * 최악의 경우: $S$의 길이, 즉, 항목의 개수"
   ]
  },
  {
   "cell_type": "markdown",
   "metadata": {
    "slideshow": {
     "slide_type": "fragment"
    }
   },
   "source": [
    "* 좀 더 빨리 찾을 수는 없는가?\n",
    "    * $S$에 있는 항목에 대한 정보가 없는 한 더 빨리 찾을 수 없음."
   ]
  },
  {
   "cell_type": "markdown",
   "metadata": {
    "slideshow": {
     "slide_type": "slide"
    }
   },
   "source": [
    "## 2절 효율적 알고리즘 개발 중요성"
   ]
  },
  {
   "cell_type": "markdown",
   "metadata": {
    "slideshow": {
     "slide_type": "slide"
    }
   },
   "source": [
    "### 효율적 검색 알고리즘 예제: 이분검색\n",
    "\n",
    "* 문제: 항목이 __비내림차순(오름차순)으로 정렬된 리스트(배열)__ $S$에 $x$가 항목으로 포함되어 있는가?\n",
    "    * 입력 파라미터: 리스트(배열) $S$와 값 $x$\n",
    "    * 리턴값: $x$가 $S$의 항목일 경우 인덱스, 항목이 아닐 경우 -1."
   ]
  },
  {
   "cell_type": "markdown",
   "metadata": {
    "slideshow": {
     "slide_type": "subslide"
    }
   },
   "source": [
    "* 알고리즘 (자연어): \n",
    "    * $S$의 중간에 위치한 항목과 $x$를 비교\n",
    "        * 만일 $x$와 같으면 해당 항목의 인덱스 내주기\n",
    "        * 만일 $x$가 중간에 위치한 값보다 작으면 중간 왼편에 위치한 구간에서 새롭게 검색\n",
    "        * 만일 $x$가 중간에 위치한 값보다 크면 중간 오른편에 위치한 구간에서 새롭게 검색\n",
    "    * 검색 구간의 크기가 0이 될 때가지 위 절차 반복"
   ]
  },
  {
   "cell_type": "code",
   "execution_count": 3,
   "metadata": {
    "cell_style": "center",
    "slideshow": {
     "slide_type": "subslide"
    }
   },
   "outputs": [],
   "source": [
    "# 이분검색 알고리즘\n",
    "\n",
    "def binsearch(S, x):\n",
    "    low, high = 0, len(S)-1\n",
    "    location = -1\n",
    "\n",
    "    # while 반복문 실행횟수 확인용    \n",
    "    loop_count = 0\n",
    "\n",
    "    while low <= high and location == -1:\n",
    "        loop_count += 1\n",
    "        mid = (low + high)//2\n",
    "\n",
    "        if x == S[mid]:\n",
    "            location = mid\n",
    "        elif x < S[mid]:\n",
    "            high = mid - 1\n",
    "        else:\n",
    "            low = mid + 1\n",
    "    \n",
    "    return (location, loop_count)    "
   ]
  },
  {
   "cell_type": "code",
   "execution_count": 70,
   "metadata": {
    "cell_style": "split",
    "slideshow": {
     "slide_type": "subslide"
    }
   },
   "outputs": [
    {
     "name": "stdout",
     "output_type": "stream",
     "text": [
      "(5, 5)\n"
     ]
    }
   ],
   "source": [
    "seq = list(range(30))\n",
    "val = 5\n",
    "\n",
    "print(binsearch(seq, val))"
   ]
  },
  {
   "cell_type": "code",
   "execution_count": 71,
   "metadata": {
    "cell_style": "split",
    "slideshow": {
     "slide_type": "fragment"
    }
   },
   "outputs": [
    {
     "name": "stdout",
     "output_type": "stream",
     "text": [
      "(10, 3)\n"
     ]
    }
   ],
   "source": [
    "seq = list(range(30))\n",
    "val = 10\n",
    "\n",
    "print(binsearch(seq, val))"
   ]
  },
  {
   "cell_type": "code",
   "execution_count": 72,
   "metadata": {
    "cell_style": "split",
    "slideshow": {
     "slide_type": "fragment"
    }
   },
   "outputs": [
    {
     "name": "stdout",
     "output_type": "stream",
     "text": [
      "(20, 4)\n"
     ]
    }
   ],
   "source": [
    "seq = list(range(30))\n",
    "val = 20\n",
    "\n",
    "print(binsearch(seq, val))"
   ]
  },
  {
   "cell_type": "code",
   "execution_count": 73,
   "metadata": {
    "cell_style": "split",
    "slideshow": {
     "slide_type": "fragment"
    }
   },
   "outputs": [
    {
     "name": "stdout",
     "output_type": "stream",
     "text": [
      "(29, 5)\n"
     ]
    }
   ],
   "source": [
    "seq = list(range(30))\n",
    "val = 29\n",
    "\n",
    "print(binsearch(seq, val))"
   ]
  },
  {
   "cell_type": "code",
   "execution_count": 74,
   "metadata": {
    "cell_style": "split",
    "slideshow": {
     "slide_type": "fragment"
    }
   },
   "outputs": [
    {
     "name": "stdout",
     "output_type": "stream",
     "text": [
      "(-1, 5)\n"
     ]
    }
   ],
   "source": [
    "seq = list(range(30))\n",
    "val = 30\n",
    "\n",
    "print(binsearch(seq, val))"
   ]
  },
  {
   "cell_type": "code",
   "execution_count": 75,
   "metadata": {
    "cell_style": "split",
    "slideshow": {
     "slide_type": "fragment"
    }
   },
   "outputs": [
    {
     "name": "stdout",
     "output_type": "stream",
     "text": [
      "(-1, 5)\n"
     ]
    }
   ],
   "source": [
    "seq = list(range(30))\n",
    "val = 100\n",
    "\n",
    "print(binsearch(seq, val))"
   ]
  },
  {
   "cell_type": "markdown",
   "metadata": {
    "slideshow": {
     "slide_type": "fragment"
    }
   },
   "source": [
    "* 입력값이 달라져도 `while` 반복문의 실행횟수가 거의 변하지 않음."
   ]
  },
  {
   "cell_type": "markdown",
   "metadata": {
    "slideshow": {
     "slide_type": "subslide"
    }
   },
   "source": [
    "#### 파이썬튜터 활용: 이분검색\n",
    "\n",
    "* 위 이분검색 코드를 \n",
    "[PythonTutor: 이분검색](http://pythontutor.com/visualize.html#code=%23%20%EC%9D%B4%EB%B6%84%EA%B2%80%EC%83%89%20%EC%95%8C%EA%B3%A0%EB%A6%AC%EC%A6%98%0A%0Adef%20binsearch%28S,%20x%29%3A%0A%20%20%20%20low,%20high%20%3D%200,%20len%28S%29-1%0A%20%20%20%20location%20%3D%20-1%0A%20%20%20%20%0A%20%20%20%20%23%20while%20%EB%B0%98%EB%B3%B5%EB%AC%B8%20%EC%8B%A4%ED%96%89%ED%9A%9F%EC%88%98%20%ED%99%95%EC%9D%B8%EC%9A%A9%20%20%20%20%0A%20%20%20%20loop_count%20%3D%200%0A%0A%20%20%20%20while%20low%20%3C%3D%20high%20and%20location%20%3D%3D%20-1%3A%0A%20%20%20%20%20%20%20%20loop_count%20%2B%3D%201%0A%20%20%20%20%20%20%20%20mid%20%3D%20%28low%20%2B%20high%29//2%0A%0A%20%20%20%20%20%20%20%20if%20x%20%3D%3D%20S%5Bmid%5D%3A%0A%20%20%20%20%20%20%20%20%20%20%20%20location%20%3D%20mid%0A%20%20%20%20%20%20%20%20elif%20x%20%3C%20S%5Bmid%5D%3A%0A%20%20%20%20%20%20%20%20%20%20%20%20high%20%3D%20mid%20-%201%0A%20%20%20%20%20%20%20%20else%3A%0A%20%20%20%20%20%20%20%20%20%20%20%20low%20%3D%20mid%20%2B%201%0A%20%20%20%20%0A%20%20%20%20return%20%28location,%20loop_count%29%20%20%20%20%0A%20%20%20%20%20%20%20%20%0Aseq%20%3D%20list%28range%2830%29%29%0Aval%20%3D%205%0A%0Aprint%28binsearch%28seq,%20val%29%29&cumulative=false&curInstr=0&heapPrimitives=nevernest&mode=display&origin=opt-frontend.js&py=3&rawInputLstJSON=%5B%5D&textReferences=false)\n",
    "에서 실행하면서 메모리에서의 변화 확인 가능"
   ]
  },
  {
   "cell_type": "markdown",
   "metadata": {
    "slideshow": {
     "slide_type": "subslide"
    }
   },
   "source": [
    "#### 이분검색 분석\n",
    "\n",
    "* 이분검색으로 특정 값의 위치를 확인하기 위해서 \n",
    "    $S$의 항목 몇 개를 검색해야 하는가?\n",
    "    * `while` 반복문이 실행될 때마다 검색 대상의 총 크기가 절반으로 감소됨.\n",
    "    * 따라서 최악의 경우 $\\lg n + 1$개의 항목만 검사하면 됨.\n",
    "    * 여기서 $\\lg := \\log_2$."
   ]
  },
  {
   "cell_type": "markdown",
   "metadata": {
    "slideshow": {
     "slide_type": "slide"
    }
   },
   "source": [
    "### 순차검색 vs 이분검색\n",
    "\n",
    "<div align=\"center\"><img src=\"images/algo01-02.png\" width=\"600\"/></div>"
   ]
  },
  {
   "cell_type": "markdown",
   "metadata": {
    "slideshow": {
     "slide_type": "subslide"
    }
   },
   "source": [
    "#### 이분검색 활용\n",
    "\n",
    "* 다음, 네이버, 구글, 페이스북, 트위터 등등 수백에서 수천만의 회원을 대상으로 검색을 진행하고자 한다면 어떤 알고리즘 선택?"
   ]
  },
  {
   "cell_type": "markdown",
   "metadata": {
    "slideshow": {
     "slide_type": "fragment"
    }
   },
   "source": [
    "<div align=\"center\"><b>당연히 이분검색!</b></div>"
   ]
  },
  {
   "cell_type": "markdown",
   "metadata": {
    "slideshow": {
     "slide_type": "slide"
    }
   },
   "source": [
    "### 예제: 피보나찌 수 구하기 알고리즘\n",
    "\n",
    "* 피보나치 수열 정의\n",
    "\n",
    "\\begin{align*}\n",
    "f_0 & = 0 \\\\\n",
    "f_1 & = 1 \\\\\n",
    "f_n & = f_{n-1} + f_{n-2} \\quad (n \\ge 2)\n",
    "\\end{align*}"
   ]
  },
  {
   "cell_type": "markdown",
   "metadata": {
    "slideshow": {
     "slide_type": "fragment"
    }
   },
   "source": [
    "* 피보나찌 수 예제\n",
    "\n",
    "$$0, 1, 1, 2, 3, 5, 8, 13, 21, 34, 55, 89, 144, 233, \\dots$$"
   ]
  },
  {
   "cell_type": "markdown",
   "metadata": {
    "slideshow": {
     "slide_type": "slide"
    }
   },
   "source": [
    "#### 피보나찌 수 구하기 알고리즘(재귀)\n",
    "\n",
    "* 문제: 피보나찌 수열에서 $n$번째 수를 구하라.\n",
    "    * 입력: 음이 아닌 정수\n",
    "    * 출력: $n$번째 피보나찌 수"
   ]
  },
  {
   "cell_type": "code",
   "execution_count": 84,
   "metadata": {
    "slideshow": {
     "slide_type": "subslide"
    }
   },
   "outputs": [],
   "source": [
    "# 피보나찌 수 구하기 알고리즘(재귀)\n",
    "\n",
    "def fib(n):\n",
    "    if (n <= 1):\n",
    "        return n\n",
    "    else:\n",
    "        return fib(n-1) + fib(n-2)"
   ]
  },
  {
   "cell_type": "code",
   "execution_count": 55,
   "metadata": {
    "cell_style": "split",
    "slideshow": {
     "slide_type": "fragment"
    }
   },
   "outputs": [
    {
     "data": {
      "text/plain": [
       "2"
      ]
     },
     "execution_count": 55,
     "metadata": {},
     "output_type": "execute_result"
    }
   ],
   "source": [
    "fib(3)"
   ]
  },
  {
   "cell_type": "code",
   "execution_count": 56,
   "metadata": {
    "cell_style": "split",
    "slideshow": {
     "slide_type": "fragment"
    }
   },
   "outputs": [
    {
     "data": {
      "text/plain": [
       "8"
      ]
     },
     "execution_count": 56,
     "metadata": {},
     "output_type": "execute_result"
    }
   ],
   "source": [
    "fib(6)"
   ]
  },
  {
   "cell_type": "code",
   "execution_count": 57,
   "metadata": {
    "cell_style": "split",
    "slideshow": {
     "slide_type": "fragment"
    }
   },
   "outputs": [
    {
     "data": {
      "text/plain": [
       "55"
      ]
     },
     "execution_count": 57,
     "metadata": {},
     "output_type": "execute_result"
    }
   ],
   "source": [
    "fib(10)"
   ]
  },
  {
   "cell_type": "code",
   "execution_count": 60,
   "metadata": {
    "cell_style": "split",
    "slideshow": {
     "slide_type": "fragment"
    }
   },
   "outputs": [
    {
     "data": {
      "text/plain": [
       "233"
      ]
     },
     "execution_count": 60,
     "metadata": {},
     "output_type": "execute_result"
    }
   ],
   "source": [
    "fib(13)"
   ]
  },
  {
   "cell_type": "markdown",
   "metadata": {
    "slideshow": {
     "slide_type": "subslide"
    }
   },
   "source": [
    "#### `fib` 함수 분석\n",
    "\n",
    "* 작성하기도 이해하기도 쉽지만, 매우 비효율적임."
   ]
  },
  {
   "cell_type": "markdown",
   "metadata": {
    "slideshow": {
     "slide_type": "fragment"
    }
   },
   "source": [
    "* 이유는 동일한 값을 반복적으로 계산하기 때문."
   ]
  },
  {
   "cell_type": "markdown",
   "metadata": {
    "slideshow": {
     "slide_type": "subslide"
    }
   },
   "source": [
    "* 예를들어, `fib(5)`를 계산하기 위해 `fib(2)`가 세 번 호출됨. 아래 나무구조 그림 참조."
   ]
  },
  {
   "cell_type": "markdown",
   "metadata": {
    "slideshow": {
     "slide_type": "fragment"
    }
   },
   "source": [
    "<div align=\"center\"><img src=\"images/algo01-03.png\" width=\"700\"/></div>"
   ]
  },
  {
   "cell_type": "markdown",
   "metadata": {
    "slideshow": {
     "slide_type": "subslide"
    }
   },
   "source": [
    "#### `fib` 함수 호출 횟수\n",
    "\n",
    "* $T(n)$ = `fib(n)`을 계산하기 위해 `fib` 함수를 호출한 횟수. \n",
    "    즉, `fib(n)`을 위한 재귀 나무구조에 포함된 마디(node)의 개수\n",
    "* 아래 부등식 성립."
   ]
  },
  {
   "cell_type": "markdown",
   "metadata": {
    "slideshow": {
     "slide_type": "fragment"
    }
   },
   "source": [
    "\\begin{align*}\n",
    "T(0) &= 1 \\\\\n",
    "T(1) &= 1 \\\\\n",
    "T(n) &= T(n - 1) + T(n - 2) +1  \\quad (n \\ge 2) \\\\\n",
    "     &> 2 \\times T(n - 2) \t    \\qquad\\qquad\\quad\\; (T(n - 1) > T(n - 2)) \\\\\n",
    "     &> 2^2 \\times T(n - 4)     \\\\\n",
    "     &> 2^3 \\times T(n - 6)     \\\\\n",
    "     &  \\dots                   \\\\\n",
    "     &> 2^{n/2} \\times T(0)     \\\\\n",
    "     &= 2^{n/2}\n",
    "\\end{align*}"
   ]
  },
  {
   "cell_type": "markdown",
   "metadata": {
    "slideshow": {
     "slide_type": "subslide"
    }
   },
   "source": [
    "* 증명\n",
    "    * 수학적 귀납법 활용\n",
    "    * 교재 14쪽, 정리 1.1 참조."
   ]
  },
  {
   "cell_type": "markdown",
   "metadata": {
    "slideshow": {
     "slide_type": "subslide"
    }
   },
   "source": [
    "#### 정리 1.1\n",
    "\n",
    "* 재귀적 알고리즘으로 구성한 재귀 나무구조의 마디의 수를 $T(n)$이라고 하면, \n",
    "    $n \\ge 2$인 모든 $n$에 대하여 다음이 성립한다.\n",
    "    \n",
    "    $$T(n) > 2^{n/2}$$"
   ]
  },
  {
   "cell_type": "markdown",
   "metadata": {
    "slideshow": {
     "slide_type": "fragment"
    }
   },
   "source": [
    "* 증명: ($n$에 대한 수학적 귀납법으로 증명)"
   ]
  },
  {
   "cell_type": "markdown",
   "metadata": {
    "slideshow": {
     "slide_type": "subslide"
    }
   },
   "source": [
    "* 귀납출발점: \n",
    "    * $T(2) = T(1) + T(0) + 1 = 3 > 2 = 2^{2/2}$\n",
    "    * $T(3) = T(2) + T(1) + 1 = 5 > 2.83 \\approx 2^{3/2}$"
   ]
  },
  {
   "cell_type": "markdown",
   "metadata": {
    "slideshow": {
     "slide_type": "fragment"
    }
   },
   "source": [
    "* 귀납가정(IH): $2 \\le m < n$인 모든 $m$ 에 대해서 $T(m) > 2^{m/2}$이라고 가정."
   ]
  },
  {
   "cell_type": "markdown",
   "metadata": {
    "slideshow": {
     "slide_type": "fragment"
    }
   },
   "source": [
    "* 귀납절차: $T(n) > 2^{n/2}$임을 보이면 됨.\n",
    "\n",
    "\\begin{align*}\n",
    "T(n) &= T(n-1) + T(n-2) + 1              \\\\\n",
    "     &> 2^{(n-1)/2} + 2^{(n-2)/2} + 1 \\quad{\\text{by (IH)}}   \\\\\n",
    "     &> 2^{(n-2)/2} + 2^{(n-2)/2}         \\\\ \n",
    "     &= 2 \\times 2^{(n/2)-1}\\\\\n",
    "     &= 2^{n/2}\n",
    "\\end{align*}"
   ]
  },
  {
   "cell_type": "markdown",
   "metadata": {
    "slideshow": {
     "slide_type": "slide"
    }
   },
   "source": [
    "#### 피보나찌 수 구하기 알고리즘 (반복)\n",
    "\n",
    "* 한 번 계산한 값을 리스트(배열)에 저장해두고 필요할 때 활용.\n",
    "* 중복 계산 없음."
   ]
  },
  {
   "cell_type": "code",
   "execution_count": 1,
   "metadata": {
    "slideshow": {
     "slide_type": "subslide"
    }
   },
   "outputs": [],
   "source": [
    "# 피보나찌 수 구하기 알고리즘 (반복)\n",
    "\n",
    "def fib2(n):\n",
    "    f = []\n",
    "    \n",
    "    f.append(0)\n",
    "    if n > 0:\n",
    "        f.append(1)\n",
    "        for i in range(2, n+1):\n",
    "            fi = f[i-1] + f[i-2]\n",
    "            f.append(fi)\n",
    "    return f[n]"
   ]
  },
  {
   "cell_type": "code",
   "execution_count": 2,
   "metadata": {
    "cell_style": "split",
    "slideshow": {
     "slide_type": "fragment"
    }
   },
   "outputs": [
    {
     "data": {
      "text/plain": [
       "2"
      ]
     },
     "execution_count": 2,
     "metadata": {},
     "output_type": "execute_result"
    }
   ],
   "source": [
    "fib2(3)"
   ]
  },
  {
   "cell_type": "code",
   "execution_count": 3,
   "metadata": {
    "cell_style": "split",
    "slideshow": {
     "slide_type": "fragment"
    }
   },
   "outputs": [
    {
     "data": {
      "text/plain": [
       "8"
      ]
     },
     "execution_count": 3,
     "metadata": {},
     "output_type": "execute_result"
    }
   ],
   "source": [
    "fib2(6)"
   ]
  },
  {
   "cell_type": "code",
   "execution_count": 4,
   "metadata": {
    "cell_style": "split",
    "slideshow": {
     "slide_type": "fragment"
    }
   },
   "outputs": [
    {
     "data": {
      "text/plain": [
       "55"
      ]
     },
     "execution_count": 4,
     "metadata": {},
     "output_type": "execute_result"
    }
   ],
   "source": [
    "fib2(10)"
   ]
  },
  {
   "cell_type": "code",
   "execution_count": 5,
   "metadata": {
    "cell_style": "split",
    "slideshow": {
     "slide_type": "fragment"
    }
   },
   "outputs": [
    {
     "data": {
      "text/plain": [
       "233"
      ]
     },
     "execution_count": 5,
     "metadata": {},
     "output_type": "execute_result"
    }
   ],
   "source": [
    "fib2(13)"
   ]
  },
  {
   "cell_type": "markdown",
   "metadata": {
    "slideshow": {
     "slide_type": "fragment"
    }
   },
   "source": [
    "* 중복 계산이 없는 반복 알고리즘은 수행속도가 훨씬 더 빠름."
   ]
  },
  {
   "cell_type": "markdown",
   "metadata": {
    "slideshow": {
     "slide_type": "subslide"
    }
   },
   "source": [
    "#### `fib2` 함수 분석\n",
    "\n",
    "* `fib2` 함수 호출 횟수 $T(n)$\n",
    "    * $T(n) = n + 1$\n",
    "    * 즉, `f[0]`부터 `f[n]`까지 한 번씩만 계산"
   ]
  },
  {
   "cell_type": "markdown",
   "metadata": {
    "slideshow": {
     "slide_type": "slide"
    }
   },
   "source": [
    "### 두 피보나찌 알고리즘의 비교\n",
    "\n",
    "<div align=\"center\"><img src=\"images/algo01-04.png\" width=\"600\"/></div>\n",
    "\n",
    "* 1 ns = $10^{-9}$ 초\n",
    "* 1 $\\mu$s = $10^{-6}$ 초\n",
    "* 가정: 피보나찌 수 하나를 계산하는 데 걸리는 시간 = 1 ns."
   ]
  },
  {
   "cell_type": "markdown",
   "metadata": {
    "slideshow": {
     "slide_type": "slide"
    }
   },
   "source": [
    "## 3절 알고리즘 분석"
   ]
  },
  {
   "cell_type": "markdown",
   "metadata": {
    "slideshow": {
     "slide_type": "subslide"
    }
   },
   "source": [
    "* 설계한 알고리즘의 효율성 분석\n",
    "* 알고리즘 분석에 사용하는 용어와 표준 분석방법 학습"
   ]
  },
  {
   "cell_type": "markdown",
   "metadata": {
    "slideshow": {
     "slide_type": "slide"
    }
   },
   "source": [
    "### 시간복잡도 분석\n",
    "\n",
    "* __특정 단위연산이 수행되는 횟수를 입력크기에 대한 함수__를 이용한 알고리즘 효율성 분석 기법"
   ]
  },
  {
   "cell_type": "markdown",
   "metadata": {
    "slideshow": {
     "slide_type": "subslide"
    }
   },
   "source": [
    "#### 입력크기 : 특정 입력값의 크기\n",
    "\n",
    "* 예제\n",
    "    * 리스트(배열)의 길이\n",
    "    * 행렬의 행과 열의 수\n",
    "    * 나무(트리)의 마디와 이음선의 수\n",
    "    * 그래프의 정점과 간선의 수"
   ]
  },
  {
   "cell_type": "markdown",
   "metadata": {
    "slideshow": {
     "slide_type": "fragment"
    }
   },
   "source": [
    "* 주의: 입력과 입력크기는 일반적으로 다름.\n",
    "    * 피보나찌 함수 `fib`에 사용되는 입력값 $n$의 크기는 $n$을 이진법으로 표기했을 때의 길이인 \n",
    "        $\\lg n + 1$ 이다.\n",
    "    * 예제: $n = 13$의 입력크기는 $\\lfloor \\lg 13\\rfloor + 1 = 4$."
   ]
  },
  {
   "cell_type": "markdown",
   "metadata": {
    "slideshow": {
     "slide_type": "subslide"
    }
   },
   "source": [
    "#### 단위연산: 명령문 또는 명령문 덩어리(군)\n",
    "\n",
    "* 예제\n",
    "    * 비교문(comparison)\n",
    "    * 지정문(assignment)\n",
    "    * 반복문\n",
    "    * 모든 기계적 명령문 각각의 실행(\n",
    "        * 예제: PythonTutor의 Step 계산"
   ]
  },
  {
   "cell_type": "markdown",
   "metadata": {
    "slideshow": {
     "slide_type": "fragment"
    }
   },
   "source": [
    "* 순차검색과 이분검색 알고리즘에서는 비교 while 반복문에 실행되는 명령문들의 덩어리를 단위연산으로 보았음."
   ]
  },
  {
   "cell_type": "markdown",
   "metadata": {
    "slideshow": {
     "slide_type": "fragment"
    }
   },
   "source": [
    "* 피보나찌 함수의 경우 함수 본체 전체를 단위연산으로 사용됨."
   ]
  },
  {
   "cell_type": "markdown",
   "metadata": {
    "slideshow": {
     "slide_type": "fragment"
    }
   },
   "source": [
    "* 주위\n",
    "    * 단위연산을 지정하는 일반적인 규칙 없음.\n",
    "    * 경우에 따라 두 개의 다른 단위연산을 고려해야 할 수도 있음.\n",
    "        * 예제: 키를 비교하여 정렬하는 경우, 비교와 지정이 서로 다른 비율로 발생하여, \n",
    "            서로 독립적인 단위연산으로 간주해야 함.\n",
    "    * 단위연산의 실행횟수가 입력크기뿐만 아니라 입력에도 의존함."
   ]
  },
  {
   "cell_type": "markdown",
   "metadata": {
    "slideshow": {
     "slide_type": "slide"
    }
   },
   "source": [
    "### 시간복잡도 종류\n",
    "\n",
    "* 단위연산 실행횟수가 입력값에 상관없이 입력크기에만 의존하는 경우\n",
    "    * 일정 시간복잡도: $T(n)$"
   ]
  },
  {
   "cell_type": "markdown",
   "metadata": {
    "slideshow": {
     "slide_type": "fragment"
    }
   },
   "source": [
    "* 단위연산 실행횟수가 입력값과 입력크기 모두에 의존하는 경우\n",
    "    * 최악 시간복잡도: $W(n)$\n",
    "    * 평균 시간복잡도: $A(n)$\n",
    "    * 최선 시간복잡도: $B(n)$"
   ]
  },
  {
   "cell_type": "markdown",
   "metadata": {
    "slideshow": {
     "slide_type": "subslide"
    }
   },
   "source": [
    "#### 일정 시간복잡도\n",
    "\n",
    "* 일정 시간복잡도 $T(n)$: 입력크기 $n$에 대한 단위연산 실행횟수\n",
    "* 예제\n",
    "    * 리스트(배열)의 원소 모두 더하기\n",
    "    * 교환정렬\n",
    "    * 행렬곱셈"
   ]
  },
  {
   "cell_type": "markdown",
   "metadata": {
    "slideshow": {
     "slide_type": "subslide"
    }
   },
   "source": [
    "#### 최악 시간복잡도\n",
    "\n",
    "* 최악 시간복잡도 $W(n)$: 입력크기 $n$에 대한 단위연산의 최대 실행횟수\n",
    "* 핵발전소 시스템의 경우처럼 나쁜 사례에 대한 최악의 반응시간이 중요한 경우 활용"
   ]
  },
  {
   "cell_type": "markdown",
   "metadata": {
    "slideshow": {
     "slide_type": "subslide"
    }
   },
   "source": [
    "#### 평균 시간복잡도\n",
    "\n",
    "* 평균 시간복잡도 $A(n)$: 입력크기 $n$에 대한 단위연산의 실행횟수 기대치(평균)\n",
    "* 평균 단윈연산 실행횟수가 중요한 경우 활용\n",
    "* 각 입력값에 대해 확률 할당 가능\n",
    "* 최악의 경우 분석보다 보통 계산이 보다 복잡함"
   ]
  },
  {
   "cell_type": "markdown",
   "metadata": {
    "slideshow": {
     "slide_type": "subslide"
    }
   },
   "source": [
    "#### <span style=\"color:blue\">최선 시간복잡도</span>\n",
    "* 최선 시간복잡도 $B(n)$: 입력크기 $n$에 대한 단위연산의 최소 실행횟수\n",
    "* 잘 사용되지 않음."
   ]
  },
  {
   "cell_type": "markdown",
   "metadata": {
    "slideshow": {
     "slide_type": "subslide"
    }
   },
   "source": [
    "#### 시간복잡도 특성\n",
    "\n",
    "* $T(n)$이 존재하는 경우:\n",
    "\n",
    "    $$T(n) = W(n) = A(n) = B(n)$$"
   ]
  },
  {
   "cell_type": "markdown",
   "metadata": {
    "slideshow": {
     "slide_type": "fragment"
    }
   },
   "source": [
    "* 일반적으로:\n",
    "\n",
    "    $$B(n) \\le A(n) \\le W(n)$$"
   ]
  },
  {
   "cell_type": "markdown",
   "metadata": {
    "slideshow": {
     "slide_type": "subslide"
    }
   },
   "source": [
    "#### 일정 시간복잡도를 구할 수 없는 경우\n",
    "\n",
    "* 최선의 경우 보다 최악 또는 평균의 경우 분석을 일반적으로 진행"
   ]
  },
  {
   "cell_type": "markdown",
   "metadata": {
    "slideshow": {
     "slide_type": "fragment"
    }
   },
   "source": [
    "* 평균 시간복잡도 분석\n",
    "    * 다른 입력을 여러 번 사용할 때 평균적으로 걸리는 시간 알려줌.\n",
    "    * 예를 들어, 속도가 느린 정렬 알고리즘이라도 평균적으로 시간이 좋게 나오는 경우\n",
    "        사용 가능."
   ]
  },
  {
   "cell_type": "markdown",
   "metadata": {
    "slideshow": {
     "slide_type": "fragment"
    }
   },
   "source": [
    "* 최악 시간복잡도 분석\n",
    "    * 핵발전소 감시시스템 경우처럼 단 한 번의 사고가 치명적인 경우 활용."
   ]
  },
  {
   "cell_type": "markdown",
   "metadata": {
    "slideshow": {
     "slide_type": "subslide"
    }
   },
   "source": [
    "#### 공간(메모리)복잡도\n",
    "\n",
    "* 알고리즘이 메모리 사용명으로 얼마나 효율적인지 분석\n",
    "* 책에서는 시간복잡도에 집중. \n",
    "* 필요한 경우 공간복잡도 분석 활용."
   ]
  },
  {
   "cell_type": "markdown",
   "metadata": {
    "slideshow": {
     "slide_type": "slide"
    }
   },
   "source": [
    "### 예제: 일정 시간복잡도 분석"
   ]
  },
  {
   "cell_type": "markdown",
   "metadata": {
    "slideshow": {
     "slide_type": "slide"
    }
   },
   "source": [
    "#### 알고리즘: 리스트(배열) 항목더하기\n",
    "\n",
    "* 문제: 크기가 $n$인 리스트(배열) $S$의 모든 항목을 더하라.\n",
    "* 입력: 리스트(배열) $S$\n",
    "* 출력: 리스트(배열) $S$에 있는 항목의 합"
   ]
  },
  {
   "cell_type": "code",
   "execution_count": 7,
   "metadata": {
    "slideshow": {
     "slide_type": "subslide"
    }
   },
   "outputs": [],
   "source": [
    "# 리스트(배열)의 항목 모두 더하기\n",
    "\n",
    "def sum(S):\n",
    "    result = 0\n",
    "\n",
    "    for i in range(len(S)):\n",
    "         result = result + S[i]\n",
    "    return result"
   ]
  },
  {
   "cell_type": "code",
   "execution_count": 9,
   "metadata": {
    "slideshow": {
     "slide_type": "fragment"
    }
   },
   "outputs": [
    {
     "data": {
      "text/plain": [
       "55"
      ]
     },
     "execution_count": 9,
     "metadata": {},
     "output_type": "execute_result"
    }
   ],
   "source": [
    "seq = list(range(11))\n",
    "\n",
    "sum(seq)"
   ]
  },
  {
   "cell_type": "markdown",
   "metadata": {
    "slideshow": {
     "slide_type": "subslide"
    }
   },
   "source": [
    "#### 리스트(배열) 항목더하기 알고리즘의 $T(n)$ 구하기: 덧셈 기준\n",
    "\n",
    "* 단위연산: 덧셈\n",
    "* 입력크기: 리스트(배열)의 크기 $n$"
   ]
  },
  {
   "cell_type": "markdown",
   "metadata": {
    "slideshow": {
     "slide_type": "subslide"
    }
   },
   "source": [
    "* 모든 경우 분석:\n",
    "    * 리스트(배열) 내용에 상관없이 for-반복문 $n$번 실행.\n",
    "    * 반복마다 덧셈 1회 실행.\n",
    "    * 따라서 $T(n) = n$."
   ]
  },
  {
   "cell_type": "markdown",
   "metadata": {
    "slideshow": {
     "slide_type": "slide"
    }
   },
   "source": [
    "#### 알고리즘: 교환정렬\n",
    "\n",
    "* 문제: 리스트(배열)의 항목을 비내림차순(오름차순)으로 정렬하기\n",
    "* 입력: 리스트(배열) $S$\n",
    "* 출력: 비내림차순으로 정렬된 리스트(배열)"
   ]
  },
  {
   "cell_type": "code",
   "execution_count": 10,
   "metadata": {
    "slideshow": {
     "slide_type": "subslide"
    }
   },
   "outputs": [],
   "source": [
    "# 교환정렬\n",
    "\n",
    "def exchangesort(S):\n",
    "    for i in range(len(S)):\n",
    "        for j in range(i+1, len(S)):\n",
    "             if (S[j] < S[i]):\n",
    "                    S[i], S[j] = S[j], S[i]"
   ]
  },
  {
   "cell_type": "code",
   "execution_count": 11,
   "metadata": {
    "slideshow": {
     "slide_type": "fragment"
    }
   },
   "outputs": [
    {
     "name": "stdout",
     "output_type": "stream",
     "text": [
      "[1, 2, 4, 5, 7]\n"
     ]
    }
   ],
   "source": [
    "seq = [1, 4, 5, 2, 7]\n",
    "exchangesort(seq)\n",
    "print(seq)"
   ]
  },
  {
   "cell_type": "markdown",
   "metadata": {
    "slideshow": {
     "slide_type": "subslide"
    }
   },
   "source": [
    "#### 교환정렬 알고리즘의 $T(n)$ 구하기 : 조건문 기준\n",
    "\n",
    "* 단위연산: 조건문 (`S[j]`와 `S[i]`의 비교)\n",
    "* 입력크기: 리스트(배열)의 길이 $n$"
   ]
  },
  {
   "cell_type": "markdown",
   "metadata": {
    "slideshow": {
     "slide_type": "subslide"
    }
   },
   "source": [
    "* 모든 경우 분석:\n",
    "    * `j`-반복문이 실행할 때마다 조건문 한 번씩 실행\n",
    "    * 조건문의 총 실행횟수\n",
    "        * $i=1$일 때: $n-1$ 번\n",
    "        * $i=2$일 때: $n-2$ 번\n",
    "        * $i=3$일 때: $n-3$ 번\n",
    "        * ...\n",
    "        * $i=n-1$일 때: $1$ 번\n",
    "        * 따라서 다음이 성립한다.\n",
    "        \n",
    "            $$T(n) = (n-1) + (n-2) + \\cdots + 1 = \\frac{(n-1)n}{2}$$"
   ]
  },
  {
   "cell_type": "markdown",
   "metadata": {
    "slideshow": {
     "slide_type": "slide"
    }
   },
   "source": [
    "### 예제: 최악 시간복잡도 분석"
   ]
  },
  {
   "cell_type": "markdown",
   "metadata": {
    "slideshow": {
     "slide_type": "slide"
    }
   },
   "source": [
    "#### 교환정렬 알고리즘의 $W(n)$ 구하기 : 교환 기준\n",
    "\n",
    "* 단위연산: 교환하는 연산 (`S[j]`와 `S[i]`의 교환)\n",
    "* 입력크기: 정렬할 항목의 수 $n$"
   ]
  },
  {
   "cell_type": "markdown",
   "metadata": {
    "slideshow": {
     "slide_type": "subslide"
    }
   },
   "source": [
    "* 최악의 경우 분석:\n",
    "    * 조건문의 결과에 따라서 교환 연산의 실행여부 결정\n",
    "    * 최악의 경우\n",
    "        * 조건문이 항상 참(true)이 되는 경우\n",
    "        * 즉, 입력 배열이 꺼꾸로 정렬되어 있는 경우\n",
    "        * 이때, 조건문 실행 횟수와 동일하게 실행됨.\n",
    "        \n",
    "        $$W(n) = \\frac{(n-1)n}{2}$$"
   ]
  },
  {
   "cell_type": "markdown",
   "metadata": {
    "slideshow": {
     "slide_type": "slide"
    }
   },
   "source": [
    "#### 순차검색 알고리즘의 $W(n)$ 구하기: 항목 비교 연산 기준\n",
    "\n",
    "* 단위연산: 리스트(배열) `S`의 항목과 값 `x`와의 비교연산\n",
    "    * `S[location] != x`\n",
    "* 입력크기: 리스트(배열) 크기 $n$"
   ]
  },
  {
   "cell_type": "markdown",
   "metadata": {
    "slideshow": {
     "slide_type": "subslide"
    }
   },
   "source": [
    "* 최악의 경우 분석:\n",
    "    * `x`가 리스트(배열)의 마지막 항목이거나, 리스트(배열)에 포함되지 않은 경우,\n",
    "        단위연산이 $n$번 수행된다. 즉, \n",
    "    \n",
    "        $$W(n) = n$$"
   ]
  },
  {
   "cell_type": "markdown",
   "metadata": {
    "slideshow": {
     "slide_type": "fragment"
    }
   },
   "source": [
    "* __주의:__ 입력(`S`와 `x`)에 따라서 검색횟수가 달라지므로, \n",
    "    일정 시간복잡도 분석 불가능."
   ]
  },
  {
   "cell_type": "markdown",
   "metadata": {
    "slideshow": {
     "slide_type": "slide"
    }
   },
   "source": [
    "### 예제: 평균 시간복잡도 분석"
   ]
  },
  {
   "cell_type": "markdown",
   "metadata": {
    "slideshow": {
     "slide_type": "slide"
    }
   },
   "source": [
    "#### 순차검색 알고리즘의 $A(n)$ 구하기: 항목 비교 연산 기준\n",
    "\n",
    "* 단위연산: 리스트(배열) `S`의 항목과 값 `x`와의 비교연산\n",
    "    * `S[location] != x`\n",
    "* 입력크기: 리스트(배열) 크기 $n$"
   ]
  },
  {
   "cell_type": "markdown",
   "metadata": {
    "slideshow": {
     "slide_type": "subslide"
    }
   },
   "source": [
    "* 평균의 경우 분석 (경우 1)\n",
    "    * 가정\n",
    "        * `x`가 리스트(배열) `S`안에 있음\n",
    "        * 리스트(배열)의 항목이 모두 다름.\n",
    "        * `x`가 리스트(배열)의 특정 위치에 있을 확률 동일, 즉 $1/n$. \n",
    "            단, $n$은 리스트(배열) `S`의 길이.\n",
    "            \n",
    "    * `x`가 리스트(배열)의 $k$ 번째 있다면, \n",
    "        `S`를 찾기 위해서 수행하는 단위연산의 횟수는 $k$.\n",
    "       \n",
    "    * 따라서 다음이 성립\n",
    "    "
   ]
  },
  {
   "cell_type": "markdown",
   "metadata": {
    "slideshow": {
     "slide_type": "subslide"
    }
   },
   "source": [
    "\\begin{align*}\n",
    "A(n) &= \\sum_{k=1}^{n} \\Big( k \\times \\frac{1}{n} \\Big) \\\\\n",
    "    &= \\frac{1}{n} \\times \\sum_{k=1}^{n} k \\\\\n",
    "    &= \\frac{1}{n} \\times \\frac{n(n+1)}{2} \\\\\n",
    "    &= \\frac{n+1}{2}\n",
    "\\end{align*}"
   ]
  },
  {
   "cell_type": "markdown",
   "metadata": {
    "slideshow": {
     "slide_type": "slide"
    }
   },
   "source": [
    "#### 순차검색 알고리즘의 $A(n)$ 구하기 (경우 2)\n",
    "\n",
    "* 가정\n",
    "    * `x`가 리스트(배열) `S` 안에 없을 수도 있음.\n",
    "    * `x`가 리스트(배열) `S` 안에 있을 확률: $p$\n",
    "* `x`가 배열에 없을 확률: $1-p$\n",
    "* `x`가 리스트(배열)의 $k$ 번째 항목일 확률: $p/n$\n",
    "* 따라서 다음이 성립."
   ]
  },
  {
   "cell_type": "markdown",
   "metadata": {
    "slideshow": {
     "slide_type": "fragment"
    }
   },
   "source": [
    "\\begin{align*}\n",
    "A(n) & = \\sum_{k=1}^{n} \\Big(k\\times \\frac{p}{n} \\Big) + n\\, (1-p) \\\\\n",
    "& = \\frac{p}{n} \\times \\frac{n(n+1)}{2} + n\\, (1-p) \\\\\n",
    "& = n \\Big( 1- \\frac{p}{2} \\Big) + \\frac{p}{2}\n",
    "\\end{align*}"
   ]
  },
  {
   "cell_type": "markdown",
   "metadata": {
    "slideshow": {
     "slide_type": "fragment"
    }
   },
   "source": [
    "* $p=1$일 때: \n",
    "    \n",
    "$$A(n) = (n+1)/2$$"
   ]
  },
  {
   "cell_type": "markdown",
   "metadata": {
    "slideshow": {
     "slide_type": "fragment"
    }
   },
   "source": [
    "* $p=\\frac 1 2$일 때: \n",
    "\n",
    "$$A(n) = \\frac{3n+1}{4}$$"
   ]
  },
  {
   "cell_type": "markdown",
   "metadata": {
    "slideshow": {
     "slide_type": "slide"
    }
   },
   "source": [
    "### 예제: 최선 시간복잡도 분석"
   ]
  },
  {
   "cell_type": "markdown",
   "metadata": {
    "slideshow": {
     "slide_type": "slide"
    }
   },
   "source": [
    "#### 교환정렬 알고리즘의 $B(n)$ 구하기 : 교환 기준\n",
    "\n",
    "* 단위연산: 교환하는 연산 (`S[j]`와 `S[i]`의 교환)\n",
    "* 입력크기: 정렬할 항목의 수 $n$"
   ]
  },
  {
   "cell_type": "markdown",
   "metadata": {
    "slideshow": {
     "slide_type": "subslide"
    }
   },
   "source": [
    "* 최선의 경우 분석:\n",
    "    * 조건문의 결과에 따라서 교환 연산의 실행여부 결정\n",
    "    * 최선의 경우\n",
    "        * 조건문이 항상 거짓(false)이 되는 경우\n",
    "        * 즉, 입력 배열이 이미 오름차순(비내림차순)으로 정렬되어 있는 경우\n",
    "        * 이때, 교환이 전혀 발생하지 않음.\n",
    "        * 따라서 $B(n) = 0$."
   ]
  },
  {
   "cell_type": "markdown",
   "metadata": {
    "slideshow": {
     "slide_type": "slide"
    }
   },
   "source": [
    "#### 순차검색 알고리즘의 $B(n)$ 구하기: 항목 비교 연산 기준\n",
    "\n",
    "* 단위연산: 리스트(배열) `S`의 항목과 값 `x`와의 비교연산\n",
    "    * `S[location] != x`\n",
    "* 입력크기: 리스트(배열) 크기 $n$"
   ]
  },
  {
   "cell_type": "markdown",
   "metadata": {
    "slideshow": {
     "slide_type": "subslide"
    }
   },
   "source": [
    "* 최선의 경우 분석:\n",
    "    * `x`가 `S[0]`일 때, 입력의 크기에 상관없이 단위연산이 한 번 수행\n",
    "    * 따라서 $B(n)=1$."
   ]
  },
  {
   "cell_type": "markdown",
   "metadata": {
    "slideshow": {
     "slide_type": "slide"
    }
   },
   "source": [
    "## 4절 차수"
   ]
  },
  {
   "cell_type": "markdown",
   "metadata": {
    "slideshow": {
     "slide_type": "slide"
    }
   },
   "source": [
    "## 복잡도의 표기법\n",
    "* $O$\n",
    "    * Big $O$,  asymptotic upper bound\n",
    "\n",
    "* $\\Omega$\n",
    "    * Omega,  asymptotic lower bound\n",
    "\n",
    "* $\\Theta$\n",
    "    * Theta, order, asymptotic tight bound ($O \\cap \\Omega$)"
   ]
  },
  {
   "cell_type": "markdown",
   "metadata": {
    "slideshow": {
     "slide_type": "slide"
    }
   },
   "source": [
    "## 대표적인 복잡도 카테고리\n",
    "\n",
    "* $\\Theta(\\lg n)$\n",
    "\n",
    "* $\\Theta(n)$ : 1차 (linear time algorithm)\n",
    "\n",
    "* $\\Theta(n \\lg n)$\n",
    "\n",
    "* $\\Theta(n^2)$ : 2차 (quadratic time)\n",
    "\n",
    "* $\\Theta(n^3)$ : 3차 (cubic time)\n",
    "\n",
    "* $\\Theta(2^n)$ : 지수 (exponential time)\n",
    "\n",
    "* $\\Theta(n!)$"
   ]
  },
  {
   "cell_type": "markdown",
   "metadata": {
    "slideshow": {
     "slide_type": "slide"
    }
   },
   "source": [
    "## 최고차 항이 궁극적으로 지배한다\n",
    "\n",
    "<div align=\"center\"><img src=\"images/algo01-05.png\" width=\"600\"/></div>\n",
    "\n",
    "* $g(n) = 5 n^2 + 100 n + 20 \\in \\theta(n^2) \\equiv$ order of $n^2$"
   ]
  },
  {
   "cell_type": "markdown",
   "metadata": {
    "slideshow": {
     "slide_type": "slide"
    }
   },
   "source": [
    "## 복잡도 함수의 증가율\n",
    "\n",
    "<div align=\"center\"><img src=\"images/algo01-06.png\" width=\"300\"/></div>"
   ]
  },
  {
   "cell_type": "markdown",
   "metadata": {
    "slideshow": {
     "slide_type": "slide"
    }
   },
   "source": [
    "## 시간복잡도별 실행시간 비교\n",
    "\n",
    "<div align=\"center\"><img src=\"images/algo01-07.png\" width=\"700\"/></div>"
   ]
  },
  {
   "cell_type": "markdown",
   "metadata": {
    "slideshow": {
     "slide_type": "slide"
    }
   },
   "source": [
    "## Big $O$ 표기법\n",
    "\n",
    "* 정의 : 점근적 상한 (Asymptotic Upper Bound)\n",
    "\n",
    "    * 분석된 복잡도함수 g(n)이 어떤 함수  f(n)에 대해서 $g(n)\\in O(f(n))$.\n",
    "    * $n \\ge N$인 모든 정수 $n$에 대해서 $g(n) \\le c \\times f(n)$이 \n",
    "        성립하는 실수 $c > 0$와 음이 아닌 정수 $N$이 존재한다.\n",
    "\n",
    "* $g(n) \\in O(f(n))$ 읽는 방법:\n",
    "    * $g(n)$의 점근적 상한은  $f(n)$이다.\n",
    "    * Asymptotic upper bound of g(n) is f(n).\n",
    "\n",
    "* 의미:\n",
    "    * 입력 크기 n에 대해서 이 알고리즘의 수행시간은 \n",
    "        궁극적으로  f(n)보다 나쁘지는 않다."
   ]
  },
  {
   "cell_type": "markdown",
   "metadata": {
    "slideshow": {
     "slide_type": "slide"
    }
   },
   "source": [
    "## Big $O$ 표기법 (Cont)\n",
    "\n",
    "<div align=\"center\"><img src=\"images/algo01-08.png\" width=\"300\"/></div>"
   ]
  },
  {
   "cell_type": "markdown",
   "metadata": {
    "slideshow": {
     "slide_type": "slide"
    }
   },
   "source": [
    "## Big $O$ 표기법 (예)\n",
    "\n",
    "* 어떤 함수 g(n)이 $O(n^2)$에 속한다는 말은\n",
    "    * 함수g(n)은 궁극에 가서는 (즉, 어떤 N값 이후부터는) \n",
    "        어떤 2차 함수 cn2 보다는 작은 값을 가지게 된다는 것을 뜻한다.\n",
    "        (그래프 상에서는 아래에 위치)\n",
    "* $n^2+10n \\in O(n^2)$?\n",
    "    * $n \\ge 10$인 모든 정수 $n$에 대해서 $n^2+10n \\le 2n^2$이 성립한다. \n",
    "        그러므로 $c = 2$와 $N = 10$을 선택하면, 'Big $O$'의 정의에 의해서\n",
    "        $n^2+10n \\in O(n^2)$이라고 결론지을 수 있다.\n",
    "    * $n \\ge 1$인 모든 정수 $n$에 대해서 $n^2+10n \\le n^2+10n^2 = 11n^2$이\n",
    "        성립한다. 그러므로 $c = 11$와 $N = 1$을 선택하면, \n",
    "        '큰 $O$'의 정의에 의해서 $n^2+10n \\in O(n^2)$이라고 결론지을 수 있다."
   ]
  },
  {
   "cell_type": "markdown",
   "metadata": {
    "slideshow": {
     "slide_type": "slide"
    }
   },
   "source": [
    "## Big $O$ 표기법 (예) (Cont)\n",
    "\n",
    "* $2n^2$과 $n^2 + 10 n$의 비교\n",
    "\n",
    "<div align=\"center\"><img src=\"images/algo01-09.png\" width=\"300\"/></div>"
   ]
  },
  {
   "cell_type": "markdown",
   "metadata": {
    "slideshow": {
     "slide_type": "slide"
    }
   },
   "source": [
    "## Big $O$ 표기법 (예) (Cont)\n",
    "\n",
    "* $5n^2 \\in O(n^2)$ ?\n",
    "    * $c=5$와 $N=0$을 선택하면, $n \\ge 0$인 모든 정수 $n$에 대해서 \n",
    "        $5n^2 \\le 5n^2$이 성립한다.\n",
    "\n",
    "* $T(n) = n(n-1)/2$ ?\n",
    "    * $n \\ge 0$인 모든 정수 $n$에 대해서 $n(n-1)/2 \\le n^2/2$이 성립한다.\n",
    "        그러므로 $c = 1/2$과 $N=0$을 선택하면, \n",
    "        $T(n) \\in O(n^2)$이라고 결론지을 수 있다.\n",
    "\n",
    "* $n^2 \\in O(n^2+10n)$ ?\n",
    "    * $n \\ge 0$인 모든 정수 $n$에 대해서, $n^2 \\le 1 \\times (n^2+10n)$이 \n",
    "        성립한다. 그러므로, $c=1$와 $N=0$을 선택하면, \n",
    "        $n^2 \\in O(n^2+10n)$이라고 결론지을 수 있다."
   ]
  },
  {
   "cell_type": "markdown",
   "metadata": {
    "slideshow": {
     "slide_type": "slide"
    }
   },
   "source": [
    "## Big $O$ 표기법 (예) (Cont)\n",
    "\n",
    "* $n \\in O(n^2)$ ?\n",
    "    * $n \\ge 1$인 모든 정수 $n$에 대해서, $n \\le 1 \\times n^2$이 성립한다.\n",
    "        그러므로, $c=1$와 $N=1$을 선택하면, \n",
    "        $n \\in O(n^2)$이라고 결론지을 수 있다.\n",
    "\n",
    "* $n^3 \\in O(n^2)$ ?\n",
    "    * $n \\ge N$인 모든 $n$에 대해서 $n^3 \\le c\\cdot n^2$이 \n",
    "    성립하는 $c$와 $N$값은 존재하지 않는다. \n",
    "    즉, 양변을 $n^2$으로 나누면, $n \\le c$가 되는데,\n",
    "    $c$를 아무리 크게 잡더라도 그 보다 더 큰 $n$이 존재한다.\n",
    "    (성립하지 않음)"
   ]
  },
  {
   "cell_type": "markdown",
   "metadata": {
    "slideshow": {
     "slide_type": "slide"
    }
   },
   "source": [
    "## Big  $O$ 표기법 (예) (Cont)\n",
    "\n",
    "* $O(n^2)$: $cn^2$ 보다 작은 값을 가지는 모든 함수.\n",
    "\n",
    "<div align=\"center\"><img src=\"images/algo01-10.png\" width=\"300\"/></div>"
   ]
  },
  {
   "cell_type": "markdown",
   "metadata": {
    "slideshow": {
     "slide_type": "slide"
    }
   },
   "source": [
    "## $\\Omega$ 표기법\n",
    "\n",
    "* 정의: 점근적 하한 (Asymptotic Lower Bound)\n",
    "    * 분석된 복잡도함수 g(n)이 어떤 함수  f(n)에 대해서 $g(n)\\in \\Omega(f(n))$\n",
    "    * $n \\ge N$인 모든 정수 $n$에 대해서 $g(n) \\ge c\\cdot f(n)$이 성립하는 \n",
    "        실수 $c > 0$와 음이 아닌 정수 $N$이 존재한다.\n",
    "\n",
    "* $g(n) \\in \\Omega(f(n))$ 읽는 방법: \n",
    "    * $g(n)$의 점근적 하한은 $f(n)$이다.\n",
    "    * Asymptotic lower bound of $g(n)$ is $f(n)$.\n",
    "\n",
    "* 의미:\n",
    "    * 입력 크기 n에 대해서 이 알고리즘의 수행시간은 궁극적으로 \n",
    "        $f(n)$보다 효율적이지는 못하다."
   ]
  },
  {
   "cell_type": "markdown",
   "metadata": {
    "slideshow": {
     "slide_type": "slide"
    }
   },
   "source": [
    "## $\\Omega$ 표기법\n",
    "\n",
    "<div align=\"center\"><img src=\"images/algo01-11.png\" width=\"300\"/></div>"
   ]
  },
  {
   "cell_type": "markdown",
   "metadata": {
    "slideshow": {
     "slide_type": "slide"
    }
   },
   "source": [
    "## $\\Omega$ 표기법 : 예\n",
    "\n",
    "* 어떤 함수 $g(n)$이 $\\Omega(n^2)$에 속한다는 말은\n",
    "    * 그 함수는 궁극에 가서는 (즉 어떤 $N$ 값 이후부터는) \n",
    "        어떤 2차 함수 $c\\cdot n^2$의 값보다는 큰 값을 가지게 된다는 것을 \n",
    "        뜻한다(그래프 상에서는 위에 위치).\n",
    "\n",
    "* $n^2 + 10n \\in \\Omega(n^2)$ ?\n",
    "    * $n \\ge 0$인 모든 정수 $n$에 대해서 $n^2+10n \\ge n^2$이 성립한다. \n",
    "        그러므로 $c = 1$와 $N = 0$을 선택하면, $n^2 +10n \\in \\Omega(n^2)$이라고 \n",
    "        결론지을 수 있다.\n",
    "\n",
    "* $5n^2 \\in \\Omega(n^2)$ ?\n",
    "    * $n \\ge 0$인 모든 정수 $n$에 대해서, $5n^2 \\ge 1\\cdot n^2$이 성립한다. \n",
    "        그러므로, $c=1$와 $N=0$을 선택하면, $5n^2 \\in \\Omega(n^2)$이라고 \n",
    "        결론지을 수 있다."
   ]
  },
  {
   "cell_type": "markdown",
   "metadata": {
    "slideshow": {
     "slide_type": "slide"
    }
   },
   "source": [
    "## $\\Omega$ 표기법 : 예 (계속)\n",
    "\n",
    "* $T(n) = n(n-1)/2$ ?\n",
    "\n",
    "    * $n \\ge 2$인 모든 $n$에 대해서 $n-1 \\ge  n/2$이 성립한다. \n",
    "        그러므로, $n \\ge 2$인 모든 $n$에 대해서 \n",
    "        $n(n-1)/2 \\ge n/2 \\cdot n/2 = 1/4 n^2$이 성립한다.\n",
    "        따라서 $c = 1/4$과 $N = 2$를 선택하면,\n",
    "        $T(n) \\in \\Omega(n^2)$이라고 결론지을 수 있다.\n",
    "\n",
    "* $n^3 \\in \\Omega(n^2)$ ?\n",
    "\n",
    "    * $n \\ge 1$인 모든 정수 $n$에 대해서, $n^3 \\ge 1 \\cdot n^2$ 이 성립한다.\n",
    "        그러므로, $c = 1$과 $N = 1$을 선택하면, \n",
    "        $n^3 \\in \\Omega(n^2)$이라고 결론지을 수 있다. \n",
    "        "
   ]
  },
  {
   "cell_type": "markdown",
   "metadata": {
    "slideshow": {
     "slide_type": "slide"
    }
   },
   "source": [
    "## $\\Omega$ 표기법 : 예 (계속)\n",
    "\n",
    "* $n \\in \\Omega(n^2)$ ? \n",
    "    * 모순유도에 의한 증명(Proof by contradiction)\n",
    "    * $n \\in \\Omega(n^2)$ 이라고 가정. \n",
    "        그러면 $n \\ge N$인 모든 정수 $n$에 대해서, \n",
    "        $n \\ge c \\cdot n^2$이 성립하는 실수 $c > 0$, 그리고 음이 아닌 정수 $N$이 존재한다. \n",
    "        위의 부등식의 양변을 $c\\cdot n$으로 나누면 $1/c \\ge n$이 된다. \n",
    "        그러나 이 부등식은 절대로 성립할 수 없다. \n",
    "        따라서 위의 가정은 모순이다."
   ]
  },
  {
   "cell_type": "markdown",
   "metadata": {
    "slideshow": {
     "slide_type": "slide"
    }
   },
   "source": [
    "## $\\Omega$ 표기법: 예 (Cont)\n",
    "\n",
    "* $\\Omega(n^2)$\n",
    "\n",
    "<div align=\"center\"><img src=\"images/algo01-12.png\" width=\"300\"/></div>"
   ]
  },
  {
   "cell_type": "markdown",
   "metadata": {
    "slideshow": {
     "slide_type": "slide"
    }
   },
   "source": [
    "## $\\Theta$ 표기법\n",
    "\n",
    "* 정의 : Asymptotic Tight Bound\n",
    "\n",
    "    * 분석된 복잡도함수 $g(n)$이 어떤 함수 $f(n)$에 대해서 \n",
    "        $\\Theta(f(n)) = O(f(n)) \\cap \\Omega(f(n))$.\n",
    "\n",
    "    * $n \\ge N$인 모든 정수 $n$에 대해서 $c \\cdot f(n) \\ge g(n) \\le d \\cdot f(n)$이\n",
    "        성립하는 실수 $c > 0$와 $d > 0$, 그리고 음이 아닌 정수 $N$이 존재한다. \n",
    "\n",
    "* $g(n) \\in \\Theta(f(n))$ 읽는 방법: \n",
    "    * $g(n)$의 차수(order=asymptotic tight bound)는 $f(n)$이다.\n",
    "    * Asymptotic tight bound of g(n) is f(n).\n",
    "\n",
    "* 예 : $T(n) = n (n-1) /2$은  $O(n^2)$이면서 $\\Omega(n^2)$이다.\n",
    "    따라서 $T(n) = \\Theta(n^2)$."
   ]
  },
  {
   "cell_type": "markdown",
   "metadata": {
    "slideshow": {
     "slide_type": "slide"
    }
   },
   "source": [
    "## $\\Theta$ 표기법\n",
    "\n",
    "<div align=\"center\"><img src=\"images/algo01-13.png\" width=\"300\"/></div>"
   ]
  },
  {
   "cell_type": "markdown",
   "metadata": {
    "slideshow": {
     "slide_type": "slide"
    }
   },
   "source": [
    "## $\\Theta(n^2)$\n",
    "\n",
    "<div align=\"center\"><img src=\"images/algo01-14.png\" width=\"300\"/></div>"
   ]
  },
  {
   "cell_type": "markdown",
   "metadata": {
    "slideshow": {
     "slide_type": "slide"
    }
   },
   "source": [
    "## 작은(Small) $o$ 표기법\n",
    "\n",
    "* 정의 : 작은 $o$\n",
    "\n",
    "    * 분석된 복잡도 함수 $g(n)$이 어떤 함수 $f(n)$에 대해서 \n",
    "        $g(n) \\in o(f(n))$\n",
    "    * 어떤 $N$값 이후부터는 모든 실수 $c > 0$에 대해서 $g(n) \\le c \\cdot f(n)$\n",
    "\n",
    "* 참고: $g(n) \\in o(f(n))$은 \"$g(n)$은 $f(n)$의 작은 오($o$)\"라고 한다. "
   ]
  },
  {
   "cell_type": "markdown",
   "metadata": {
    "slideshow": {
     "slide_type": "slide"
    }
   },
   "source": [
    "## 큰 $O$  vs 작은 $o$\n",
    "\n",
    "* 큰 $O$와의 차이점\n",
    "    * 큰 $O$: 실수 $c >0$ 중에서 하나만 성립하여도 됨\n",
    "    * 작은 $o$: 모든 실수 $c >0$에 대해서 성립하여야 함\n",
    "\n",
    "* $g(n) \\in o(f(n))$은 쉽게 설명하자면\n",
    "    * $g(n)$이 궁극적으로 $f(n)$보다 '훨씬' 낫다(좋다)는 의미이다. "
   ]
  },
  {
   "cell_type": "markdown",
   "metadata": {
    "slideshow": {
     "slide_type": "slide"
    }
   },
   "source": [
    "## 작은 $o$ 표기법 : 예\n",
    "\n",
    "* $n \\in o(n^2)$ ?\n",
    "\n",
    "* 증명: \n",
    "\n",
    "    $c > 0$이라고 하자. $n \\ge N$인 모든 $n$에 대해서 $n \\le c \\cdot n^2$이 성립하는\n",
    "    $N$을 찾아야 한다. \n",
    "    이 부등식의 양변을 $c c\\dot n$으로 나누면 $1/c \\le n$을 얻는다. \n",
    "    따라서 $N \\ge 1/c$가 되는 어떤 $N$을 찾으면 된다. \n",
    "    여기서 $N$의 값은 $c$에 의해 좌우된다. \n",
    "\n",
    "    예를 들어 만약 $c=0.0001$이라고 하면, $N$의 값은 최소한 $10,000$이 되어야 한다. \n",
    "    즉, $n \\ge 10,000$인 모든 $n$에 대해서 $n \\le 0.0001 \\cdot n^2$이 성립한다. "
   ]
  },
  {
   "cell_type": "markdown",
   "metadata": {
    "slideshow": {
     "slide_type": "slide"
    }
   },
   "source": [
    "## 작은 $o$ 표기법 : 예 (계속)\n",
    "\n",
    "* $n$이 $o(5n)$ ?\n",
    "\n",
    "* 모순 유도에 의한 증명: $c = 1/6$이라고 하자.\n",
    "\n",
    "    $n \\in o(5n)$이라고 가정하면, \n",
    "    $n \\ge N$인 모든 정수 $n$에 대해서,\n",
    "    $ n \\le 1/6 \\cdot 5\\cdot n \\le 5/6 \\cdot n$이 \n",
    "    성립하는 음이 아닌 정수 $N$이 존재해야 한다. \n",
    "\n",
    "    그러나 그런 $N$은 절대로 있을 수 없다. \n",
    "    따라서 위의 가정은 모순이다."
   ]
  },
  {
   "cell_type": "markdown",
   "metadata": {
    "slideshow": {
     "slide_type": "slide"
    }
   },
   "source": [
    "## 극한(limit)을 이용하여 차수를 구하는 방법\n",
    "\n",
    "\n",
    "* 정의 :\n",
    "\n",
    "    $$\n",
    "    \\lim_{n\\to \\infty} \\frac{g(n)}{f(n)} =\n",
    "    \\begin{cases}\n",
    "    c & \\text{for some $c>0$ if } g(n) \\in \\Theta(f(n))\\,, \\\\\n",
    "    0 & \\text{if } g(n) \\in o(f(n)) = O(f(n)) \\backslash \\Theta(f(n))\\,,\\\\\n",
    "    \\infty & \\text{if } g(n) \\in \\Omega(f(n)) \\backslash \\Theta(f(n))\\,.\n",
    "    \\end{cases}\n",
    "    $$\n",
    "\n",
    "* 예 : 다음이 성립함을 보이시오.\n",
    "    * $\\frac{n^2}{2} \\in o(n^3)$\n",
    "        * 이유: $\\lim_{n\\to \\infty} \\frac{n^2/2}{n^3} = \\lim_{n\\to \\infty} \\frac{1}{2n} = 0$\n",
    "    * $b>a>0$일 때, $a^n \\in o(b^n)$ \n",
    "        * 이유: $0 < \\frac a b < 1$.\n",
    "            따라서\n",
    "            $\\lim_{n\\to \\infty} \\frac{a^n}{b^n} = \\lim_{n\\to \\infty} \\big( \\frac{a}{b}\\big)^n = 0$.\n",
    "\t                                      "
   ]
  },
  {
   "cell_type": "markdown",
   "metadata": {
    "slideshow": {
     "slide_type": "slide"
    }
   },
   "source": [
    "## 로피탈(L'Hopital)의 법칙\n",
    "\n",
    "* 정리: 로피탈(L'Hopital)의 법칙:\n",
    "\n",
    "    $\\lim_{n\\to \\infty} f(n) = \\lim_{n\\to \\infty} g(n) = \\infty$ 이면\n",
    "    $\\lim_{n\\to \\infty} \\frac{g(n)}{f(n)} = \\lim_{n\\to \\infty} \\frac{g'(n)}{f'(n)}$이다.\n",
    "\n",
    "* 예 : 다음이 성립함을 보이시오.\n",
    "    * $\\lg n \\in o(n)$, 이유는\n",
    "        $$\n",
    "        \\lim_{n\\to \\infty} \\frac{\\lg n}{n} =\n",
    "        \\lim_{n\\to \\infty} \\Big( \\frac{\\frac{1}{n\\, \\ln 2}}{1} \\Big) = 0\n",
    "        $$\n",
    "    * $\\log_a n \\in \\Theta(\\log_b n)$, 이유는\n",
    "        $$\n",
    "        \\lim_{n\\to \\infty} \\frac{\\log_a n}{\\log_b n} =\n",
    "        \\lim_{n\\to \\infty} \\Big( \\frac{\\frac{1}{n\\, \\ln a}}{\\frac{1}{n \\cdot \\ln b}} \\Big) =\n",
    "        \\frac{\\log b}{\\log a} > 0\n",
    "        $$        "
   ]
  },
  {
   "cell_type": "markdown",
   "metadata": {
    "slideshow": {
     "slide_type": "slide"
    }
   },
   "source": [
    "## 차수의 주요 성질  I\n",
    "\n",
    "1. $g(n) \\in O(f(n))$ iff $f(n) \\in \\Omega(g(n))$.\n",
    "* $g(n) \\in \\Theta(f(n))$ iff $f(n) \\in \\Theta(g(n))$.\n",
    "* $b > 1$이고 $a > 1$이면, $\\log_a n \\in \\Theta(\\log_b n)$은 항상 성립. \n",
    "    다시 말하면 로그(logarithm) 복잡도 함수는 모두 같은\n",
    "    카테고리에 속한다. 따라서 통상 $\\Theta(\\lg n)$으로 표시한다.\n",
    "* $b > a > 0$이면, $a^n \\in o(b^n)$. \n",
    "    다시 말하면, 지수(exponential) 복잡도 함수가 모두 같은 카테고리 안에 있는 것은 아니다."
   ]
  },
  {
   "cell_type": "markdown",
   "metadata": {
    "slideshow": {
     "slide_type": "slide"
    }
   },
   "source": [
    "## 차수의 주요 성질  II\n",
    "\n",
    "5. $a > 0$인 모든 $a$에 대해서, $a^n \\in o(n!)$. \n",
    "\t다시 말하면, $n!$은 어떤 지수 복잡도 함수보다도 나쁘다.\n",
    "\n",
    "6. 복잡도 함수를 다음 순으로 나열해 보자.\n",
    "\t\n",
    "   $$\n",
    "   \\Theta(\\lg n), \\Theta(n), \\Theta(n\\, \\lg n), \\Theta(n^2), \n",
    "   \\Theta(n^j), \\Theta(n^k), \\Theta(a^n), \\Theta(b^n), \\Theta(n!) \n",
    "   $$\n",
    "\t\n",
    "    여기서 $k>j>2$이고 $b>a>1$이다. \n",
    "    \n",
    "    복잡도 함수 $g(n)$이 $f(n)$을 포함한 카테고리의 왼쪽에 위치하면, $g(n) \\in o(f(n))$.\n",
    "                        \n",
    "7. $c \\ge 0$, $d > 0$, $g(n) \\in O(f(n))$, 그리고 $h(n) \\in \\Theta(f(n))$ 이면, \n",
    "    \n",
    "    $$\n",
    "    c \\cdot g(n) + d \\cdot h(n) \\in \\Theta(f(n))\n",
    "    $$\n",
    " \n",
    "    * ex) $5 n + 3 \\lg n + 10 n\\, \\lg n + 7 n^2 \\in \\Theta(n^2)$."
   ]
  }
 ],
 "metadata": {
  "celltoolbar": "Slideshow",
  "kernelspec": {
   "display_name": "Python 3",
   "language": "python",
   "name": "python3"
  },
  "language_info": {
   "codemirror_mode": {
    "name": "ipython",
    "version": 3
   },
   "file_extension": ".py",
   "mimetype": "text/x-python",
   "name": "python",
   "nbconvert_exporter": "python",
   "pygments_lexer": "ipython3",
   "version": "3.7.6"
  }
 },
 "nbformat": 4,
 "nbformat_minor": 4
}
